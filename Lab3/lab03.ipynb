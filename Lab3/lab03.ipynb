{
 "cells": [
  {
   "cell_type": "markdown",
   "metadata": {},
   "source": [
    "# Lab 3: Tables\n",
    "\n",
    "Welcome to lab 3!  This week, we'll learn about *tables*, which let us work with multiple arrays of data about the same things.  Tables are described in [Chapter 6](https://inferentialthinking.com/chapters/06/Tables.html) of the text.\n",
    "\n",
    "First, set up the imports by running the cell below."
   ]
  },
  {
   "cell_type": "code",
   "execution_count": 1,
   "metadata": {},
   "outputs": [],
   "source": [
    "import numpy as np\n",
    "import pandas as pd"
   ]
  },
  {
   "cell_type": "markdown",
   "metadata": {},
   "source": [
    "## 1. Introduction\n",
    "\n",
    "For a collection of things in the world, an array is useful for describing a single attribute of each thing. For example, among the collection of US States, an array could describe the number of registered voters of each. Data frames extend this idea by describing multiple attributes for each element of a collection. You can think of an array as just one column in a spreadsheet, while a data frame is the entire spreadsheet."
   ]
  },
  {
   "cell_type": "markdown",
   "metadata": {},
   "source": [
    "Suppose we want to answer this question:\n",
    "\n",
    "> When did world population cross 6 billion?\n",
    "\n",
    "You could technically answer this question just from staring at the arrays, but it's a bit convoluted, since you would have to count the position where the population first crossed 6 billion, then find the corresponding element in the years array. In cases like these, it might be easier to put the data into a data frame, a 2-dimensional type of dataset, like a spreadsheet. \n",
    "\n",
    "The expression below:\n",
    "\n",
    "- Uses the data science library `pandas`, which is Python's most popular library for data structures and data analysis.\n",
    "- Loads the spreadsheet `world_population.csv` and names it `population`.\n",
    "- Displays the first five rows of `population` using `.head()`."
   ]
  },
  {
   "cell_type": "code",
   "execution_count": 2,
   "metadata": {},
   "outputs": [
    {
     "data": {
      "text/html": [
       "<div>\n",
       "<style scoped>\n",
       "    .dataframe tbody tr th:only-of-type {\n",
       "        vertical-align: middle;\n",
       "    }\n",
       "\n",
       "    .dataframe tbody tr th {\n",
       "        vertical-align: top;\n",
       "    }\n",
       "\n",
       "    .dataframe thead th {\n",
       "        text-align: right;\n",
       "    }\n",
       "</style>\n",
       "<table border=\"1\" class=\"dataframe\">\n",
       "  <thead>\n",
       "    <tr style=\"text-align: right;\">\n",
       "      <th></th>\n",
       "      <th>Index</th>\n",
       "      <th>Position</th>\n",
       "      <th>Year</th>\n",
       "      <th>Population</th>\n",
       "    </tr>\n",
       "  </thead>\n",
       "  <tbody>\n",
       "    <tr>\n",
       "      <th>0</th>\n",
       "      <td>0</td>\n",
       "      <td>Item #1</td>\n",
       "      <td>1950</td>\n",
       "      <td>2557628654</td>\n",
       "    </tr>\n",
       "    <tr>\n",
       "      <th>1</th>\n",
       "      <td>1</td>\n",
       "      <td>Item #2</td>\n",
       "      <td>1951</td>\n",
       "      <td>2594939877</td>\n",
       "    </tr>\n",
       "    <tr>\n",
       "      <th>2</th>\n",
       "      <td>2</td>\n",
       "      <td>Item #3</td>\n",
       "      <td>1952</td>\n",
       "      <td>2636772306</td>\n",
       "    </tr>\n",
       "    <tr>\n",
       "      <th>3</th>\n",
       "      <td>3</td>\n",
       "      <td>Item #4</td>\n",
       "      <td>1953</td>\n",
       "      <td>2682053389</td>\n",
       "    </tr>\n",
       "    <tr>\n",
       "      <th>4</th>\n",
       "      <td>4</td>\n",
       "      <td>Item #5</td>\n",
       "      <td>1954</td>\n",
       "      <td>2730228104</td>\n",
       "    </tr>\n",
       "  </tbody>\n",
       "</table>\n",
       "</div>"
      ],
      "text/plain": [
       "   Index Position  Year  Population\n",
       "0      0  Item #1  1950  2557628654\n",
       "1      1  Item #2  1951  2594939877\n",
       "2      2  Item #3  1952  2636772306\n",
       "3      3  Item #4  1953  2682053389\n",
       "4      4  Item #5  1954  2730228104"
      ]
     },
     "execution_count": 2,
     "metadata": {},
     "output_type": "execute_result"
    }
   ],
   "source": [
    "population = pd.read_csv(\"world_population.csv\")\n",
    "population.head()"
   ]
  },
  {
   "cell_type": "markdown",
   "metadata": {},
   "source": [
    "Now the data are all together in a single table! It's much easier to parse this data--if you need to know what the population was in 1959, for example, you can tell from a single glance. We'll revisit this table later."
   ]
  },
  {
   "cell_type": "markdown",
   "metadata": {},
   "source": [
    "## 2. Discovering Voter Files"
   ]
  },
  {
   "cell_type": "markdown",
   "metadata": {},
   "source": [
    "The file `sample_voter_file.csv` contains a random sample of 100 people from the Ohio voter file. You could download the full data from https://www6.sos.state.oh.us/ords/f?p=111:1. This file contains the following fields:\n",
    "\n",
    "- A unique identifier from the State of Ohio.\n",
    "- The voter's full name.\n",
    "- The voter's date of birth.\n",
    "- The date the voter registered to vote.\n",
    "- The voter's party registration (D = Democrat; R = Republican; missing = Independent).\n",
    "- The voter's full address.\n",
    "- Whether or not the voter voted in the 2012 general election (general11062012, where X = voted and missing = did not vote).\n",
    "- Whether or not the voter voted in the 2014 general election (general11042014, where X = voted and missing = did not vote).\n",
    "\n",
    "We are going to load this as a data frame called `vf`. Fix the below code to read in the file called `sample_voter_file.csv`."
   ]
  },
  {
   "cell_type": "code",
   "execution_count": 3,
   "metadata": {},
   "outputs": [
    {
     "ename": "AttributeError",
     "evalue": "'ellipsis' object has no attribute 'head'",
     "output_type": "error",
     "traceback": [
      "\u001b[0;31m---------------------------------------------------------------------------\u001b[0m",
      "\u001b[0;31mAttributeError\u001b[0m                            Traceback (most recent call last)",
      "\u001b[0;32m<ipython-input-3-067829e48ab4>\u001b[0m in \u001b[0;36m<module>\u001b[0;34m\u001b[0m\n\u001b[1;32m      1\u001b[0m \u001b[0mvf\u001b[0m \u001b[0;34m=\u001b[0m \u001b[0;34m...\u001b[0m\u001b[0;34m\u001b[0m\u001b[0;34m\u001b[0m\u001b[0m\n\u001b[0;32m----> 2\u001b[0;31m \u001b[0mvf\u001b[0m\u001b[0;34m.\u001b[0m\u001b[0mhead\u001b[0m\u001b[0;34m(\u001b[0m\u001b[0;34m)\u001b[0m\u001b[0;34m\u001b[0m\u001b[0;34m\u001b[0m\u001b[0m\n\u001b[0m\u001b[1;32m      3\u001b[0m \u001b[0;31m# Scroll to the right on the table to see more output.\u001b[0m\u001b[0;34m\u001b[0m\u001b[0;34m\u001b[0m\u001b[0;34m\u001b[0m\u001b[0m\n",
      "\u001b[0;31mAttributeError\u001b[0m: 'ellipsis' object has no attribute 'head'"
     ]
    }
   ],
   "source": [
    "vf = ...\n",
    "vf.head()\n",
    "# Scroll to the right on the table to see more output."
   ]
  },
  {
   "cell_type": "markdown",
   "metadata": {},
   "source": [
    "### Analyzing datasets\n",
    "With just a few lines of code, we can answer some interesting questions about the voter file.\n",
    "\n",
    "If we want just the data on how many people voted in 2014, we can get an array that contains the data in that column. Note that `pandas` assigns the value of `NaN` to missing values. This just means that the cell of the spreadsheet has no value in it. In the case of the column `general11042014`, an individual is assigned \"X\" if they voted or missing otherwise."
   ]
  },
  {
   "cell_type": "code",
   "execution_count": null,
   "metadata": {},
   "outputs": [],
   "source": [
    "voted_2014 = vf[\"general11042014\"]\n",
    "voted_2014"
   ]
  },
  {
   "cell_type": "markdown",
   "metadata": {},
   "source": [
    "Out of these 100 people, how many voted in 2014? To determine this, we can count the number of occurrences of 'X' in the list. We can use the `value_counts()` method from pandas for this purpose. This method counts the occurrences of unique values and provides a quick summary of the data distribution in a column, making it a valuable tool for exploratory data analysis. The code below demonstrates how to use `value_counts()` for this task."
   ]
  },
  {
   "cell_type": "code",
   "execution_count": null,
   "metadata": {},
   "outputs": [],
   "source": [
    "voted_2014 = vf['general11042014'].value_counts()\n",
    "voted_2014"
   ]
  },
  {
   "cell_type": "markdown",
   "metadata": {},
   "source": [
    "To explain the syntax, we are counting how many records have each value in the column `general11042014`.\n",
    "\n",
    "**Question 1.** How many people voted in 2012?"
   ]
  },
  {
   "cell_type": "code",
   "execution_count": null,
   "metadata": {},
   "outputs": [],
   "source": [
    "voted_2012 = ...\n",
    "voted_2012"
   ]
  },
  {
   "cell_type": "markdown",
   "metadata": {},
   "source": [
    "Having a bunch of X's and missing values isn't really helpful. Can we recode our variables so a voter receives a \"1\" if they voted and a \"0\" if they did not vote? In the below code, we are creating a new column called `voted_14` in our data frame called `vf`. We first use `np.where` to determine where `general11042014` is set as X. If a certain row is set as X, `voted_14` is given a 1. Otherwise, it is given a 0."
   ]
  },
  {
   "cell_type": "code",
   "execution_count": null,
   "metadata": {},
   "outputs": [],
   "source": [
    "vf['voted_14'] = np.where(vf['general11042014'] == \"X\", 1, 0)\n",
    "vf['voted_14'].value_counts()"
   ]
  },
  {
   "cell_type": "markdown",
   "metadata": {},
   "source": [
    "**Question 2.** Can you create a variable called `voted_12` similar to `voted_14`?"
   ]
  },
  {
   "cell_type": "code",
   "execution_count": null,
   "metadata": {},
   "outputs": [],
   "source": [
    "vf['voted_12'] = ...\n",
    "vf['voted_12'].value_counts()"
   ]
  },
  {
   "cell_type": "markdown",
   "metadata": {},
   "source": [
    "### Finding pieces of a dataset\n",
    "Suppose you're interested in learning how voter turnout in 2014 differed by political party. We can create what is called a cross tab. A cross tab is simply a summary table of the data. To achieve this, we can use the `crosstab()` function from pandas. Since we imported pandas as `pd`, we can call the function using `pd.crosstab()` and provide it with two or more columns. In the below example, the columns summarize registered voters and the columns count how many voters of each party either did or did not vote in 2014."
   ]
  },
  {
   "cell_type": "code",
   "execution_count": null,
   "metadata": {},
   "outputs": [],
   "source": [
    "pd.crosstab(vf.party_affiliation, vf.voted_14)"
   ]
  },
  {
   "cell_type": "markdown",
   "metadata": {},
   "source": [
    "But something seems wrong about this summary table. It only contains `2 + 15 + 22 = 39` records. Doesn't our data frame have 100 records?\n",
    "\n",
    "We are missing all the voters who are neither registered Democrats nor registered Republicans!\n",
    "\n",
    "We can recode `party_affiliation` so missing data is set to I, for Independents. Then we can re-run our crosstab."
   ]
  },
  {
   "cell_type": "code",
   "execution_count": null,
   "metadata": {},
   "outputs": [],
   "source": [
    "vf['party_affiliation'] = vf['party_affiliation'].fillna(\"I\")\n",
    "pd.crosstab(vf.party_affiliation, vf.voted_14)"
   ]
  },
  {
   "cell_type": "markdown",
   "metadata": {},
   "source": [
    "**Question 3.** How many Democrats, Republicans, and Independents voted in 2012? Fill in the below code, replacing the ellipsis with **code** (do not manually enter the correct number, but use code to calculate this number) that counts how many of each type of voter voted in 2012?\n",
    "\n",
    "HINT: I would suggest familiarizing yourselves with crosstabs and \".loc\". See e.g., https://www.shanelynn.ie/select-pandas-dataframe-rows-and-columns-using-iloc-loc-and-ix. Remember, it is fine (expected!) that you will Google for help. That's how you learn to code. "
   ]
  },
  {
   "cell_type": "code",
   "execution_count": null,
   "metadata": {},
   "outputs": [],
   "source": [
    "print(\"The number of Democrats who voted in 2012 is\", ...)\n",
    "print(\"The number of Republicans who voted in 2012 is\", ...)\n",
    "print(\"The number of Independents who voted in 2012 is\", ...)"
   ]
  },
  {
   "cell_type": "markdown",
   "metadata": {},
   "source": [
    "### Other Pandas Operations\n",
    "\n",
    "Pandas is an incredibly powerful library. You can learn a lot by reading short introductions like this excellent [10 Minutes to Pandas](https://pandas.pydata.org/pandas-docs/stable/10min.html). Give it a read and return to it whenever you are stuck. Remember, you can use the `help()` function to get detailed information about various pandas modules, such as `help(pd.DataFrame.query)`. Reviewing the examples in the documentation can be especially helpful, as they demonstrate different scenarios and practical uses for the modules.\n",
    "\n",
    "Here are just a few examples of what you can do with Pandas."
   ]
  },
  {
   "cell_type": "code",
   "execution_count": null,
   "metadata": {},
   "outputs": [],
   "source": [
    "# Display the first 5 records using head() of every Independent who voted in 2014.\n",
    "vf.query('voted_14 == 1 & party_affiliation == \"I\"').head()"
   ]
  },
  {
   "cell_type": "code",
   "execution_count": null,
   "metadata": {},
   "outputs": [],
   "source": [
    "# Rename party_affiliation to party_reg\n",
    "vf = vf.rename(columns={'party_affiliation': 'party_reg'})\n",
    "vf.head()"
   ]
  },
  {
   "cell_type": "markdown",
   "metadata": {},
   "source": [
    "### Dates in Pandas\n",
    "\n",
    "Dates are common in a lot of data science applications. But dates are also very annoying. As a human, we know that these are all equivalent:\n",
    "- January 1, 2019\n",
    "- 1 January 2019\n",
    "- 1/1/2019\n",
    "- 1/1/19\n",
    "\n",
    "But even as a human, is 1/2/2019 referring to 2 January 2019 or is it 1 February 2019? What about 1/2/19? Is that referring to 2019, 1919, 1819, etc.? Dates can be a real pain!\n",
    "\n",
    "Luckily, Pandas has a way to standardize all dates. The below code gives Pandas a particular date as a string and let's Pandas know how that string is formatted."
   ]
  },
  {
   "cell_type": "code",
   "execution_count": null,
   "metadata": {},
   "outputs": [],
   "source": [
    "# Define dates as strings\n",
    "date_str1 = 'Wednesday, June 6, 2018'\n",
    "date_str2 = '06-06-2018'\n",
    "date_str3 = '6/6/18'\n",
    "\n",
    "# Define dates as datetime objects\n",
    "date_dt1 = pd.to_datetime(date_str1, format='%A, %B %d, %Y')\n",
    "date_dt2 = pd.to_datetime(date_str2, format='%m-%d-%Y')\n",
    "date_dt3 = pd.to_datetime(date_str3, format='%m/%d/%y')\n",
    "\n",
    "# Print converted dates\n",
    "print(date_dt1)\n",
    "print(date_dt2)\n",
    "print(date_dt3)"
   ]
  },
  {
   "cell_type": "markdown",
   "metadata": {},
   "source": [
    "**Explanation format:**\n",
    "- `%A` - Full weekday name (e.g., \"Wednesday\")\n",
    "- `%B` - Full month name (e.g., \"August\")\n",
    "- `%d` - Day of the month as a zero-padded number (e.g., \"21\")\n",
    "- `%Y` - Four-digit year (e.g., \"2024\")\n",
    "- `%m` - Month as a zero-padded number (e.g., \"08\")\n",
    " \n",
    "**To sum up:**\n",
    "- `%A, %B %d, %Y`: Full descriptive date including weekday, month name, day, and year.\n",
    "- `%m-%d-%Y`: Numeric date with month, day, and year separated by hyphens.\n",
    "- `%m/%d/%y`: Numeric date with month, day, and two-digit year separated by slashes."
   ]
  },
  {
   "cell_type": "markdown",
   "metadata": {},
   "source": [
    "**Question 4.** Create a column called `age`.\n",
    "\n",
    "In the first line, convert `date_of_birth` to a `datetime` object, like above.\n",
    "In the second line, take the difference between today's year and the year in which somebody was born to create a column called `age`. You might want to explore `.dt.year` [here](https://stackoverflow.com/questions/28990256/python-pandas-time-series-year-extraction). You can find out how to get the current year [here](https://stackoverflow.com/questions/46508895/calculating-age-from-date-time-format-in-python-pandas?noredirect=1&lq=1). In the third line, type `vf['age'].head()` to display the first five rows of this column."
   ]
  },
  {
   "cell_type": "code",
   "execution_count": null,
   "metadata": {},
   "outputs": [],
   "source": [
    "vf['date_of_birth'] = ...\n",
    "vf['age'] = ...\n",
    "vf['age'].head()"
   ]
  },
  {
   "cell_type": "markdown",
   "metadata": {},
   "source": [
    "**Question 5.** How many people are 50 or older?\n",
    "\n",
    "*Hint 1*: See [this](https://stackoverflow.com/a/18317067) to get the number of rows (length).\n",
    "*Hint 2*: Remember `query` from above!"
   ]
  },
  {
   "cell_type": "code",
   "execution_count": null,
   "metadata": {},
   "outputs": [],
   "source": [
    "..."
   ]
  },
  {
   "cell_type": "markdown",
   "metadata": {},
   "source": [
    "**Question 6.** What percent of people are 50 or older?"
   ]
  },
  {
   "cell_type": "code",
   "execution_count": null,
   "metadata": {},
   "outputs": [],
   "source": [
    "..."
   ]
  },
  {
   "cell_type": "markdown",
   "metadata": {},
   "source": [
    "**Question 7.** Here's a challenge: Find the number of people who were born in *even* years.\n",
    "\n",
    "*Hint:* The operator `%` computes the remainder when dividing by a number.  So `5 % 2` is 1 and `6 % 2` is 0.  A number is even if the remainder is 0 when you divide by 2.\n",
    "\n",
    "*Hint 2:* `%` can be used on arrays, operating elementwise like `+` or `*`.  So `make_array(5, 6, 7) % 2` is `array([1, 0, 1])`.\n",
    "\n",
    "*Hint 3:* Create a column called \"Year_Remainder\" that's the remainder when each person's year of birth is divided by 2. Then create a new column called \"Even_Year\" that is set to 1 if \"Year_Remainder\" is 0 and is set to 0 if \"Year_Remainder\" is not 0. Remember `np.where` from above."
   ]
  },
  {
   "cell_type": "code",
   "execution_count": null,
   "metadata": {
    "for_assignment_type": "student"
   },
   "outputs": [],
   "source": [
    "vf['Year_of_Birth'] = ...\n",
    "vf['Year_Remainder'] = ...\n",
    "vf['even_year'] = ...\n",
    "\n",
    "# Do not change any of the below code.\n",
    "# If anything breaks, make sure your variables are named the same as below.\n",
    "# Use this .head() to check your work.\n",
    "print(vf[['date_of_birth', 'Year_of_Birth', 'Year_Remainder', 'even_year']].head())\n",
    "# This will print your final answer.\n",
    "print(\"The number of people born in even years is: \", len(vf.query('even_year == 1')))"
   ]
  },
  {
   "cell_type": "markdown",
   "metadata": {},
   "source": [
    "# Congratulations!\n",
    "\n",
    "You are done with the lab. Before you finish and submit, please fill out this brief evaluation:\n",
    "\n",
    "- I spent around XXXX hours on this lab,.\n",
    "- This lab was (too easy, too hard, just about the right difficulty).\n",
    "\n",
    "**To turn in your lab, you will need to submit a PDF through Canvas.**"
   ]
  },
  {
   "cell_type": "code",
   "execution_count": null,
   "metadata": {},
   "outputs": [],
   "source": []
  }
 ],
 "metadata": {
  "anaconda-cloud": {},
  "kernelspec": {
   "display_name": "Python 3 (ipykernel)",
   "language": "python",
   "name": "python3"
  },
  "language_info": {
   "codemirror_mode": {
    "name": "ipython",
    "version": 3
   },
   "file_extension": ".py",
   "mimetype": "text/x-python",
   "name": "python",
   "nbconvert_exporter": "python",
   "pygments_lexer": "ipython3",
   "version": "3.12.5"
  }
 },
 "nbformat": 4,
 "nbformat_minor": 4
}
