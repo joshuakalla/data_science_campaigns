{
  "cells": [
    {
      "cell_type": "markdown",
      "metadata": {
        "id": "YYVt9JFyD_ob"
      },
      "source": [
        "# Lab 6: Analyzing an Experiment\n",
        "\n",
        "Welcome to lab 6! This week, we will go over analyzing an experiment. Much of this experiment is covered in [Chapter 12](https://www.inferentialthinking.com/chapters/12/Comparing_Two_Samples.html) of the textbook as well as Chapter 2 of Gerber and Green."
      ]
    },
    {
      "cell_type": "markdown",
      "metadata": {
        "id": "TyH_Y8DmD_od"
      },
      "source": [
        "For this lab, we are going to be re-analyzing the experiment presented in \"[The Generalizability of Social Pressure Effects on Turnout Across High-Salience Electoral Contexts: Field Experimental Evidence From 1.96 Million Citizens in 17 States](https://journals.sagepub.com/doi/10.1177/1532673X16686556)\" by Alan Gerber, Greg Huber, Albert Fang, and Andrew Gooch.\n",
        "\n",
        "Here is the abstract of the paper:\n",
        "\n",
        "> Prior experiments show that campaign communications revealing subjects’ past turnout and applying social pressure to vote (the “Self” treatment) increase turnout. However, nearly all existing studies are conducted in low-salience elections, raising concerns that published findings are not generalizable and are an artifact of sample selection and publication bias. Addressing the need for further replication in high-salience elections, we analyze a field experiment involving 1.96 million subjects where a nonpartisan campaign randomly sent Self treatment mailers, containing a subject’s vote history and a comparison of each subject’s history with their state median registrant’s turnout behavior, in high-salience elections across 17 states in 2014. Sending the Self mailer increases turnout by 0.7 points or 2.2%. This effect is largely consistent across states, with somewhat larger effects observed in states with lower ex ante election salience. Our study provides precise evidence that social pressure effects on turnout are generalizable.\n",
        "\n",
        "Voters were randomly assigned to a control group that received no mail or to a treatment group that received the below mailer, with the goal of increasing their turnout in 2014:\n",
        "\n",
        "![](https://raw.githubusercontent.com/joshuakalla/data_science_campaigns/master/Colab/Lab6/mailer.png)\n",
        "\n",
        "We are going to analyze the data from South Dakota. In this lab, you will answer three broad questions:\n",
        "\n",
        "- Was the experiment properly implemented?\n",
        "- What was the average effect of the mail on increasing turnout in 2014?\n",
        "- Was the mail especially effective or ineffective among certain subgroups?\n",
        "\n",
        "**All of your answers in this lab should have a mix of both code and text. You need to make sure you interpret what you find.**\n"
      ]
    },
    {
      "cell_type": "markdown",
      "source": [
        "# Before You Begin: Disable AI Assistance\n",
        "\n",
        "To ensure you learn the concepts and complete this assignment based on your own understanding, you are *strongly* encouraged to turn off Google Colab's built-in generative AI features before you begin. This will also help you prepare for the midterms and final project.\n",
        "\n",
        "**Follow these steps:**\n",
        "1.  Go to the **Edit** menu at the top of the page.\n",
        "2.  Click on **Notebook settings**.\n",
        "3.  Check the box next to **\"Hide generative AI features\"**.\n",
        "5.  Click **Save**.\n",
        "\n",
        "This will prevent Google Gemini from suggesting or writing code for you, allowing you to focus on solving the problems yourself."
      ],
      "metadata": {
        "id": "ceITVmT9Tjhs"
      }
    },
    {
      "cell_type": "markdown",
      "source": [
        "# Set-up"
      ],
      "metadata": {
        "id": "cx-zM5woTZ-g"
      }
    },
    {
      "cell_type": "code",
      "source": [
        "import numpy as np\n",
        "import pandas as pd\n",
        "import matplotlib.pyplot as plt"
      ],
      "metadata": {
        "id": "sDqkUHO2Tgvf"
      },
      "execution_count": null,
      "outputs": []
    },
    {
      "cell_type": "markdown",
      "source": [
        "To begin, let's load the data. The most important variables are `treat` (1 = received mail; 0 = control) and `voted14` (1 = voted in 2014; 0 = didn't vote)."
      ],
      "metadata": {
        "id": "Iqk_uzrFVDyg"
      }
    },
    {
      "cell_type": "code",
      "execution_count": null,
      "metadata": {
        "id": "Rn5uZvY-D_od"
      },
      "outputs": [],
      "source": [
        "data = pd.read_csv(\"https://raw.githubusercontent.com/joshuakalla/data_science_campaigns/master/Colab/Lab6/gerber_huber_2014_data.csv\")\n",
        "data.head()"
      ]
    },
    {
      "cell_type": "markdown",
      "metadata": {
        "id": "1JzaQXPOD_od"
      },
      "source": [
        "## 1. Was the experiment properly implemented?\n",
        "\n",
        "**Question 1.** Describe who was in the experiment using the **pre-treatment covariates**. What are their demographics? Do you think this is representative of voters in South Dakota (see [Census data](https://www.census.gov/library/visualizations/2016/comm/citizen_voting_age_population/cb16-tps18_sd.html))? Why or why not? Compare and contrast `voted10` and `voted11`. (Hint: see what elections were taking place during which years.)\n",
        "\n",
        "Note that this answer should **not** be separated by control/treat, but overall for the entire data."
      ]
    },
    {
      "cell_type": "markdown",
      "metadata": {
        "id": "SpCT-hNxD_oe"
      },
      "source": [
        "**Question 2.** In expectation, if the experiment was properly implemented, the treatment and control groups should look similar on observed demographics. Check to see if they do. Make a table where the columns are treatment and control and the rows are means for each **pre-treatment covariate** included in the data. Can you calculate these means by writing a function rather than taking the mean by hand many times? (This should be separate by control/treat). You can use [groupby](https://realpython.com/pandas-groupby/) in your answer to this question."
      ]
    },
    {
      "cell_type": "markdown",
      "metadata": {
        "id": "oKJDkSVID_oe"
      },
      "source": [
        "The table might look like this:\n",
        "\n",
        "|  | Treatment | Control |\n",
        "|-|-|-|\n",
        "| voted08 | Calculate treatment group mean for voted08 and put here. | Calculate control group mean for voted08 and put here. |\n",
        "| age | Calculate treatment group mean for age and put here. | Calculate control group mean for age and put here. |\n",
        "| etc. | Calculate treatment group mean for remaining variables and put here. | Calculate control group mean for remaining variables and put here. |\n",
        "\n",
        "Before answering, let me give you three hints.\n",
        "\n",
        "1. To create a data frame called `table_name` in pandas with column `voted_09`, you would use the following sample code:"
      ]
    },
    {
      "cell_type": "code",
      "execution_count": null,
      "metadata": {
        "id": "WLZl65klD_oe"
      },
      "outputs": [],
      "source": [
        "table_name = ([])\n",
        "table_name = pd.DataFrame(data = table_name)\n",
        "table_name['c1'] = data[\"voted09\"]\n",
        "table_name"
      ]
    },
    {
      "cell_type": "markdown",
      "metadata": {
        "id": "e-IIRXbWD_oe"
      },
      "source": [
        "2. When using the apply function, make sure you understand the axis argument:\n",
        "`table_name.apply(function)` will apply the function along the columns of your table.\n",
        "`table_name.apply(function, axis = 1)` will apply the function along the rows of your table.\n",
        "\n",
        "3. An elegant way to solve this would be through the use of the groupby command in Pandas. ([Example](https://towardsdatascience.com/pandas-groupby-explained-453692519d0))\n"
      ]
    },
    {
      "cell_type": "code",
      "execution_count": null,
      "metadata": {
        "id": "NVUW0t4nD_of"
      },
      "outputs": [],
      "source": [
        "# Answer the question here."
      ]
    },
    {
      "cell_type": "markdown",
      "metadata": {
        "id": "lXcfSIYmIYhu"
      },
      "source": [
        "**Apply Function Explained:**\n",
        "\n",
        "In the previous lab, we needed to set `raw=True` when using the `apply` function. This is because, by default, apply converts each row into a Series object. However, in Lab 5, the function we were working with couldn't evaluate a Series object.\n",
        "\n",
        "By setting `raw=True`, each row or column is passed as a NumPy array instead of a Series. This can be useful in the following cases:\n",
        "\n",
        "1. Your function works with array-like data (such as NumPy arrays) rather than Series objects.\n",
        "2. Your function doesn’t need to reference column names.\n",
        "\n",
        "If you use `raw=False` (the default setting), your function will receive a Series, which includes both the data values and their associated labels (i.e., column names).\n",
        "\n",
        "Here’s an example to illustrate this:"
      ]
    },
    {
      "cell_type": "code",
      "execution_count": null,
      "metadata": {
        "id": "FXzJoyAWIYJt"
      },
      "outputs": [],
      "source": [
        "# Create a DataFrame\n",
        "df = pd.DataFrame({\n",
        "    'A': [1, 2, 3],\n",
        "    'B': [4, 5, 6]\n",
        "})\n",
        "\n",
        "# Define a function that works with a Series (default behavior)\n",
        "def my_function(row):\n",
        "    return row['A'] + row['B']\n",
        "\n",
        "# Apply the function row-wise (axis=1) using Series objects\n",
        "# (raw=False, default behaviour)\n",
        "result_series = df.apply(my_function, axis=1)\n",
        "print(\"Result with Series (raw=False):\")\n",
        "print(result_series)\n"
      ]
    },
    {
      "cell_type": "code",
      "execution_count": null,
      "metadata": {
        "id": "xYc5ovW4JXNF"
      },
      "outputs": [],
      "source": [
        "# Let's try to use apply with the same function but setting raw=True\n",
        "result_raw = df.apply(my_function, axis=1, raw=True)\n",
        "print(\"\\nResult with Series data (raw=True):\")\n",
        "print(result_raw)"
      ]
    },
    {
      "cell_type": "code",
      "execution_count": null,
      "metadata": {
        "id": "cMOTTIGHJiVt"
      },
      "outputs": [],
      "source": [
        "# The previous function should not work as the function is expeting a Series.\n",
        "# Let's see how we can modify the function to work with raw data:\n",
        "def my_function_raw(row):\n",
        "    return row[0] + row[1]\n",
        "\n",
        "# Apply the function row-wise (axis=1) using raw data (raw=True)\n",
        "result_raw = df.apply(my_function_raw, axis=1, raw=True)\n",
        "print(\"\\nResult with raw data (raw=True):\")\n",
        "print(result_raw)"
      ]
    },
    {
      "cell_type": "markdown",
      "metadata": {
        "id": "LNu35gRxD_of"
      },
      "source": [
        "## 2. What was the average effect of the mail on increasing turnout in 2014?"
      ]
    },
    {
      "cell_type": "markdown",
      "metadata": {
        "id": "vZqwq0bVD_of"
      },
      "source": [
        "**Question 3.** What was the average turnout rate in 2014 for the treatment group? For the control group? What was the average treatment effect of the mail?"
      ]
    },
    {
      "cell_type": "code",
      "execution_count": null,
      "metadata": {
        "id": "ruXfGenDD_of"
      },
      "outputs": [],
      "source": [
        "# Answer the question here."
      ]
    },
    {
      "cell_type": "markdown",
      "metadata": {
        "id": "nZAeYXZTD_og"
      },
      "source": [
        "**Question 4.** Can you find a way to visually display your answer?"
      ]
    },
    {
      "cell_type": "code",
      "execution_count": null,
      "metadata": {
        "id": "tuTQ8h7JD_og"
      },
      "outputs": [],
      "source": [
        "# Answer the question here."
      ]
    },
    {
      "cell_type": "markdown",
      "metadata": {
        "id": "7Y0x0pN9D_og"
      },
      "source": [
        "## Is this effect statistically significant?\n",
        "Before answering this question, please be sure to re-read this section: https://inferentialthinking.com/chapters/12/1/AB_Testing.html. Note that this code uses the `datascience` library in Python, while we instead need to use `pandas` and `NumPy`. You will need to make some changes to the code from this textbook in order to get it to run for you."
      ]
    },
    {
      "cell_type": "code",
      "execution_count": null,
      "metadata": {
        "id": "OB-83fm2H-vp"
      },
      "outputs": [],
      "source": []
    },
    {
      "cell_type": "markdown",
      "metadata": {
        "id": "i1yKSFNvD_og"
      },
      "source": [
        "**Question 5.** What is the null hypothesis? What is the alternative hypothesis? What is the test statistic you will use to determine if the effect is statistically significant? Use permutation tests."
      ]
    },
    {
      "cell_type": "markdown",
      "metadata": {
        "id": "PKSVlPIFD_og"
      },
      "source": [
        "***Answer the question here (this needs text; no code. To write text double click on this text block):***\n",
        "\n",
        "\n"
      ]
    },
    {
      "cell_type": "markdown",
      "metadata": {
        "id": "D3GiC3fbD_oh"
      },
      "source": [
        "**Question 6.** Was the effect of the mail statistically significant?"
      ]
    },
    {
      "cell_type": "code",
      "execution_count": null,
      "metadata": {
        "id": "KVEP8ynDD_oh"
      },
      "outputs": [],
      "source": [
        "# Answer the question here."
      ]
    },
    {
      "cell_type": "markdown",
      "metadata": {
        "id": "F4cvdptxD_oh"
      },
      "source": [
        "## 4. Was the mail especially effective or ineffective among certain subgroups?"
      ]
    },
    {
      "cell_type": "markdown",
      "metadata": {
        "id": "fN75g9WSD_oh"
      },
      "source": [
        "**Question 7.** Pick 3 different demographic groups that you think might have bigger or smaller treatment effects than the overall average. First, explain why you chose these three groups. What is your theory? Can you justify your expectations by pointing to prior research?"
      ]
    },
    {
      "cell_type": "markdown",
      "metadata": {
        "id": "oyj8W7vND_oh"
      },
      "source": [
        "***Answer the question here (this needs text; no code. To write text double click on this text block):***\n",
        "\n"
      ]
    },
    {
      "cell_type": "markdown",
      "metadata": {
        "id": "xSHFolg6D_oi"
      },
      "source": [
        "**Question 8.** Now looking at the data, do these 3 groups have substantially bigger or smaller treatment effects than the overall avereage? Explain what you find."
      ]
    },
    {
      "cell_type": "code",
      "execution_count": null,
      "metadata": {
        "id": "XrI8spRxD_oi"
      },
      "outputs": [],
      "source": [
        "# Answer the question here."
      ]
    },
    {
      "cell_type": "markdown",
      "metadata": {
        "id": "VYEYLicED_oi"
      },
      "source": [
        "**Question 9.** Can you find a way to visually display your answer?"
      ]
    },
    {
      "cell_type": "code",
      "execution_count": null,
      "metadata": {
        "id": "ubH-kwjoD_oi"
      },
      "outputs": [],
      "source": [
        "# Answer the question here."
      ]
    },
    {
      "cell_type": "markdown",
      "metadata": {
        "id": "K0vzTNNND_oi"
      },
      "source": [
        "\n",
        "# Congratulations!\n",
        "\n",
        "You are done with the lab. Before you finish and submit, please fill out this brief evaluation:\n",
        "\n",
        "- I spent around XXXX hours on this lab,.\n",
        "- This lab was (too easy, too hard, just about the right difficulty).\n",
        "\n",
        "All assignments in the course will be distributed as notebooks like this one, and you will submit your work as a PDF.  \n",
        "\n",
        "# How to Convert your Colab notebook to a PDF and download it\n",
        "\n",
        "Follow these instructions exactly to make sure your notebook is correctly converted to a PDF and saved to your computer.\n",
        "\n",
        "---\n",
        "\n",
        "## 1. Check everything is in order and all the code runs\n",
        "\n",
        "Before starting the conversion process, make sure your notebook is complete and error-free.\n",
        "\n",
        "1. **Open your notebook** in Google Colab.\n",
        "2. **Save your work**:\n",
        "   - Go to **File → Save** or press `Ctrl + S` (Windows) / `Cmd + S` (Mac).\n",
        "   - This ensures that all your recent changes are stored.\n",
        "3. **Run all the cells** to confirm there are no errors:\n",
        "   - In the top menu, select **Cell → Run All**.\n",
        "   - Colab will execute every cell in order.\n",
        "4. **Watch for errors**:\n",
        "   - If you see any red error messages, fix them before proceeding.\n",
        "   - A notebook with errors will **not** convert to PDF correctly.\n",
        "5. Once all cells run without errors, you can proceed to the next step.\n",
        "\n",
        "---\n",
        "\n",
        "## 2. Make sure your notebook is saved in Google Drive and named correctly\n",
        "Before converting, confirm that your notebook is stored in your Google Drive inside the `Colab Notebooks` folder.\n",
        "\n",
        "1. Look at the top-left corner of the Colab page — you’ll see the notebook’s current name next to two yellow circle icons.\n",
        "2. Rename the file by directly clicking on the name, type the new name, and press **Enter**.  \n",
        "  - Please rename the notebook to LASTNAME_FIRSTNAME_LAB#.pdf. So for this lab, I would call it Alberto_Stefanelli_Lab6.ipynb.\n",
        "  - The name must end with `.ipynb`\n",
        "3. Ensure the notebook is in your Google Drive (not in Colab’s temporary session storage):  \n",
        "   - In the menu, click **File → Locate in Drive**.  \n",
        "   - This will open the folder in Drive where the notebook is stored.  \n",
        "   - If it’s not in `My Drive/Colab Notebooks`, move it there for easier access.\n",
        "\n",
        "---\n",
        "\n",
        "## 3. Install the required tools\n",
        "\n",
        "We wrote some code (see below) to automatically convert your Notebook to PDF. When you run the provided code cell, the first step will install some essential pieces of software (i.e., Pandoc and Latex) inside your Colab environment. There is no need to exactly understand what is happening\n",
        "\n",
        "**Important:**\n",
        "- This installation will take between 2 to 5 minutes.\n",
        "- Do **not** close or refresh the Colab page while it runs.\n",
        "\n",
        "---\n",
        "\n",
        "## 4. Mount your Google Drive in Colab\n",
        "\n",
        "After installing the requirements, the code will ask Colab to **mount** your Google Drive. You can use both your personal or Yale account. This is needed because the notebook you are converting must be saved in Drive before it can be converted to PDF.\n",
        "\n",
        "You will see a pop-up with a **link**:\n",
        "1. Click the link.\n",
        "2. Sign in to your Google account (use the same account where your Colab notebook is saved).\n",
        "3. If prompted, copy the long **authorization code** provided.\n",
        "  - Paste that code into the input box in Colab and press **Enter**.\n",
        "5. This will connect your Google Drive to Colab\n",
        "6. If the link does not appear, make sure your browser is not blocking pop-ups.\n",
        "\n",
        "---\n",
        "\n",
        "## 5. Enter your notebook’s file name\n",
        "\n",
        "The code will now ask to enter your notebook’s exact file name\n",
        "\n",
        "1. Type the **full name** of your notebook, including the `.ipynb` ending.  \n",
        "  - Example: `Alberto_Stefanelli_Lab6.ipynb.`\n",
        "2. Make sure the name matches exactly, including capitalization and underscores.\n",
        "3. Press **Enter**.\n",
        "\n",
        "---\n",
        "\n",
        "## 7. Convert the notebook to PDF and download it\n",
        "\n",
        "The code will convert the notebook file to a pdf. After the PDF is created, your browser will show a download pop-up or automatically save the file to your Downloads folder. You can now open the PDF with any PDF reader. Once you have your PDF and made sure eveything is in order, you can then upload it to Canvas.\n",
        "\n",
        "---\n",
        "\n",
        "## 8. If you see an error:\n",
        "\n",
        "Double-check that:\n",
        "\n",
        "- All cells run without errors\n",
        "- Mounted Google Drive without errors\n",
        "- Saved notebook to Google Drive and not locally or on Github\n",
        "- Entered correct notebook file name with `.ipynb`.\n",
        "- Conversion completed without any errors.\n",
        "- PDF downloaded to your computer (download and pop-ups are not blocked by your browser)\n",
        "\n",
        "\n",
        "**Fallback:** If the PDF export method below fails (for example, due to LaTeX or pandoc errors), you can use https://convert.ploomber.io/ as a fallback option. However, I strongly suggest trying the methods below first and using this fallback only as a last resort.\n",
        "\n",
        "**If you run into any issues, please reach out for help**\n",
        "\n"
      ]
    },
    {
      "cell_type": "code",
      "source": [
        "# Install requirements\n",
        "!apt-get -qq update\n",
        "!apt-get install -y pandoc texlive-xetex texlive-fonts-recommended texlive-plain-generic\n",
        "\n",
        "from google.colab import drive, files\n",
        "\n",
        "# Mount Google Drive\n",
        "drive.mount('/content/drive')\n",
        "\n",
        "# Ask for the notebook name\n",
        "notebook_name = input(\n",
        "    \"Enter your notebook’s exact file name,\\n\"\n",
        "    \"exactly as shown in the top-left corner of the Colab page (next to the two yellow circle icons): \"\n",
        ")\n",
        "\n",
        "# Build paths\n",
        "input_path = f\"/content/drive/MyDrive/Colab Notebooks/{notebook_name}\"\n",
        "output_path = input_path.replace(\".ipynb\", \".pdf\")\n",
        "\n",
        "# Convert to PDF\n",
        "!jupyter nbconvert --to pdf \"{input_path}\"\n",
        "\n",
        "# Download the PDF\n",
        "files.download(output_path)"
      ],
      "metadata": {
        "id": "X0q-qDZiT6m-"
      },
      "execution_count": null,
      "outputs": []
    }
  ],
  "metadata": {
    "anaconda-cloud": {},
    "colab": {
      "provenance": []
    },
    "kernelspec": {
      "display_name": "Python 3 (ipykernel)",
      "language": "python",
      "name": "python3"
    },
    "language_info": {
      "codemirror_mode": {
        "name": "ipython",
        "version": 3
      },
      "file_extension": ".py",
      "mimetype": "text/x-python",
      "name": "python",
      "nbconvert_exporter": "python",
      "pygments_lexer": "ipython3",
      "version": "3.11.4"
    }
  },
  "nbformat": 4,
  "nbformat_minor": 0
}