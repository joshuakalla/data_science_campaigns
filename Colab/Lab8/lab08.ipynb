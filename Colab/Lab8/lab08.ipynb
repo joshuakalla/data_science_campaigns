{
  "cells": [
    {
      "cell_type": "markdown",
      "metadata": {
        "id": "Nfwturm3SC6t"
      },
      "source": [
        "# Lab 8: Experiments and Models\n",
        "\n",
        "---\n",
        "\n",
        "Welcome to lab 8! This week, we will be completing the hiring test that Enroll America used to screen their data analysts. Enroll America was a non-profit group that used data science to help sign people up for health insurance under the Affordable Care Act."
      ]
    },
    {
      "cell_type": "code",
      "source": [
        "# Before You Begin: Disable AI Assistance\n",
        "\n",
        "To ensure you learn the concepts and complete this assignment based on your own understanding, you are *strongly* encouraged to turn off Google Colab's built-in generative AI features before you begin. This will also help you prepare for the midterms and final project.\n",
        "\n",
        "**Follow these steps:**\n",
        "1.  Go to the **Edit** menu at the top of the page.\n",
        "2.  Click on **Notebook settings**.\n",
        "3.  Check the box next to **\"Hide generative AI features\"**.\n",
        "5.  Click **Save**.\n",
        "\n",
        "This will prevent Google Gemini from suggesting or writing code for you, allowing you to focus on solving the problems yourself.\n",
        "\n"
      ],
      "metadata": {
        "id": "B5YG4J6NSGGK"
      },
      "execution_count": null,
      "outputs": []
    },
    {
      "cell_type": "markdown",
      "source": [
        "# Set-up"
      ],
      "metadata": {
        "id": "_s5gntuhSDul"
      }
    },
    {
      "cell_type": "code",
      "execution_count": null,
      "metadata": {
        "id": "dbY1w2TrSC6v"
      },
      "outputs": [],
      "source": [
        "import numpy as np\n",
        "import pandas as pd\n",
        "import matplotlib.pyplot as plt\n",
        "# Bring in model data for Part 1\n",
        "data_model = pd.read_csv(\"https://raw.githubusercontent.com/joshuakalla/data_science_campaigns/master/Colab/Lab8/ea_test_model_analysis.csv\")\n",
        "data_model_dict = pd.read_csv(\"https://raw.githubusercontent.com/joshuakalla/data_science_campaigns/master/Colab/Lab8/model_data_dict.csv\")\n",
        "# Bring in experiment data for Part 2\n",
        "data_experiment = pd.read_csv(\"https://raw.githubusercontent.com/joshuakalla/data_science_campaigns/master/Colab/Lab8/ea_test_experiment_analysis.csv\")\n",
        "data_experiment_dict = pd.read_csv(\"https://raw.githubusercontent.com/joshuakalla/data_science_campaigns/master/Colab/Lab8/experiment_data_dict.csv\")"
      ]
    },
    {
      "cell_type": "markdown",
      "metadata": {
        "id": "Ejsom0X7SC6w"
      },
      "source": [
        "## Part 1: Model\n",
        "\n",
        "The above file `data_model` contains a dataset that was in part used to build a predictive model identifying an individual’s likelihood of being uninsured (`uninsured_score`). A data dictionary is included in `data_model_dict`. The column `q1_healthcare` contains the results to a survey question asking if the respondent has health insurance or not.\n",
        "\n",
        "Using the dataset, produce an evaluation of the model that will help someone understand how the model works. Some ideas to consider include basic summary information about the model, model validation, cross tabs of interesting demographic groups and useful visualizations. Be sure to calculate and report the accuracy, precision, and recall of the model.\n",
        "\n",
        "First, take a look at the dictionary and the data."
      ]
    },
    {
      "cell_type": "code",
      "execution_count": null,
      "metadata": {
        "id": "tu3bN9lnSC6x"
      },
      "outputs": [],
      "source": [
        "# Here is data_model\n",
        "data_model.head()"
      ]
    },
    {
      "cell_type": "code",
      "execution_count": null,
      "metadata": {
        "id": "8-FVvJy0SC6x"
      },
      "outputs": [],
      "source": [
        "# Set pandas display options to show full content\n",
        "# Make sure nothing is being cut off for you\n",
        "pd.set_option('display.max_colwidth', None)\n",
        "pd.set_option('display.width', None)\n",
        "pd.set_option('display.max_columns', None)\n",
        "\n",
        "# Display the dictionary\n",
        "data_model_dict"
      ]
    },
    {
      "cell_type": "markdown",
      "metadata": {
        "id": "vJXKbe7-SC6x"
      },
      "source": [
        "**Below, evaluate and interpret the model. You need a mix of both code and textual interpretation.** Be sure to calculate and report the accuracy, precision, and recall of the model.\n",
        "\n",
        "You **should not** reverse engineer the model. Instead, think about precision/accuracy/recall as well as helpful visualizations, like from Lab 7. Apply and interpret those terms.\n",
        "\n",
        "Throughout this lab, you are interested in whether or not people lack insurance. To q1_healthcare, I would consider responses 2 or 3 as not having insurance and response 1 as having insurance. You can drop the people who refuse this question."
      ]
    },
    {
      "cell_type": "markdown",
      "metadata": {
        "id": "92hV2_A7SC6x"
      },
      "source": [
        "## Part 2: Experiment\n",
        "\n",
        "The above file `data_experiment` contains a dataset with the results of a randomized controlled experiment conducted by a non-profit organization working on health insurance enrollment. A data dictionary is included in `data_experiment_dict`.\n",
        "\n",
        "For the experiment, the control group was suppressed from receiving any contact from the organization for a month. The treatment group was included in the regular program of the organization, which consists of two forms of contact. Most were called by a field organizer or volunteer and, if contacted, encouraged by phone to enroll in health insurance. Additionally, if an individual was subscribed to the email list they also received several emails a week encouraging them to enroll in health insurance.\n",
        "\n",
        "The most important outcome is whether an individual said they currently have health insurance when surveyed by phone 2 weeks after the end of the experiment. The results to the follow-up survey are in columns Q1 through Q15. Using the dataset, test whether the outreach efforts had any causal effect on insurance status in the treatment group. Is the insurance rate greater in the treatment group than in the control group? Is this difference statistically significant? Remember to use permutation tests, like in Lab 6, Questions 5 and 6. (Hint! You should also review this chapter you read for Lab 6: https://inferentialthinking.com/chapters/12/1/AB_Testing.html. Note that this code uses the `datascience` library in Python, while we instead need to use `pandas` and `NumPy`. You will need to make some changes to the code from this textbook in order to get it to run for you.)\n",
        "\n",
        "First, take a look at the dictionary and the data."
      ]
    },
    {
      "cell_type": "code",
      "execution_count": null,
      "metadata": {
        "id": "Cx_ez3XbSC6x"
      },
      "outputs": [],
      "source": [
        "# Here is data_experiment\n",
        "pd.set_option('display.max_columns', 43) #https://stackoverflow.com/questions/47022070/display-all-dataframe-columns-in-a-jupyter-python-notebook\n",
        "data_experiment.head()"
      ]
    },
    {
      "cell_type": "code",
      "execution_count": null,
      "metadata": {
        "id": "-flSGrr_SC6x"
      },
      "outputs": [],
      "source": [
        "# Here is the dictionary\n",
        "data_experiment_dict"
      ]
    },
    {
      "cell_type": "markdown",
      "metadata": {
        "id": "XwpSO5cESC6y"
      },
      "source": [
        "**Below, analyze the experiment. You need a mix of both code and textual interpretation.**"
      ]
    },
    {
      "cell_type": "markdown",
      "metadata": {
        "id": "04LJZ55oSC6y"
      },
      "source": [
        "## Part 3\n",
        "\n",
        "Based on your analysis from Part 2, briefly propose a follow-up randomized controlled experiment. The proposed test should be designed to expand upon the knowledge derived from the first test."
      ]
    },
    {
      "cell_type": "markdown",
      "metadata": {
        "id": "g10PtVVISC6y"
      },
      "source": [
        "**Enter your proposal here.**"
      ]
    },
    {
      "cell_type": "markdown",
      "metadata": {
        "id": "Qk8_cBK2SC6y"
      },
      "source": [
        "# Congratulations!\n",
        "\n",
        "You are done with the lab. Before you finish and submit, please fill out this brief evaluation:\n",
        "\n",
        "- I spent around XXXX hours on this lab,.\n",
        "- This lab was (too easy, too hard, just about the right difficulty).\n",
        "\n",
        "All assignments in the course will be distributed as notebooks like this one, and you will submit your work as a PDF.  \n",
        "\n",
        "# How to Convert your Colab notebook to a PDF and download it\n",
        "\n",
        "Follow these instructions exactly to make sure your notebook is correctly converted to a PDF and saved to your computer.\n",
        "\n",
        "---\n",
        "\n",
        "## 1. Check everything is in order and all the code runs\n",
        "\n",
        "Before starting the conversion process, make sure your notebook is complete and error-free.\n",
        "\n",
        "1. **Open your notebook** in Google Colab.\n",
        "2. **Save your work**:\n",
        "   - Go to **File → Save** or press `Ctrl + S` (Windows) / `Cmd + S` (Mac).\n",
        "   - This ensures that all your recent changes are stored.\n",
        "3. **Run all the cells** to confirm there are no errors:\n",
        "   - In the top menu, select **Cell → Run All**.\n",
        "   - Colab will execute every cell in order.\n",
        "4. **Watch for errors**:\n",
        "   - If you see any red error messages, fix them before proceeding.\n",
        "   - A notebook with errors will **not** convert to PDF correctly.\n",
        "5. Once all cells run without errors, you can proceed to the next step.\n",
        "\n",
        "---\n",
        "\n",
        "## 2. Make sure your notebook is saved in Google Drive and named correctly\n",
        "Before converting, confirm that your notebook is stored in your Google Drive inside the `Colab Notebooks` folder.\n",
        "\n",
        "1. Look at the top-left corner of the Colab page — you’ll see the notebook’s current name next to two yellow circle icons.\n",
        "2. Rename the file by directly clicking on the name, type the new name, and press **Enter**.  \n",
        "  - Please rename the notebook to LASTNAME_FIRSTNAME_LAB#.pdf. So for this lab, I would call it Alberto_Stefanelli_Lab8.ipynb.\n",
        "  - The name must end with `.ipynb`\n",
        "3. Ensure the notebook is in your Google Drive (not in Colab’s temporary session storage):  \n",
        "   - In the menu, click **File → Locate in Drive**.  \n",
        "   - This will open the folder in Drive where the notebook is stored.  \n",
        "   - If it’s not in `My Drive/Colab Notebooks`, move it there for easier access.\n",
        "\n",
        "---\n",
        "\n",
        "## 3. Install the required tools\n",
        "\n",
        "We wrote some code (see below) to automatically convert your Notebook to PDF. When you run the provided code cell, the first step will install some essential pieces of software (i.e., Pandoc and Latex) inside your Colab environment. There is no need to exactly understand what is happening\n",
        "\n",
        "**Important:**\n",
        "- This installation will take between 2 to 5 minutes.\n",
        "- Do **not** close or refresh the Colab page while it runs.\n",
        "\n",
        "---\n",
        "\n",
        "## 4. Mount your Google Drive in Colab\n",
        "\n",
        "After installing the requirements, the code will ask Colab to **mount** your Google Drive. You can use both your personal or Yale account. This is needed because the notebook you are converting must be saved in Drive before it can be converted to PDF.\n",
        "\n",
        "You will see a pop-up with a **link**:\n",
        "1. Click the link.\n",
        "2. Sign in to your Google account (use the same account where your Colab notebook is saved).\n",
        "3. If prompted, copy the long **authorization code** provided.\n",
        "  - Paste that code into the input box in Colab and press **Enter**.\n",
        "5. This will connect your Google Drive to Colab\n",
        "6. If the link does not appear, make sure your browser is not blocking pop-ups.\n",
        "\n",
        "---\n",
        "\n",
        "## 5. Enter your notebook’s file name\n",
        "\n",
        "The code will now ask to enter your notebook’s exact file name\n",
        "\n",
        "1. Type the **full name** of your notebook, including the `.ipynb` ending.  \n",
        "  - Example: `Alberto_Stefanelli_Lab8.ipynb.`\n",
        "2. Make sure the name matches exactly, including capitalization and underscores.\n",
        "3. Press **Enter**.\n",
        "\n",
        "---\n",
        "\n",
        "## 7. Convert the notebook to PDF and download it\n",
        "\n",
        "The code will convert the notebook file to a pdf. After the PDF is created, your browser will show a download pop-up or automatically save the file to your Downloads folder. You can now open the PDF with any PDF reader. Once you have your PDF and made sure eveything is in order, you can then upload it to Canvas.\n",
        "\n",
        "---\n",
        "\n",
        "## 8. If you see an error:\n",
        "\n",
        "Double-check that:\n",
        "\n",
        "- All cells run without errors\n",
        "- Mounted Google Drive without errors\n",
        "- Saved notebook to Google Drive and not locally or on Github\n",
        "- Entered correct notebook file name with `.ipynb`.\n",
        "- Conversion completed without any errors.\n",
        "- PDF downloaded to your computer (download and pop-ups are not blocked by your browser)\n",
        "\n",
        "\n",
        "**Fallback:** If the PDF export method below fails (for example, due to LaTeX or pandoc errors), you can use https://convert.ploomber.io/ as a fallback option. However, I strongly suggest trying the methods below first and using this fallback only as a last resort.\n",
        "\n",
        "**If you run into any issues, please reach out for help**\n",
        "\n"
      ]
    },
    {
      "cell_type": "code",
      "source": [
        "# Install requirements\n",
        "!apt-get -qq update\n",
        "!apt-get install -y pandoc texlive-xetex texlive-fonts-recommended texlive-plain-generic\n",
        "\n",
        "from google.colab import drive, files\n",
        "\n",
        "# Mount Google Drive\n",
        "drive.mount('/content/drive')\n",
        "\n",
        "# Ask for the notebook name\n",
        "notebook_name = input(\n",
        "    \"Enter your notebook’s exact file name,\\n\"\n",
        "    \"exactly as shown in the top-left corner of the Colab page (next to the two yellow circle icons): \"\n",
        ")\n",
        "\n",
        "# Build paths\n",
        "input_path = f\"/content/drive/MyDrive/Colab Notebooks/{notebook_name}\"\n",
        "output_path = input_path.replace(\".ipynb\", \".pdf\")\n",
        "\n",
        "# Convert to PDF\n",
        "!jupyter nbconvert --to pdf \"{input_path}\"\n",
        "\n",
        "# Download the PDF\n",
        "files.download(output_path)"
      ],
      "metadata": {
        "id": "aaKuaNvWSPKt"
      },
      "execution_count": null,
      "outputs": []
    }
  ],
  "metadata": {
    "anaconda-cloud": {},
    "kernelspec": {
      "display_name": "Python 3 (ipykernel)",
      "language": "python",
      "name": "python3"
    },
    "language_info": {
      "codemirror_mode": {
        "name": "ipython",
        "version": 3
      },
      "file_extension": ".py",
      "mimetype": "text/x-python",
      "name": "python",
      "nbconvert_exporter": "python",
      "pygments_lexer": "ipython3",
      "version": "3.11.4"
    },
    "colab": {
      "provenance": []
    }
  },
  "nbformat": 4,
  "nbformat_minor": 0
}