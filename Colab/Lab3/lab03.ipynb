{
  "cells": [
    {
      "cell_type": "markdown",
      "metadata": {
        "id": "l1WMurX6ltRu"
      },
      "source": [
        "# Lab 3: Tables\n",
        "\n",
        "---\n",
        "\n",
        "Welcome to lab 3!  This week, we'll learn about *tables*, which let us work with multiple arrays of data about the same things.  Tables are described in [Chapter 6](https://inferentialthinking.com/chapters/06/Tables.html) of the text.\n",
        "\n",
        "As we have discussed in class, you are allowed to use AI resources to help you with your coding. Here is a helpful guide for how AI resources like ChatGPT might be useful for you: https://www.zdnet.com/article/how-to-use-chatgpt-to-write-code/\n",
        "\n",
        "First, set up the imports by running the cell below."
      ]
    },
    {
      "cell_type": "code",
      "execution_count": null,
      "metadata": {
        "id": "lNfbdrMKltRw"
      },
      "outputs": [],
      "source": [
        "import numpy as np\n",
        "import pandas as pd"
      ]
    },
    {
      "cell_type": "markdown",
      "source": [
        "# Before You Begin: Disable AI Assistance\n",
        "\n",
        "To ensure you learn the concepts and complete this assignment based on your own understanding, you are *strongly* encouraged to turn off Google Colab's built-in generative AI features before you begin. This will also help you prepare for the midterms and final project.\n",
        "\n",
        "**Follow these steps:**\n",
        "1.  Go to the **Edit** menu at the top of the page.\n",
        "2.  Click on **Notebook settings**.\n",
        "3.  Check the box next to **\"Hide generative AI features\"**.\n",
        "5.  Click **Save**.\n",
        "\n",
        "This will prevent Google Gemini from suggesting or writing code for you, allowing you to focus on solving the problems yourself.\n"
      ],
      "metadata": {
        "id": "0eOcnMAqmH0h"
      }
    },
    {
      "cell_type": "markdown",
      "metadata": {
        "id": "qjTQA85yltRx"
      },
      "source": [
        "## 1. Introduction\n",
        "\n",
        "For a collection of things in the world, an array is useful for describing a single attribute of each thing. For example, among the collection of US States, an array could describe the number of registered voters of each. Data frames extend this idea by describing multiple attributes for each element of a collection. You can think of an array as just one column in a spreadsheet, while a data frame is the entire spreadsheet."
      ]
    },
    {
      "cell_type": "markdown",
      "metadata": {
        "id": "vVbJo0APltRx"
      },
      "source": [
        "Suppose we want to answer this question:\n",
        "\n",
        "> When did world population cross 6 billion?\n",
        "\n",
        "You could technically answer this question just from staring at the arrays, but it's a bit convoluted, since you would have to count the position where the population first crossed 6 billion, then find the corresponding element in the years array. In cases like these, it might be easier to put the data into a data frame, a 2-dimensional type of dataset, like a spreadsheet.\n",
        "\n",
        "The expression below:\n",
        "\n",
        "- Uses the data science library `pandas`, which is Python's most popular library for data structures and data analysis.\n",
        "- Loads the spreadsheet `world_population.csv` and names it `population`.\n",
        "- Displays the first five rows of `population` using `.head()`."
      ]
    },
    {
      "cell_type": "code",
      "execution_count": null,
      "metadata": {
        "id": "Nzs6Zi4vltRx"
      },
      "outputs": [],
      "source": [
        "population = pd.read_csv(\"https://raw.githubusercontent.com/joshuakalla/data_science_campaigns/master/Colab/Lab3/world_population.csv\")\n",
        "population.head()"
      ]
    },
    {
      "cell_type": "markdown",
      "metadata": {
        "id": "Mgsyq3TfltRx"
      },
      "source": [
        "Now the data are all together in a single table! It's much easier to parse this data--if you need to know what the population was in 1959, for example, you can tell from a single glance. We'll revisit this table later."
      ]
    },
    {
      "cell_type": "markdown",
      "metadata": {
        "id": "nERafqBtltRx"
      },
      "source": [
        "## 2. Discovering Voter Files"
      ]
    },
    {
      "cell_type": "markdown",
      "metadata": {
        "id": "1ow03qYAltRy"
      },
      "source": [
        "The file `sample_voter_file.csv` contains a random sample of 100 people from the Ohio voter file. You could download the full data from https://www6.ohiosos.gov/ords/f?p=VOTERFTP. This file contains the following fields:\n",
        "\n",
        "- A unique identifier from the State of Ohio.\n",
        "- The voter's full name.\n",
        "- The voter's date of birth.\n",
        "- The date the voter registered to vote.\n",
        "- The voter's party registration (D = Democrat; R = Republican; missing = Independent).\n",
        "- The voter's full address.\n",
        "- Whether or not the voter voted in the 2012 general election (general11062012, where X = voted and missing = did not vote).\n",
        "- Whether or not the voter voted in the 2014 general election (general11042014, where X = voted and missing = did not vote).\n",
        "\n",
        "We are going to load this as a data frame called `vf`. Fix the below code to read in the file called `sample_voter_file.csv`. The data is stored at this URL: https://raw.githubusercontent.com/joshuakalla/data_science_campaigns/master/Colab/Lab3/sample_voter_file.csv"
      ]
    },
    {
      "cell_type": "code",
      "execution_count": null,
      "metadata": {
        "id": "e5jQgv6PltRy"
      },
      "outputs": [],
      "source": [
        "vf = ...\n",
        "vf.head()\n",
        "# Scroll to the right on the table to see more output."
      ]
    },
    {
      "cell_type": "markdown",
      "metadata": {
        "id": "QsW8Us7TltRy"
      },
      "source": [
        "### Analyzing datasets\n",
        "With just a few lines of code, we can answer some interesting questions about the voter file.\n",
        "\n",
        "If we want just the data on how many people voted in 2014, we can get an array that contains the data in that column. Note that `pandas` assigns the value of `NaN` to missing values. This just means that the cell of the spreadsheet has no value in it. In the case of the column `general11042014`, an individual is assigned \"X\" if they voted or missing otherwise."
      ]
    },
    {
      "cell_type": "code",
      "execution_count": null,
      "metadata": {
        "id": "rGVXM946ltRy"
      },
      "outputs": [],
      "source": [
        "voted_2014 = vf[\"general11042014\"]\n",
        "voted_2014"
      ]
    },
    {
      "cell_type": "markdown",
      "metadata": {
        "id": "uc4mTh7PltRy"
      },
      "source": [
        "Of these 100 people, how many voted in 2014?\n",
        "\n",
        "To do this, we can count the number of occurrences of 'X' in the list. We can use the `value_counts()` method from pandas for this purpose. This method counts the occurrences of unique values and provides a quick summary of the data distribution in a column, making it a valuable tool for exploratory data analysis. The code below demonstrates how to use `value_counts()` for this task."
      ]
    },
    {
      "cell_type": "code",
      "execution_count": null,
      "metadata": {
        "id": "L2wkiKzpltRy"
      },
      "outputs": [],
      "source": [
        "voted_2014 = vf['general11042014'].value_counts()\n",
        "voted_2014"
      ]
    },
    {
      "cell_type": "markdown",
      "metadata": {
        "id": "zJBpRfO8ltRy"
      },
      "source": [
        "To explain the syntax, we are counting how many records have each value in the column `general11042014`.\n",
        "\n",
        "**Question 1.** How many people voted in 2012?"
      ]
    },
    {
      "cell_type": "code",
      "execution_count": null,
      "metadata": {
        "id": "F4H5hqhgltRy"
      },
      "outputs": [],
      "source": [
        "voted_2012 = ...\n",
        "voted_2012"
      ]
    },
    {
      "cell_type": "markdown",
      "metadata": {
        "id": "u9aeUKn8ltRz"
      },
      "source": [
        "Having a bunch of X's and missing values isn't really helpful. Can we recode our variables so a voter receives a \"1\" if they voted and a \"0\" if they did not vote? In the below code, we are creating a new column called `voted_14` in our data frame called `vf`. We first use `np.where` to determine where `general11042014` is set as X. If a certain row is set as X, `voted_14` is given a 1. Otherwise, it is given a 0."
      ]
    },
    {
      "cell_type": "code",
      "execution_count": null,
      "metadata": {
        "id": "SzibF1lTltRz"
      },
      "outputs": [],
      "source": [
        "vf['voted_14'] = np.where(vf['general11042014'] == \"X\", 1, 0)\n",
        "vf['voted_14'].value_counts()"
      ]
    },
    {
      "cell_type": "markdown",
      "metadata": {
        "id": "X3EeykcpltRz"
      },
      "source": [
        "**Question 2.** Can you create a variable called `voted_12` similar to `voted_14`?"
      ]
    },
    {
      "cell_type": "code",
      "execution_count": null,
      "metadata": {
        "id": "xakflSqyltRz"
      },
      "outputs": [],
      "source": [
        "vf['voted_12'] = ...\n",
        "vf['voted_12'].value_counts()"
      ]
    },
    {
      "cell_type": "markdown",
      "metadata": {
        "id": "ZyE1PZe0ltRz"
      },
      "source": [
        "### Finding pieces of a dataset\n",
        "Suppose you're interested in learning how voter turnout in 2014 differed by political party. We can create what is called a cross tab. A cross tab is simply a summary table of the data. To achieve this, we can use the `crosstab()` function from pandas. Since we imported pandas as `pd`, we can call the function using `pd.crosstab()` and provide it with two or more columns. In the below example, the columns summarize registered voters and the columns count how many voters of each party either did or did not vote in 2014.\n"
      ]
    },
    {
      "cell_type": "code",
      "execution_count": null,
      "metadata": {
        "id": "rYL9m50eltRz"
      },
      "outputs": [],
      "source": [
        "pd.crosstab(vf.party_affiliation, vf.voted_14)"
      ]
    },
    {
      "cell_type": "markdown",
      "metadata": {
        "id": "q2dCmnq5ltRz"
      },
      "source": [
        "But something seems wrong about this summary table. It only contains `2 + 15 + 22 = 39` records. Doesn't our data frame have 100 records?\n",
        "\n",
        "We are missing all the voters who are neither registered Democrats nor registered Republicans!\n",
        "\n",
        "We can recode `party_affiliation` so missing data is set to I, for Independents. Then we can re-run our crosstab."
      ]
    },
    {
      "cell_type": "code",
      "execution_count": null,
      "metadata": {
        "id": "9akw463EltRz"
      },
      "outputs": [],
      "source": [
        "vf['party_affiliation'] = vf['party_affiliation'].fillna(\"I\")\n",
        "pd.crosstab(vf.party_affiliation, vf.voted_14)"
      ]
    },
    {
      "cell_type": "markdown",
      "metadata": {
        "id": "RnJC4_vOltRz"
      },
      "source": [
        "**Question 3.** How many Democrats, Republicans, and Independents voted in 2012? Fill in the below code, replacing the ellipsis with **code** (do not manually enter the correct number, but use code to calculate this number) that counts how many of each type of voter voted in 2012?\n",
        "\n",
        "*Hint:* I would suggest familiarizing yourselves with crosstabs and \".loc\". See e.g., https://www.shanelynn.ie/select-pandas-dataframe-rows-and-columns-using-iloc-loc-and-ix. Remember, it is fine (expected!) that you will Google for help. That's how you learn to code."
      ]
    },
    {
      "cell_type": "code",
      "execution_count": null,
      "metadata": {
        "id": "RJ4Q4_jVltRz"
      },
      "outputs": [],
      "source": [
        "print(\"The number of Democrats who voted in 2012 is\", ...)\n",
        "print(\"The number of Republicans who voted in 2012 is\", ...)\n",
        "print(\"The number of Independents who voted in 2012 is\", ...)"
      ]
    },
    {
      "cell_type": "markdown",
      "metadata": {
        "id": "yRHat0-7ltR0"
      },
      "source": [
        "### Other Pandas Operations\n",
        "\n",
        "Pandas is an incredibly powerful library. You can learn a lot by reading short introductions like this excellent [10 Minutes to Pandas](https://pandas.pydata.org/pandas-docs/stable/10min.html). Give it a read and return to it whenever you are stuck.\n",
        "\n",
        "Remember, you can use the `help()` function to get detailed information about various pandas modules, such as `help(pd.DataFrame.query)`. Reviewing the examples in the documentation can be especially helpful, as they demonstrate different scenarios and practical uses for the modules.\n",
        "\n",
        "Here are just a few examples of what you can do with Pandas."
      ]
    },
    {
      "cell_type": "code",
      "execution_count": null,
      "metadata": {
        "id": "Htss5a5zltR0"
      },
      "outputs": [],
      "source": [
        "# Display the first 5 records using head() of every Independent who voted in 2014.\n",
        "vf.query('voted_14 == 1 & party_affiliation == \"I\"').head()"
      ]
    },
    {
      "cell_type": "code",
      "execution_count": null,
      "metadata": {
        "id": "AtqRQPNRltR0"
      },
      "outputs": [],
      "source": [
        "# Rename party_affiliation to party_reg\n",
        "vf = vf.rename(columns={'party_affiliation': 'party_reg'})\n",
        "vf.head()"
      ]
    },
    {
      "cell_type": "markdown",
      "metadata": {
        "id": "jGxY7hHKltR0"
      },
      "source": [
        "### Dates in Pandas\n",
        "\n",
        "Dates are common in a lot of data science applications. But dates are also very annoying. As a human, we know that these are all equivalent:\n",
        "- January 1, 2019\n",
        "- 1 January 2019\n",
        "- 1/1/2019\n",
        "- 1/1/19\n",
        "\n",
        "But even as a human, is 1/2/2019 referring to 2 January 2019 or is it 1 February 2019? What about 1/2/19? Is that referring to 2019, 1919, 1819, etc.? Dates can be a real pain!\n",
        "\n",
        "Luckily, Pandas has a way to standardize all dates. The below code gives Pandas a particular date as a string and let's Pandas know how that string is formatted."
      ]
    },
    {
      "cell_type": "code",
      "execution_count": null,
      "metadata": {
        "id": "8DOTUb5qltR0"
      },
      "outputs": [],
      "source": [
        "# Define dates as strings\n",
        "date_str1 = 'Wednesday, June 6, 2018'\n",
        "date_str2 = '06-06-2018'\n",
        "date_str3 = '6/6/18'\n",
        "\n",
        "# Define dates as datetime objects\n",
        "date_dt1 = pd.to_datetime(date_str1, format='%A, %B %d, %Y')\n",
        "date_dt2 = pd.to_datetime(date_str2, format='%m-%d-%Y')\n",
        "date_dt3 = pd.to_datetime(date_str3, format='%m/%d/%y')\n",
        "\n",
        "# Print converted dates\n",
        "print(date_dt1)\n",
        "print(date_dt2)\n",
        "print(date_dt3)"
      ]
    },
    {
      "cell_type": "markdown",
      "metadata": {
        "id": "Qq5TzXH1ltR0"
      },
      "source": [
        "**Explanation format:**\n",
        "- `%A` - Full weekday name (e.g., \\\"Wednesday\\\")\n",
        "- `%B` - Full month name (e.g., \\\"August\\\")\n",
        "- `%d` - Day of the month as a zero-padded number (e.g., \\\"21\\\")\n",
        "- `%Y` - Four-digit year (e.g., \\\"2024\\\")\n",
        "- `%m` - Month as a zero-padded number (e.g., \\\"08\\\")\n",
        "\n",
        "**To sum up:**\n",
        "- `%A, %B %d, %Y`: Full descriptive date including weekday, month name, day, and year.\n",
        "- `%m-%d-%Y`: Numeric date with month, day, and year separated by hyphens.\\\n",
        "- `%m/%d/%y`: Numeric date with month, day, and two-digit year separated by slashes."
      ]
    },
    {
      "cell_type": "markdown",
      "metadata": {
        "id": "8QVszwjXltR0"
      },
      "source": [
        "**Question 4.** Create a column called `age`.\n",
        "\n",
        "In the first line, convert `date_of_birth` to a `datetime` object, like above.\n",
        "In the second line, take the difference between today's year and the year in which somebody was born to create a column called `age`. You might want to explore `.dt.year` [here](https://stackoverflow.com/questions/28990256/python-pandas-time-series-year-extraction). You can find out how to get the current year [here](https://stackoverflow.com/questions/46508895/calculating-age-from-date-time-format-in-python-pandas?noredirect=1&lq=1). In the third line, type `vf['age'].head()` to display the first five rows of this column."
      ]
    },
    {
      "cell_type": "code",
      "execution_count": null,
      "metadata": {
        "id": "huDMocHNltR0"
      },
      "outputs": [],
      "source": [
        "vf['date_of_birth'] = ...\n",
        "vf['age'] = ...\n",
        "vf['age'].head()"
      ]
    },
    {
      "cell_type": "markdown",
      "metadata": {
        "id": "dGuo9ngeltR1"
      },
      "source": [
        "**Question 5.** How many people are 50 or older?\n",
        "\n",
        "*Hint 1*: See [this](https://stackoverflow.com/a/18317067) to get the number of rows (length).\n",
        "*Hint 2*: Remember `query` from above!"
      ]
    },
    {
      "cell_type": "code",
      "execution_count": null,
      "metadata": {
        "id": "ECoejchOltR1"
      },
      "outputs": [],
      "source": [
        "..."
      ]
    },
    {
      "cell_type": "markdown",
      "metadata": {
        "id": "Ugj2Gk7VltR1"
      },
      "source": [
        "**Question 6.** What percent of people are 50 or older?"
      ]
    },
    {
      "cell_type": "code",
      "execution_count": null,
      "metadata": {
        "id": "RJSDFZRQltR1"
      },
      "outputs": [],
      "source": [
        "..."
      ]
    },
    {
      "cell_type": "markdown",
      "metadata": {
        "id": "PrkaNaudltR1"
      },
      "source": [
        "**Question 7.** Here's a challenge: Find the number of people who were born in *even* years.\n",
        "\n",
        "*Hint:* The operator `%` computes the remainder when dividing by a number.  So `5 % 2` is 1 and `6 % 2` is 0.  A number is even if the remainder is 0 when you divide by 2.\n",
        "\n",
        "*Hint 2:* `%` can be used on arrays, operating elementwise like `+` or `*`.  So `make_array(5, 6, 7) % 2` is `array([1, 0, 1])`.\n",
        "\n",
        "*Hint 3:* Create a column called \"Year_Remainder\" that's the remainder when each person's year of birth is divided by 2. Then create a new column called \"Even_Year\" that is set to 1 if \"Year_Remainder\" is 0 and is set to 0 if \"Year_Remainder\" is not 0. Remember `np.where` from above."
      ]
    },
    {
      "cell_type": "code",
      "execution_count": null,
      "metadata": {
        "for_assignment_type": "student",
        "id": "8YUZPAj1ltR1"
      },
      "outputs": [],
      "source": [
        "vf['Year_of_Birth'] = ...\n",
        "vf['Year_Remainder'] = ...\n",
        "vf['even_year'] = ...\n",
        "\n",
        "# Do not change any of the below code.\n",
        "# If anything breaks, make sure your variables are named the same as below.\n",
        "# Use this .head() to check your work.\n",
        "print(vf[['date_of_birth', 'Year_of_Birth', 'Year_Remainder', 'even_year']].head())\n",
        "# This will print your final answer.\n",
        "print(\"The number of people born in even years is: \", len(vf.query('even_year == 1')))"
      ]
    },
    {
      "cell_type": "markdown",
      "metadata": {
        "id": "F39dXjw_ltR2"
      },
      "source": [
        "\n",
        "\n",
        "# Congratulations!\n",
        "\n",
        "You are done with the lab. Before you finish and submit, please fill out this brief evaluation:\n",
        "\n",
        "- I spent around XXXX hours on this lab,.\n",
        "- This lab was (too easy, too hard, just about the right difficulty).\n",
        "\n",
        "All assignments in the course will be distributed as notebooks like this one, and you will submit your work as a PDF.  \n",
        "\n",
        "# How to Convert your Colab notebook to a PDF and download it\n",
        "\n",
        "Follow these instructions exactly to make sure your notebook is correctly converted to a PDF and saved to your computer.\n",
        "\n",
        "---\n",
        "\n",
        "## 1. Check everything is in order and all the code runs\n",
        "\n",
        "Before starting the conversion process, make sure your notebook is complete and error-free.\n",
        "\n",
        "1. **Open your notebook** in Google Colab.\n",
        "2. **Save your work**:\n",
        "   - Go to **File → Save** or press `Ctrl + S` (Windows) / `Cmd + S` (Mac).\n",
        "   - This ensures that all your recent changes are stored.\n",
        "3. **Run all the cells** to confirm there are no errors:\n",
        "   - In the top menu, select **Cell → Run All**.\n",
        "   - Colab will execute every cell in order.\n",
        "4. **Watch for errors**:\n",
        "   - If you see any red error messages, fix them before proceeding.\n",
        "   - A notebook with errors will **not** convert to PDF correctly.\n",
        "5. Once all cells run without errors, you can proceed to the next step.\n",
        "\n",
        "---\n",
        "\n",
        "## 2. Make sure your notebook is saved in Google Drive and named correctly\n",
        "Before converting, confirm that your notebook is stored in your Google Drive inside the `Colab Notebooks` folder.\n",
        "\n",
        "1. Look at the top-left corner of the Colab page — you’ll see the notebook’s current name next to two yellow circle icons.\n",
        "2. Rename the file by directly clicking on the name, type the new name, and press **Enter**.  \n",
        "  - Please rename the notebook to LASTNAME_FIRSTNAME_LAB#.pdf. So for this lab, I would call it Alberto_Stefanelli_Lab3.ipynb.\n",
        "  - The name must end with `.ipynb`\n",
        "3. Ensure the notebook is in your Google Drive (not in Colab’s temporary session storage):  \n",
        "   - In the menu, click **File → Locate in Drive**.  \n",
        "   - This will open the folder in Drive where the notebook is stored.  \n",
        "   - If it’s not in `My Drive/Colab Notebooks`, move it there for easier access.\n",
        "\n",
        "---\n",
        "\n",
        "## 3. Install the required tools\n",
        "\n",
        "We wrote some code (see below) to automatically convert your Notebook to PDF. When you run the provided code cell, the first step will install some essential pieces of software (i.e., Pandoc and Latex) inside your Colab environment. There is no need to exactly understand what is happening\n",
        "\n",
        "**Important:**\n",
        "- This installation will take between 2 to 5 minutes.\n",
        "- Do **not** close or refresh the Colab page while it runs.\n",
        "\n",
        "---\n",
        "\n",
        "## 4. Mount your Google Drive in Colab\n",
        "\n",
        "After installing the requirements, the code will ask Colab to **mount** your Google Drive. You can use both your personal or Yale account. This is needed because the notebook you are converting must be saved in Drive before it can be converted to PDF.\n",
        "\n",
        "You will see a pop-up with a **link**:\n",
        "1. Click the link.\n",
        "2. Sign in to your Google account (use the same account where your Colab notebook is saved).\n",
        "3. If prompted, copy the long **authorization code** provided.\n",
        "  - Paste that code into the input box in Colab and press **Enter**.\n",
        "5. This will connect your Google Drive to Colab\n",
        "6. If the link does not appear, make sure your browser is not blocking pop-ups.\n",
        "\n",
        "---\n",
        "\n",
        "## 5. Enter your notebook’s file name\n",
        "\n",
        "The code will now ask to enter your notebook’s exact file name\n",
        "\n",
        "1. Type the **full name** of your notebook, including the `.ipynb` ending.  \n",
        "  - Example: `Alberto_Stefanelli_Lab3.ipynb.`\n",
        "2. Make sure the name matches exactly, including capitalization and underscores.\n",
        "3. Press **Enter**.\n",
        "\n",
        "---\n",
        "\n",
        "## 7. Convert the notebook to PDF and download it\n",
        "\n",
        "The code will convert the notebook file to a pdf. After the PDF is created, your browser will show a download pop-up or automatically save the file to your Downloads folder. You can now open the PDF with any PDF reader. Once you have your PDF and made sure eveything is in order, you can then upload it to Canvas.\n",
        "\n",
        "---\n",
        "\n",
        "## 8. If you see an error:\n",
        "\n",
        "Double-check that:\n",
        "\n",
        "- All cells run without errors\n",
        "- Mounted Google Drive without errors\n",
        "- Saved notebook to Google Drive and not locally or on Github\n",
        "- Entered correct notebook file name with `.ipynb`.\n",
        "- Conversion completed without any errors.\n",
        "- PDF downloaded to your computer (download and pop-ups are not blocked by your browser)\n",
        "\n",
        "\n",
        "**Fallback:** If the PDF export method below fails (for example, due to LaTeX or pandoc errors), you can use https://convert.ploomber.io/ as a fallback option. However, I strongly suggest trying the methods below first and using this fallback only as a last resort.\n",
        "\n",
        " **If you run into any issues, please reach out for help**\n"
      ]
    },
    {
      "cell_type": "code",
      "source": [
        "# Install requirements\n",
        "!apt-get -qq update\n",
        "!apt-get install -y pandoc texlive-xetex texlive-fonts-recommended texlive-plain-generic\n",
        "\n",
        "from google.colab import drive, files\n",
        "\n",
        "# Mount Google Drive\n",
        "drive.mount('/content/drive')\n",
        "\n",
        "# Ask for the notebook name\n",
        "notebook_name = input(\n",
        "    \"Enter your notebook’s exact file name,\\n\"\n",
        "    \"exactly as shown in the top-left corner of the Colab page (next to the two yellow circle icons): \"\n",
        ")\n",
        "\n",
        "# Build paths\n",
        "input_path = f\"/content/drive/MyDrive/Colab Notebooks/{notebook_name}\"\n",
        "output_path = input_path.replace(\".ipynb\", \".pdf\")\n",
        "\n",
        "# Convert to PDF\n",
        "!jupyter nbconvert --to pdf \"{input_path}\"\n",
        "\n",
        "# Download the PDF\n",
        "files.download(output_path)\n",
        "\n",
        "\n",
        "\n",
        "\n"
      ],
      "metadata": {
        "id": "T0MvRiAJmNjR"
      },
      "execution_count": null,
      "outputs": []
    }
  ],
  "metadata": {
    "anaconda-cloud": {},
    "kernelspec": {
      "display_name": "Python 3 (ipykernel)",
      "language": "python",
      "name": "python3"
    },
    "language_info": {
      "codemirror_mode": {
        "name": "ipython",
        "version": 3
      },
      "file_extension": ".py",
      "mimetype": "text/x-python",
      "name": "python",
      "nbconvert_exporter": "python",
      "pygments_lexer": "ipython3",
      "version": "3.12.5"
    },
    "colab": {
      "provenance": []
    }
  },
  "nbformat": 4,
  "nbformat_minor": 0
}