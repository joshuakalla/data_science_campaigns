{
  "cells": [
    {
      "cell_type": "markdown",
      "metadata": {
        "id": "KuzIlbBYUY28"
      },
      "source": [
        "# Lab 4: Functions and Visualizations"
      ]
    },
    {
      "cell_type": "markdown",
      "metadata": {
        "id": "0BqRQzpuUY29"
      },
      "source": [
        "Welcome to Lab 4! This week, we'll learn about functions, table methods such as `apply`, and how to generate visualizations!\n",
        "\n",
        "Recommended Reading:\n",
        "\n",
        "* [Applying a Function to a Column](https://inferentialthinking.com/chapters/08/1/Applying_a_Function_to_a_Column.html)\n",
        "* [Visualizations](https://inferentialthinking.com/chapters/07/Visualization.html)\n",
        "\n",
        "First, set up the notebook by running the cell below."
      ]
    },
    {
      "cell_type": "code",
      "execution_count": null,
      "metadata": {
        "id": "sK4QrT7YUY29"
      },
      "outputs": [],
      "source": [
        "import numpy as np\n",
        "import pandas as pd\n",
        "\n",
        "# These lines set up graphing capabilities.\n",
        "import matplotlib.pyplot as plt"
      ]
    },
    {
      "cell_type": "markdown",
      "metadata": {
        "id": "rnV2bR1iUY2-"
      },
      "source": [
        "## 1. Functions\n",
        "\n",
        "In this question, we'll look at campaign spending from the 2016 U.S. House of Representatives elections. All of this data comes from the [FEC](https://classic.fec.gov/disclosurehs/hsnational.do).\n",
        "\n",
        "We've copied the raw data from the FEC into a file called `campaign_spending_2016.csv`. This data contains the candidate's name, their party, their state, whether they are an incumbent or not, how much they raised, and how much they spent."
      ]
    },
    {
      "cell_type": "code",
      "execution_count": null,
      "metadata": {
        "id": "JSYU8tU1UY2-"
      },
      "outputs": [],
      "source": [
        "campaign_spending = pd.read_csv('https://raw.githubusercontent.com/joshuakalla/data_science_campaigns/master/Colab/Lab4/campaign_spending_2016.csv')\n",
        "campaign_spending.head()"
      ]
    },
    {
      "cell_type": "markdown",
      "metadata": {
        "id": "qgxf9FshUY2-"
      },
      "source": [
        "We want to compute the average raised in 2016. Try running the cell below."
      ]
    },
    {
      "cell_type": "code",
      "execution_count": null,
      "metadata": {
        "id": "_pk9-6JhUY2_"
      },
      "outputs": [],
      "source": [
        "np.average(campaign_spending[\"raised\"])"
      ]
    },
    {
      "cell_type": "markdown",
      "metadata": {
        "id": "m3FOnrxXUY2_"
      },
      "source": [
        "You should see an error. Let's examine why this error occurred by looking at the values in the \"disbursements\" column. Use the `dtypes` function and you will see that `raised` is of type `object`. This is the same as a string (more technically, columns with mixed types are stored with the `object` dtype). But we can't take the average of a string! We will need to convert this string to a number that we can actually use."
      ]
    },
    {
      "cell_type": "code",
      "execution_count": null,
      "metadata": {
        "id": "Ka2I9hcnUY3A"
      },
      "outputs": [],
      "source": [
        "campaign_spending.dtypes"
      ]
    },
    {
      "cell_type": "markdown",
      "metadata": {
        "id": "8jzwmMUqUY3A"
      },
      "source": [
        "**Question 1.** It doesn't make sense to take the average of string values, so we need to convert them to numbers if we want to do this. See if you can figure out a way to do it using [this](https://stackoverflow.com/a/32465968) for help."
      ]
    },
    {
      "cell_type": "code",
      "execution_count": null,
      "metadata": {
        "id": "K7LV8x3gUY3A"
      },
      "outputs": [],
      "source": [
        "campaign_spending['raised'] = ...\n",
        "campaign_spending['spent'] = ...\n",
        "# Leave these lines of code to check your work.\n",
        "# You should see no $ in raised or spent.\n",
        "# raised and spent should both be floats now.\n",
        "print(campaign_spending.head())\n",
        "print(campaign_spending.dtypes)"
      ]
    },
    {
      "cell_type": "markdown",
      "metadata": {
        "id": "DMkqC0pvUY3A"
      },
      "source": [
        "Now re-run this code to get the average raised and average spent in 2016 House races.\n",
        "\n",
        "To make it look nicer, we are going to `round` the numbers to two decimal points. See [this](https://www.tutorialspoint.com/python/number_round.htm) if you want more details on how to round numbers."
      ]
    },
    {
      "cell_type": "code",
      "execution_count": null,
      "metadata": {
        "id": "BH1PcolMUY3A"
      },
      "outputs": [],
      "source": [
        "print(\"Amount raised was $\", round(np.average(campaign_spending[\"raised\"]), 2))\n",
        "print(\"Amount spent was $\", round(np.average(campaign_spending[\"spent\"]), 2))"
      ]
    },
    {
      "cell_type": "markdown",
      "metadata": {
        "id": "CbfAnDldUY3A"
      },
      "source": [
        "Notice how we had to do this for both \"raised\" and \"spent\". Imagine we had to do this for 100s of columns, such as a monthly campaign finance report. That would take a lot of time.\n",
        "\n",
        "This is where functions come in.  First, we'll define a new function, giving a name to the expression that converts strings to numeric values.  Later in this lab we'll see the payoff: we can call that function on every string in the dataset at once.\n",
        "\n",
        "**Question 2.** Copy the expression you used in Question 1 as the `return` expression of the function below, but replace the specific \"raised\" column with the generic `dollar_string` name specified in the first line of the `def` statement.\n",
        "\n",
        "*Hint*: When dealing with functions, you should generally not be referencing any variable outside of the function. Usually, you want to be working with the arguments that are passed into it, such as `dollar_string` for this function."
      ]
    },
    {
      "cell_type": "code",
      "execution_count": null,
      "metadata": {
        "for_assignment_type": "student",
        "id": "ifAgw1qUUY3A"
      },
      "outputs": [],
      "source": [
        "def convert_string_to_number(dollar_string):\n",
        "    \"\"\"Converts a string like '$550' to a number of dollars.\"\"\"\n",
        "    return ..."
      ]
    },
    {
      "cell_type": "markdown",
      "metadata": {
        "id": "sVGuEBalUY3B"
      },
      "source": [
        "Running that cell doesn't convert any particular string. Instead, it creates a function called `convert_string_to_number` that can convert any string with the right format to a number representing dollars.\n",
        "\n",
        "We can call our function just like we call the built-in functions we've seen. It takes one argument (a string column from a data frame) and it returns a numeric column."
      ]
    },
    {
      "cell_type": "code",
      "execution_count": null,
      "metadata": {
        "id": "yThXgQliUY3B"
      },
      "outputs": [],
      "source": [
        "# Re-load the data so \"raised\" and \"spent\" are in the string format.\n",
        "campaign_spending = pd.read_csv('https://raw.githubusercontent.com/joshuakalla/data_science_campaigns/master/Colab/Lab4/campaign_spending_2016.csv')\n",
        "# Now let's run the function.\n",
        "campaign_spending['raised'] = convert_string_to_number(campaign_spending['raised'])\n",
        "campaign_spending['spent'] = convert_string_to_number(campaign_spending['spent'])\n",
        "campaign_spending.head()"
      ]
    },
    {
      "cell_type": "markdown",
      "metadata": {
        "id": "QwQCz0D2UY3B"
      },
      "source": [
        "## 2. Defining functions\n",
        "\n",
        "Let's write a very simple function that converts a proportion to a percentage by multiplying it by 100.  For example, the value of `to_percentage(.5)` should be the number 50.  (No percent sign)\n",
        "\n",
        "A function definition has a few parts.\n",
        "\n",
        "##### `def`\n",
        "It always starts with `def` (short for **def**ine):\n",
        "\n",
        "    def\n",
        "\n",
        "##### Name\n",
        "Next comes the name of the function.  Let's call our function `to_percentage`.\n",
        "    \n",
        "    def to_percentage\n",
        "\n",
        "##### Signature\n",
        "Next comes something called the *signature* of the function.  This tells Python how many arguments your function should have, and what names you'll use to refer to those arguments in the function's code.  `to_percentage` should take one argument, and we'll call that argument `proportion` since it should be a proportion.\n",
        "\n",
        "    def to_percentage(proportion)\n",
        "\n",
        "We put a colon after the signature to tell Python it's over.\n",
        "\n",
        "    def to_percentage(proportion):\n",
        "\n",
        "##### Documentation\n",
        "Functions can do complicated things, so you should write an explanation of what your function does.  For small functions, this is less important, but it's a good habit to learn from the start.  Conventionally, Python functions are documented by writing a triple-quoted string:\n",
        "\n",
        "    def to_percentage(proportion):\n",
        "        \"\"\"Converts a proportion to a percentage.\"\"\"\n",
        "    \n",
        "    \n",
        "##### Body\n",
        "Now we start writing code that runs when the function is called.  This is called the *body* of the function.  We can write anything we could write anywhere else.  First let's give a name to the number we multiply a proportion by to get a percentage.\n",
        "\n",
        "    def to_percentage(proportion):\n",
        "        \"\"\"Converts a proportion to a percentage.\"\"\"\n",
        "        factor = 100\n",
        "\n",
        "##### `return`\n",
        "The special instruction `return` in a function's body tells Python to make the value of the function call equal to whatever comes right after `return`.  We want the value of `to_percentage(.5)` to be the proportion .5 times the factor 100, so we write:\n",
        "\n",
        "    def to_percentage(proportion):\n",
        "        \"\"\"Converts a proportion to a percentage.\"\"\"\n",
        "        factor = 100\n",
        "        return proportion * factor\n",
        "\n",
        "Note that `return` inside a function gives the function a value, while `print`, which we have used before, is a function which has no `return` value and just prints a certain value out to the console. The two are **very** different.\n",
        "\n",
        "##### Triple quotation marks\n",
        "\n",
        "In the `to_percentage()` function, we use triple quotation marks. These are known as docstrings: a special type of comment used for documentation. Docstrings don't affect how the function runs but are there to describe what the function does. In this case, the docstring explains that the function converts a string like \"$550\" into a numerical value.\n",
        "\n",
        "In addition to docstrings, you can also use regular comments (with #) to provide further details about specific parts of the code, making it easier for others to understand its logic.\n",
        "\n",
        "    def to_percentage(proportion):\n",
        "        \"\"\"Converts a proportion to a percentage.\"\"\"\n",
        "        # Define the conversion factor from proportion to percentage\n",
        "        factor = 100\n",
        "        #  Multiply the proportion by 100 to convert it into a percentage\n",
        "        return proportion * factor"
      ]
    },
    {
      "cell_type": "markdown",
      "metadata": {
        "id": "xLd7300VUY3B"
      },
      "source": [
        "**Question 3.** Define `to_percentage` in the cell below.  Call your function to convert the proportion .2 to a percentage.  Name that percentage `twenty_percent`."
      ]
    },
    {
      "cell_type": "code",
      "execution_count": null,
      "metadata": {
        "for_assignment_type": "student",
        "id": "jr0nNq4gUY3B"
      },
      "outputs": [],
      "source": [
        "def ...\n",
        "    \"\"\" ... \"\"\"\n",
        "    ... = ...\n",
        "    return ...\n",
        "\n",
        "twenty_percent = ...\n",
        "twenty_percent"
      ]
    },
    {
      "cell_type": "markdown",
      "metadata": {
        "id": "VJWQ60f9UY3B"
      },
      "source": [
        "Like the built-in functions, you can use named values as arguments to your function.\n",
        "\n",
        "**Question 4.** Use `to_percentage` again to convert the proportion named `a_proportion` (defined below) to a percentage called `a_percentage`.\n",
        "\n",
        "*Note:* You don't need to define `to_percentage` again!  Just like other named things, functions stick around after you define them."
      ]
    },
    {
      "cell_type": "code",
      "execution_count": null,
      "metadata": {
        "id": "0Q-bQc_5UY3B"
      },
      "outputs": [],
      "source": [
        "a_proportion = 2**(.5) / 2\n",
        "a_percentage = ...\n",
        "a_percentage"
      ]
    },
    {
      "cell_type": "markdown",
      "metadata": {
        "id": "mjTSYcYRUY3B"
      },
      "source": [
        "Here's something important about functions: the names assigned within a function body are only accessible within the function body. Once the function has returned, those names are gone.  So even though you defined `factor = 100` inside  the body of the `to_percentage` function up above and then called `to_percentage`, you cannot refer to `factor` anywhere except inside the body of `to_percentage`:"
      ]
    },
    {
      "cell_type": "code",
      "execution_count": null,
      "metadata": {
        "id": "-ovUzQ5IUY3B"
      },
      "outputs": [],
      "source": [
        "# You should see an error when you run this.  (If you don't, you might\n",
        "# have defined factor somewhere above.)\n",
        "factor"
      ]
    },
    {
      "cell_type": "markdown",
      "metadata": {
        "id": "wVJuZnmnUY3C"
      },
      "source": [
        "As we've seen with the built-in functions, functions can also take strings (or arrays, or tables) as arguments, and they can return those things, too.\n",
        "\n",
        "**Question 5.** Define a function called `disemvowel`.  It should take a single string as its argument.  (You can call that argument whatever you want.)  It should return a copy of that string, but with all the characters that are vowels removed.  (In English, the vowels are the characters \"a\", \"e\", \"i\", \"o\", and \"u\".)\n",
        "\n",
        "*Hint:* To remove all the \"a\"s from a string, you can use `that_string.replace(\"a\", \"\")`.  The `.replace` method for strings returns another string, so you can call `replace` multiple times, one after the other."
      ]
    },
    {
      "cell_type": "code",
      "execution_count": null,
      "metadata": {
        "id": "yymhPYjXUY3C"
      },
      "outputs": [],
      "source": [
        "def disemvowel(a_string):\n",
        "    ...\n",
        "    ...\n",
        "\n",
        "# An example call to your function.  (It's often helpful to run\n",
        "# an example call from time to time while you're writing a function,\n",
        "# to see how it currently works.)\n",
        "disemvowel(\"Can you read this without vowels?\")"
      ]
    },
    {
      "cell_type": "markdown",
      "metadata": {
        "id": "v_21KuYaUY3C"
      },
      "source": [
        "##### Calls on calls on calls\n",
        "Just as you write a series of lines to build up a complex computation, it's useful to define a series of small functions that build on each other.  Since you can write any code inside a function's body, you can call other functions you've written.\n",
        "\n",
        "If a function is a like a recipe, defining a function in terms of other functions is like having a recipe for cake telling you to follow another recipe to make the frosting, and another to make the sprinkles.  This makes the cake recipe shorter and clearer, and it avoids having a bunch of duplicated frosting recipes.  It's a foundation of productive programming.\n",
        "\n",
        "For example, suppose you want to count the number of characters *that aren't vowels* in a piece of text.  One way to do that is this to remove all the vowels and count the size of the remaining string.\n",
        "\n",
        "**Question 5.** Write a function called `num_non_vowels`.  It should take a string as its argument and return a number.  The number should be the number of characters in the argument string that aren't vowels.\n",
        "\n",
        "*Hint:* The function `len` takes a string as its argument and returns the number of characters in it."
      ]
    },
    {
      "cell_type": "code",
      "execution_count": null,
      "metadata": {
        "id": "Se-JON-VUY3C"
      },
      "outputs": [],
      "source": [
        "def num_non_vowels(a_string):\n",
        "    \"\"\"The number of characters in a string, minus the vowels.\"\"\"\n",
        "    ...\n",
        "\n",
        "# Try calling your function yourself to make sure the output is what\n",
        "# you expect."
      ]
    },
    {
      "cell_type": "markdown",
      "metadata": {
        "id": "0jW_GfP-UY3C"
      },
      "source": [
        "Functions can also encapsulate code that *do things* rather than just compute values.  For example, if you call `print` inside a function, and then call that function, something will get printed."
      ]
    },
    {
      "cell_type": "markdown",
      "metadata": {
        "id": "0Cc6oS5cUY3C"
      },
      "source": [
        "##### Print is not the same as Return\n",
        "Let's look at an example of a function that prints a value but does not return it."
      ]
    },
    {
      "cell_type": "code",
      "execution_count": null,
      "metadata": {
        "id": "McEHGkSPUY3C"
      },
      "outputs": [],
      "source": [
        "def print_number_five():\n",
        "    print(5)"
      ]
    },
    {
      "cell_type": "code",
      "execution_count": null,
      "metadata": {
        "id": "k5uv8CswUY3C"
      },
      "outputs": [],
      "source": [
        "print_number_five()"
      ]
    },
    {
      "cell_type": "markdown",
      "metadata": {
        "id": "U2y_G2iDUY3C"
      },
      "source": [
        "However, if we try to use the output of `print_number_five()`, we see that we get an error when we try to add the number 5 to it!"
      ]
    },
    {
      "cell_type": "code",
      "execution_count": null,
      "metadata": {
        "id": "Kd-Ae5PFUY3C"
      },
      "outputs": [],
      "source": [
        "print_number_five_output = print_number_five()\n",
        "print_number_five_output + 5"
      ]
    },
    {
      "cell_type": "markdown",
      "metadata": {
        "id": "pzp0Q-whUY3C"
      },
      "source": [
        "It may seem that `print_number_five()` is returning a value, 5. In reality, it just displays the number 5 to you without giving you the actual value! If your function prints out a value without returning it and you try to use it, you will run into errors so be careful!"
      ]
    },
    {
      "cell_type": "markdown",
      "metadata": {
        "id": "lkkwA0UzUY3C"
      },
      "source": [
        "Defining a function is a lot like giving a name to a value with `=`.  In fact, a function is a value just like the number 1 or the text \"the\"!\n",
        "\n",
        "For example, we can make a new name for the built-in function `max` if we want:"
      ]
    },
    {
      "cell_type": "code",
      "execution_count": null,
      "metadata": {
        "id": "RXrmH9LtUY3C"
      },
      "outputs": [],
      "source": [
        "our_name_for_max = max\n",
        "our_name_for_max(2, 6)"
      ]
    },
    {
      "cell_type": "markdown",
      "metadata": {
        "id": "aqCGdI_1UY3C"
      },
      "source": [
        "The old name for `max` is still around:"
      ]
    },
    {
      "cell_type": "code",
      "execution_count": null,
      "metadata": {
        "id": "wukObvhnUY3C"
      },
      "outputs": [],
      "source": [
        "max(2, 6)"
      ]
    },
    {
      "cell_type": "markdown",
      "metadata": {
        "id": "s5lz_VyuUY3D"
      },
      "source": [
        "Try just writing `max` or `our_name_for_max` (or the name of any other function) in a cell, and run that cell.  Python will print out a (very brief) description of the function."
      ]
    },
    {
      "cell_type": "code",
      "execution_count": null,
      "metadata": {
        "id": "JWioMCNLUY3D"
      },
      "outputs": [],
      "source": [
        "max"
      ]
    },
    {
      "cell_type": "markdown",
      "metadata": {
        "id": "RBc3KsM6UY3D"
      },
      "source": [
        "## 4. Histograms\n",
        "Earlier, we computed the average amounts raised and spent by candidates in our dataset.  The average doesn't tell us everything about the amounts raised and spent, though.  Maybe just a few campaigns spend and raise the bulk of money.\n",
        "\n",
        "We can use a *histogram* method to display more information about a set of numbers.  The table method `hist` takes a single argument, the name of a column of numbers.  It produces a histogram of the numbers in that column.\n",
        "\n",
        "The below code produces a histogram of the amount raised and spent."
      ]
    },
    {
      "cell_type": "code",
      "execution_count": null,
      "metadata": {
        "id": "7eeqeRLJUY3D"
      },
      "outputs": [],
      "source": [
        "# For help, see\n",
        "# https://medium.com/python-pandemonium/data-visualization-in-python-histogram-in-matplotlib-dce38f49f89c\n",
        "# Define the labels for the legend, representing the two datasets: amounts raised and spent\n",
        "legend = ['Raised', 'Spent']\n",
        "# Create a histogram with two datasets: campaign funds raised and spent, with different colors for each\n",
        "plt.hist([campaign_spending[\"raised\"], campaign_spending[\"spent\"]], color=['orange', 'green'])\n",
        "# Label the x-axis to indicate that it represents the amount of money raised or spent\n",
        "plt.xlabel(\"Amount Raised/Spent\")\n",
        "# Label the y-axis to show the frequency of the amounts in each bin\n",
        "plt.ylabel(\"Frequency\")\n",
        "# Add a legend to differentiate between the raised and spent amounts\n",
        "plt.legend(legend)\n",
        "# Set the title of the plot to describe what the histogram is visualizing\n",
        "plt.title('Amount Raised and Spent by 2016 Congressional Candidates')\n",
        "# Ensure that the x-axis tick labels display in plain number format instead of scientific notation\n",
        "plt.ticklabel_format(style='plain')\n",
        "# Rotate the x-axis labels 45 degrees for better readability\n",
        "plt.xticks(rotation=45)\n",
        "# Display the histogram\n",
        "plt.show()\n"
      ]
    },
    {
      "cell_type": "markdown",
      "metadata": {
        "id": "fOFtZ-4MUY3D"
      },
      "source": [
        "**Question 6.** Add comments to the above code block noting what each line of code is doing."
      ]
    },
    {
      "cell_type": "markdown",
      "metadata": {
        "id": "Ph2E7xWsUY3D"
      },
      "source": [
        "**Question 7.** Looking at the histogram, how many campaigns raised more than \\$6,000,000?\n",
        "\n",
        "Using code, how many campaigns raised more than \\$6,000,000?"
      ]
    },
    {
      "cell_type": "code",
      "execution_count": null,
      "metadata": {
        "id": "Qzpz35nkUY3D"
      },
      "outputs": [],
      "source": [
        "..."
      ]
    },
    {
      "cell_type": "markdown",
      "metadata": {
        "id": "RlcdqMpeUY3D"
      },
      "source": [
        "**Question 8.** Come up with a better way to display this data, while still using a histogram or multiple histograms."
      ]
    },
    {
      "cell_type": "code",
      "execution_count": null,
      "metadata": {
        "id": "916X7R_vUY3D"
      },
      "outputs": [],
      "source": [
        "## Insert your better graph(s) here"
      ]
    },
    {
      "cell_type": "markdown",
      "metadata": {
        "id": "apshTWG8UY3D"
      },
      "source": [
        "**Question 9.** See examples of different types of visualizations [here](https://matplotlib.org/gallery/index.html). Make a visualization using the data you already have loaded. Tell a story with the data and the visualization. You can do anything but a histogram."
      ]
    },
    {
      "cell_type": "code",
      "execution_count": null,
      "metadata": {
        "id": "8EeuZorVUY3D"
      },
      "outputs": [],
      "source": [
        "## Insert your graph(s) here"
      ]
    },
    {
      "cell_type": "markdown",
      "metadata": {
        "id": "vh-S3vyRUY3D"
      },
      "source": [
        "# Congratulations!\n",
        "\n",
        "You are done with the lab. Before you finish and submit, please fill out this brief evaluation:\n",
        "\n",
        "- I spent around XXXX hours on this lab,.\n",
        "- This lab was (too easy, too hard, just about the right difficulty).\n",
        "\n",
        "**To turn in your lab, you will need to submit a PDF through Canvas.**"
      ]
    }
  ],
  "metadata": {
    "anaconda-cloud": {},
    "kernelspec": {
      "display_name": "Python 3 (ipykernel)",
      "language": "python",
      "name": "python3"
    },
    "language_info": {
      "codemirror_mode": {
        "name": "ipython",
        "version": 3
      },
      "file_extension": ".py",
      "mimetype": "text/x-python",
      "name": "python",
      "nbconvert_exporter": "python",
      "pygments_lexer": "ipython3",
      "version": "3.11.4"
    },
    "colab": {
      "provenance": []
    }
  },
  "nbformat": 4,
  "nbformat_minor": 0
}