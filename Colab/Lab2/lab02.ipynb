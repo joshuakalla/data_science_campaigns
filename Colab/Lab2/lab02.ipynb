{
  "cells": [
    {
      "cell_type": "markdown",
      "metadata": {
        "id": "jaYZYwciivsX"
      },
      "source": [
        "# Lab 2: Data Types\n",
        "\n",
        "---\n",
        "\n",
        "Welcome to Lab 2!\n",
        "\n",
        "Last time, we had our first look at Python and Jupyter notebooks.  So far, we've only used Python to manipulate numbers.  There's a lot more to life than numbers, so Python lets us represent many other types of data in programs.\n",
        "\n",
        "In this lab, you'll first see how to represent and manipulate another fundamental type of data: text.  A piece of text is called a *string* in Python.\n",
        "\n",
        "You'll also see how to invoke *methods*.  A method is very similar to a function.  It just looks a little different because it's tied to a particular piece of data (like a piece of text or a number).\n",
        "\n",
        "Last, you'll see how to work with datasets in Python -- *collections* of data, like the numbers 2 through 5 or the words \"welcome\", \"to\", and \"lab\"."
      ]
    },
    {
      "cell_type": "markdown",
      "source": [
        "# Before You Begin: Disable AI Assistance\n",
        "\n",
        "To ensure you learn the concepts and complete this assignment based on your own understanding, you are *strongly* encouraged to turn off Google Colab's built-in generative AI features before you begin. This will also help you prepare for the midterms and final project.\n",
        "\n",
        "**Follow these steps:**\n",
        "1.  Go to the **Edit** menu at the top of the page.\n",
        "2.  Click on **Notebook settings**.\n",
        "3.  Check the box next to **\"Hide generative AI features\"**.\n",
        "5.  Click **Save**.\n",
        "\n",
        "This will prevent Google Gemini from suggesting or writing code for you, allowing you to focus on solving the problems yourself.\n",
        "\n"
      ],
      "metadata": {
        "id": "FxvZ_yBViwp5"
      }
    },
    {
      "cell_type": "markdown",
      "metadata": {
        "id": "J_qAHERtivsY"
      },
      "source": [
        "# 1. Review: The building blocks of Python code\n",
        "\n",
        "The two building blocks of Python code are *expressions* and *statements*.  An **expression** is a piece of code that\n",
        "\n",
        "* is self-contained, meaning it would make sense to write it on a line by itself, and\n",
        "* usually has a value.\n",
        "\n",
        "\n",
        "Here are two expressions that both evaluate to 3\n",
        "\n",
        "    3\n",
        "    5 - 2\n",
        "    \n",
        "One important form of an expression is the **call expression**, which first names a function and then describes its arguments. The function returns some value, based on its arguments. Some important mathematical functions are\n",
        "\n",
        "| Function | Description                                                   |\n",
        "|----------|---------------------------------------------------------------|\n",
        "| `abs`      | Returns the absolute value of its argument                    |\n",
        "| `max`      | Returns the maximum of all its arguments                      |\n",
        "| `min`      | Returns the minimum of all its arguments                      |\n",
        "| `pow`      | Raises its first argument to the power of its second argument |\n",
        "| `round`    | Round its argument to the nearest integer                     |\n",
        "\n",
        "Here are two call expressions that both evaluate to 3\n",
        "\n",
        "    abs(2 - 5)\n",
        "    max(round(2.8), min(pow(2, 10), -1 * pow(2, 10)))\n",
        "\n",
        "\n",
        "A **statement** is a whole line of code.  Some statements are just expressions.  The expressions listed above are examples.\n",
        "\n",
        "Other statements *make something happen* rather than *having a value*.  After they are run, something in the world has changed.  For example, an **assignment statement** assigns a value to a name.\n",
        "\n",
        "A good way to think about this is that we're **evaluating the right-hand side** of the equals sign and **assigning it to the left-hand side**. Here are some assignment statements:\n",
        "    \n",
        "    height = 1.3\n",
        "    the_number_five = abs(-5)\n",
        "    absolute_height_difference = abs(height - 1.688)\n",
        "\n",
        "A key idea in programming is that large, interesting things can be built by combining many simple, uninteresting things.  The key to understanding a complicated piece of code is breaking it down into its simple components.\n",
        "\n",
        "For example, a lot is going on in the last statement above, but it's really just a combination of a few things.  This picture describes what's going on.\n",
        "\n",
        "<img src=\"https://github.com/albertostefanelli/data_science_campaigns/blob/master/Colab/Lab2/statement.jpg?raw=1\">"
      ]
    },
    {
      "cell_type": "markdown",
      "metadata": {
        "id": "hSM8_FFtivsZ"
      },
      "source": [
        "**Question 1.** In the next cell, assign the name `new_year` to the larger number among the following two numbers:\n",
        "\n",
        "1. the absolute value of $2^{5}-2^{11}-2^1$, and\n",
        "2. $5 \\times 13 \\times 31 + 2$.\n",
        "\n",
        "Try to use just one statement (one line of code)."
      ]
    },
    {
      "cell_type": "code",
      "execution_count": null,
      "metadata": {
        "id": "tcA65tbIivsZ"
      },
      "outputs": [],
      "source": [
        "new_year = ...\n",
        "new_year"
      ]
    },
    {
      "cell_type": "markdown",
      "metadata": {
        "id": "ZZYpawVLivsZ"
      },
      "source": [
        "# 2. Text\n",
        "Programming doesn't just concern numbers. Text is one of the most common types of values used in programs.\n",
        "\n",
        "A snippet of text is represented by a **string value** in Python. The word \"*string*\" is a programming term for a sequence of characters. A string might contain a single character, a word, a sentence, or a whole book.\n",
        "\n",
        "To distinguish text data from actual code, we demarcate strings by putting quotation marks around them. Single quotes (`'`) and double quotes (`\"`) are both valid, but the types of opening and closing quotation marks must match. The contents can be any sequence of characters, including numbers and symbols.\n",
        "\n",
        "We've seen strings before in `print` statements.  Below, two different strings are passed as arguments to the `print` function."
      ]
    },
    {
      "cell_type": "code",
      "execution_count": null,
      "metadata": {
        "id": "4rho4-zfivsZ"
      },
      "outputs": [],
      "source": [
        "print(\"I <3\", 'Data Science')"
      ]
    },
    {
      "cell_type": "markdown",
      "metadata": {
        "id": "-tDORxMyivsZ"
      },
      "source": [
        "Just like names can be given to numbers, names can be given to string values.  The names and strings aren't required to be similar in any way. Any name can be assigned to any string. Once you have used an assignment statement, the resulting object can be used multiple times in the same expression."
      ]
    },
    {
      "cell_type": "code",
      "execution_count": null,
      "metadata": {
        "id": "Zgw8FuboivsZ"
      },
      "outputs": [],
      "source": [
        "one = 'two'\n",
        "plus = '*'\n",
        "print(one, plus, one)"
      ]
    },
    {
      "cell_type": "markdown",
      "metadata": {
        "id": "oh5fz1eUivsZ"
      },
      "source": [
        "**Question 2.** Yuri Gagarin was the first person to travel through outer space.  When he emerged from his capsule upon landing on Earth, he [reportedly](https://en.wikiquote.org/wiki/Yuri_Gagarin) had the following conversation with a woman and girl who saw the landing:\n",
        "\n",
        "    The woman asked: \"Can it be that you have come from outer space?\"\n",
        "    Gagarin replied: \"As a matter of fact, I have!\"\n",
        "\n",
        "The cell below contains unfinished code.  Fill in the `...`s so that it prints out this conversation *exactly* as it appears above."
      ]
    },
    {
      "cell_type": "code",
      "execution_count": null,
      "metadata": {
        "id": "R1aKF_bxivsa"
      },
      "outputs": [],
      "source": [
        "woman_asking = ...\n",
        "woman_quote = '\"Can it be that you have come from outer space?\"'\n",
        "gagarin_reply = 'Gagarin replied:'\n",
        "gagarin_quote = ...\n",
        "\n",
        "print(woman_asking, woman_quote)\n",
        "print(gagarin_reply, gagarin_quote)"
      ]
    },
    {
      "cell_type": "markdown",
      "metadata": {
        "id": "580uCyDLivsa"
      },
      "source": [
        "## 2.1. String Methods"
      ]
    },
    {
      "cell_type": "markdown",
      "metadata": {
        "id": "Ybm4ge-divsa"
      },
      "source": [
        "Strings can be transformed using **methods**, which are functions that involve an existing string and some other arguments. One example is the `replace` method, which replaces all instances of some part of a string with some alternative.\n",
        "\n",
        "A method is invoked on a string by placing a `.` after the string value, then the name of the method, and finally parentheses containing the arguments. Here's a sketch, where the `<` and `>` symbols aren't part of the syntax; they just mark the boundaries of sub-expressions.\n",
        "\n",
        "    <expression that evaluates to a string>.<method name>(<argument>, <argument>, ...)\n",
        "\n",
        "Try to predict the output of these examples, then execute them."
      ]
    },
    {
      "cell_type": "code",
      "execution_count": null,
      "metadata": {
        "id": "g4QvisLYivsa"
      },
      "outputs": [],
      "source": [
        "# Replace one letter\n",
        "'Hello'.replace('o', 'a')"
      ]
    },
    {
      "cell_type": "code",
      "execution_count": null,
      "metadata": {
        "id": "VOWWO52Divsa"
      },
      "outputs": [],
      "source": [
        "# Replace a sequence of letters, which appears twice\n",
        "'hitchhiker'.replace('hi', 'ma')"
      ]
    },
    {
      "cell_type": "markdown",
      "metadata": {
        "id": "6sJI3v6Mivsa"
      },
      "source": [
        "Once a name is bound to a string value, methods can be invoked on that name as well. The name is still bound to the original string, so a new name is needed to capture the result."
      ]
    },
    {
      "cell_type": "code",
      "execution_count": null,
      "metadata": {
        "id": "FUDjllEKivsa"
      },
      "outputs": [],
      "source": [
        "sharp = 'edged'\n",
        "hot = sharp.replace('ed', 'ma')\n",
        "print('sharp:', sharp)\n",
        "print('hot:', hot)"
      ]
    },
    {
      "cell_type": "markdown",
      "metadata": {
        "id": "0uPzOfphivsa"
      },
      "source": [
        "You can call functions on the results of other functions.  For example,\n",
        "\n",
        "    max(abs(-5), abs(3))\n",
        "\n",
        "has value 5.  Similarly, you can invoke methods on the results of other method (or function) calls."
      ]
    },
    {
      "cell_type": "code",
      "execution_count": null,
      "metadata": {
        "id": "lLIQLmqQivsa"
      },
      "outputs": [],
      "source": [
        "# Calling replace on the output of another call to\n",
        "# replace\n",
        "'train'.replace('t', 'ing').replace('in', 'de')"
      ]
    },
    {
      "cell_type": "markdown",
      "metadata": {
        "id": "SwNZ7qhQivsa"
      },
      "source": [
        "Here's a picture of how Python evaluates a \"chained\" method call like that:\n",
        "\n",
        "<img src=\"https://github.com/albertostefanelli/data_science_campaigns/blob/master/Colab/Lab2/chaining_method_calls.jpg?raw=1\"/>"
      ]
    },
    {
      "cell_type": "markdown",
      "metadata": {
        "id": "Fxy2GPJUivsa"
      },
      "source": [
        "**Question 3.** Assign strings to the names `you` and `this` so that the final expression evaluates to a 10-letter English word with three double letters in a row. Click [this link](https://riddlesbrainteasers.com/english-word-three-consecutive-double-letters/) if you want a hint.\n",
        "\n",
        "*Hint:* After you guess at some values for `you` and `this`, it's helpful to see the value of the variable `the`.  Try printing the value of `the` by adding a line like this:\n",
        "    \n",
        "    print(the)"
      ]
    },
    {
      "cell_type": "code",
      "execution_count": null,
      "metadata": {
        "id": "H5sGdf2aivsa"
      },
      "outputs": [],
      "source": [
        "you = ...\n",
        "this = ...\n",
        "a = 'beeper'\n",
        "the = a.replace('p', you)\n",
        "the.replace('bee', this)"
      ]
    },
    {
      "cell_type": "markdown",
      "metadata": {
        "id": "78oeYhfLivsa"
      },
      "source": [
        "Other string methods do not take any arguments at all, because the original string is all that's needed to compute the result. In this case, parentheses are still needed, but there's nothing in between the parentheses. Here are some methods that work that way:\n",
        "\n",
        "|Method name|Value|\n",
        "|-|-|\n",
        "|`lower`|a lowercased version of the string|\n",
        "|`upper`|an uppercased version of the string|\n",
        "|`capitalize`|a version with the first letter capitalized|\n",
        "|`title`|a version with the first letter of every word capitalized||\n"
      ]
    },
    {
      "cell_type": "code",
      "execution_count": null,
      "metadata": {
        "id": "FPXsmEafivsa"
      },
      "outputs": [],
      "source": [
        "'yALe universITY'.title()"
      ]
    },
    {
      "cell_type": "markdown",
      "metadata": {
        "id": "jaSzMDD9ivsa"
      },
      "source": [
        "All these string methods are useful, but most programmers don't memorize their names or how to use them.  In the \"real world,\" people usually just search the internet for documentation and examples. A complete [list of string methods](https://docs.python.org/3/library/stdtypes.html#string-methods) appears in the Python language documentation. [Stack Overflow](http://stackoverflow.com) has a huge database of answered questions that often demonstrate how to use these methods to achieve various ends."
      ]
    },
    {
      "cell_type": "markdown",
      "metadata": {
        "id": "FBpXYMjrivsa"
      },
      "source": [
        "## 2.2. Converting to and from Strings"
      ]
    },
    {
      "cell_type": "markdown",
      "metadata": {
        "id": "JA1-98R9ivsa"
      },
      "source": [
        "Strings and numbers are different *types* of values, even when a string contains the digits of a number. For example, evaluating the following cell causes an error because an integer cannot be added to a string."
      ]
    },
    {
      "cell_type": "code",
      "execution_count": null,
      "metadata": {
        "id": "zJJadQimivsa"
      },
      "outputs": [],
      "source": [
        "8 + \"8\""
      ]
    },
    {
      "cell_type": "markdown",
      "metadata": {
        "id": "L3TgPGaEivsa"
      },
      "source": [
        "However, there are built-in functions to convert numbers to strings and strings to numbers.\n",
        "\n",
        "    int:   Converts a string of digits to an integer (\"int\") value\n",
        "    float: Converts a string of digits, perhaps with a decimal point, to a decimal (\"float\") value\n",
        "    str:   Converts any value to a string"
      ]
    },
    {
      "cell_type": "markdown",
      "metadata": {
        "id": "X1Q0GWScivsa"
      },
      "source": [
        "Try to predict what the following cell will evaluate to, then evaluate it."
      ]
    },
    {
      "cell_type": "code",
      "execution_count": null,
      "metadata": {
        "id": "1t9ViDMaivsa"
      },
      "outputs": [],
      "source": [
        "8 + int(\"8\")"
      ]
    },
    {
      "cell_type": "markdown",
      "metadata": {
        "id": "cHs1-5peivsa"
      },
      "source": [
        "Suppose you're writing a program that looks for dates in a text, and you want your program to find the amount of time that elapsed between two years it has identified.  It doesn't make sense to subtract two texts, but you can first convert the text containing the years into numbers.\n",
        "\n",
        "**Question 4.** Finish the code below to compute the number of years that elapsed between `one_year` and `another_year`.  Don't just write the numbers `2012` and `2016` (or `4`); use a conversion function to turn the given text data into numbers."
      ]
    },
    {
      "cell_type": "code",
      "execution_count": null,
      "metadata": {
        "id": "y2-ZY2lBivsa"
      },
      "outputs": [],
      "source": [
        "# Some text data:\n",
        "one_year = \"2012\"\n",
        "another_year = \"2016\"\n",
        "\n",
        "# Complete the next line.  Note that we can't just write:\n",
        "#   another_year - one_year\n",
        "# If you don't see why, try seeing what happens when you\n",
        "# write that here.\n",
        "difference = ...\n",
        "difference"
      ]
    },
    {
      "cell_type": "markdown",
      "metadata": {
        "id": "QLUQmpvVivsb"
      },
      "source": [
        "## 2.3. Strings as function arguments\n",
        "\n",
        "String values, like numbers, can be arguments to functions and can be returned by functions.  The function `len` takes a single string as its argument and returns the number of characters in the string: its **len**-gth.  \n",
        "\n",
        "Note that it doesn't count *words*. `len(\"one small step for man\")` is 22, not 5.\n",
        "\n",
        "**Question 5.**  Use `len` to find out the number of characters in the very long string in the next cell.  (It's the first sentence of the English translation of the French [Declaration of the Rights of Man](http://avalon.law.yale.edu/18th_century/rightsof.asp).)  The length of a string is the total number of characters in it, including things like spaces and punctuation.  Assign `sentence_length` to that number."
      ]
    },
    {
      "cell_type": "code",
      "execution_count": null,
      "metadata": {
        "id": "jfcfpLjiivsb"
      },
      "outputs": [],
      "source": [
        "a_very_long_sentence = \"The representatives of the French people, organized as a National Assembly, believing that the ignorance, neglect, or contempt of the rights of man are the sole cause of public calamities and of the corruption of governments, have determined to set forth in a solemn declaration the natural, unalienable, and sacred rights of man, in order that this declaration, being constantly before all the members of the Social body, shall remind them continually of their rights and duties; in order that the acts of the legislative power, as well as those of the executive power, may be compared at any moment with the objects and purposes of all political institutions and may thus be more respected, and, lastly, in order that the grievances of the citizens, based hereafter upon simple and incontestable principles, shall tend to the maintenance of the constitution and redound to the happiness of all.\"\n",
        "sentence_length = ...\n",
        "sentence_length"
      ]
    },
    {
      "cell_type": "markdown",
      "metadata": {
        "id": "6rPBTxiQivsb"
      },
      "source": [
        "# 3. Importing code\n",
        "\n",
        "> What has been will be again,  \n",
        "> what has been done will be done again;  \n",
        "> there is nothing new under the sun.\n",
        "\n",
        "Most programming involves work that is very similar to work that has been done before.  Since writing code is time-consuming, it's good to rely on others' published code when you can.  Rather than copy-pasting, Python allows us to **import** other code, creating a **module** that contains all of the names created by that code.\n",
        "\n",
        "Python includes many useful modules that are just an `import` away. The `import` statement allows you to load modules created by others into your working environment, enabling you to use their functionality in your code.\n",
        "\n",
        "We'll look at the `math` module as a first example. The `math` module is extremely useful in computing mathematical expressions in Python.\n",
        "\n",
        "Suppose we want to very accurately compute the area of a circle with radius 5 meters.  For that, we need the constant $\\pi$, which is roughly 3.14.  Conveniently, the `math` module has `pi` defined for us:"
      ]
    },
    {
      "cell_type": "code",
      "execution_count": null,
      "metadata": {
        "id": "ZgMJB5bcivsb"
      },
      "outputs": [],
      "source": [
        "import math\n",
        "radius = 5\n",
        "area_of_circle = radius**2 * math.pi\n",
        "area_of_circle"
      ]
    },
    {
      "cell_type": "markdown",
      "metadata": {
        "id": "gP7-sKi1ivsb"
      },
      "source": [
        "`pi` is defined inside `math`, and the way that we access names that are inside modules is by writing the module's name, then a dot, then the name of the thing we want:\n",
        "\n",
        "    <module name>.<name>\n",
        "    \n",
        "In order to use a module at all, we must first write the statement `import <module name>`.  That statement creates a module object with things like `pi` in it and then assigns the name `math` to that module.  Above we have done that for `math`."
      ]
    },
    {
      "cell_type": "markdown",
      "metadata": {
        "id": "LK-0KVq0ivsb"
      },
      "source": [
        "**Question 6.** `math` also provides the name `e` for the base of the natural logarithm, which is roughly 2.71.  Compute $e^{\\pi}-\\pi$, giving it the name `near_twenty`."
      ]
    },
    {
      "cell_type": "code",
      "execution_count": null,
      "metadata": {
        "id": "71Ut4ccpivsb"
      },
      "outputs": [],
      "source": [
        "near_twenty = ...\n",
        "near_twenty"
      ]
    },
    {
      "cell_type": "markdown",
      "metadata": {
        "id": "OBp4Dj-_ivsb"
      },
      "source": [
        "## 3.1. Importing functions\n",
        "\n",
        "**Modules** can provide other named things, including **functions**.  For example, `math` provides the name `sin` for the sine function.  Having imported `math` already, we can write `math.sin(3)` to compute the sine of 3.  (Note that this sine function considers its argument to be in [radians](https://en.wikipedia.org/wiki/Radian), not degrees.  180 degrees are equivalent to $\\pi$ radians.)\n",
        "\n",
        "**Question 7.** A $\\frac{\\pi}{4}$-radian (45-degree) angle forms a right triangle with equal base and height, pictured below.  If the hypotenuse (the radius of the circle in the picture) is 1, then the height is $\\sin(\\frac{\\pi}{4})$.  Compute that using `sin` and `pi` from the `math` module.  Give the result the name `sine_of_pi_over_four`.\n",
        "\n",
        "<img src=\"https://github.com/albertostefanelli/data_science_campaigns/blob/master/Colab/Lab2/trig.jpg?raw=1\">"
      ]
    },
    {
      "cell_type": "code",
      "execution_count": null,
      "metadata": {
        "id": "BtSYUn8aivsb"
      },
      "outputs": [],
      "source": [
        "sine_of_pi_over_four = ...\n",
        "sine_of_pi_over_four"
      ]
    },
    {
      "cell_type": "markdown",
      "metadata": {
        "id": "UlNIWXz6ivsb"
      },
      "source": [
        "For your reference, here are some more examples of functions from the `math` module.\n",
        "\n",
        "Note how different methods take in different number of arguments. Often, the documentation of the module will provide information on how many arguments is required for each method."
      ]
    },
    {
      "cell_type": "code",
      "execution_count": null,
      "metadata": {
        "id": "BV7BHaZ6ivsb"
      },
      "outputs": [],
      "source": [
        "# Calculating factorials.\n",
        "math.factorial(5)"
      ]
    },
    {
      "cell_type": "code",
      "execution_count": null,
      "metadata": {
        "id": "AMyhVeGWivsb"
      },
      "outputs": [],
      "source": [
        "# Calculating logarithms (the logarithm of 8 in base 2).\n",
        "# The result is 3 because 2 to the power of 3 is 8.\n",
        "math.log(8, 2)"
      ]
    },
    {
      "cell_type": "code",
      "execution_count": null,
      "metadata": {
        "id": "BLJvShBOivsb"
      },
      "outputs": [],
      "source": [
        "# Calculating square roots.\n",
        "math.sqrt(5)"
      ]
    },
    {
      "cell_type": "code",
      "execution_count": null,
      "metadata": {
        "id": "fry7wpvUivsb"
      },
      "outputs": [],
      "source": [
        "# Calculating cosines.\n",
        "math.cos(math.pi)"
      ]
    },
    {
      "cell_type": "markdown",
      "metadata": {
        "id": "rW0Kt48Qivsb"
      },
      "source": [
        "There's many variations of how we can import methods from outside sources. For example, we can import just a specific method from an outside source. This is particularly useful to reduce memory usage and to avoid conflicts in those cases where multiple modules contain functions with the same name. We can also rename a library we import, and we can import every single method from a whole library."
      ]
    },
    {
      "cell_type": "code",
      "execution_count": null,
      "metadata": {
        "id": "rssUrljbivsb"
      },
      "outputs": [],
      "source": [
        "#Importing just cos and pi from math.\n",
        "#Notice that we don't have to use \"math.\" before hand for cos and pi\n",
        "from math import cos, pi\n",
        "print(cos(pi))\n",
        "#We do have to use it infront of other methods from math, though\n",
        "math.log(pi)"
      ]
    },
    {
      "cell_type": "code",
      "execution_count": null,
      "metadata": {
        "id": "kZtwPagaivsb"
      },
      "outputs": [],
      "source": [
        "#We can nickname math as something else, if we don't want to type math\n",
        "import math as m\n",
        "m.log(m.pi)"
      ]
    },
    {
      "cell_type": "code",
      "execution_count": null,
      "metadata": {
        "id": "nrN_wQI5ivsb"
      },
      "outputs": [],
      "source": [
        "#Lastly, we can import ever thing from math\n",
        "from math import *\n",
        "log(pi)"
      ]
    },
    {
      "cell_type": "markdown",
      "metadata": {
        "id": "hurwhxfWivsb"
      },
      "source": [
        "# 4. Arrays\n",
        "\n",
        "Up to now, we haven't done much that you couldn't do yourself by hand, without going through the trouble of learning Python.  Computers are most useful when you can use a small amount of code to *do the same action* to *many different things*.\n",
        "\n",
        "For example, in the time it takes you to calculate the 18% tip on a restaurant bill, a laptop can calculate 18% tips for every restaurant bill paid by every human on Earth that day.  (That's if you're pretty fast at doing arithmetic in your head!)\n",
        "\n",
        "**Arrays** are how we put many values in one place so that we can operate on them as a group. For example, if `billions_of_numbers` is an array of numbers, the expression\n",
        "\n",
        "    .18 * billions_of_numbers\n",
        "\n",
        "gives a new array of numbers that's the result of multiplying each number in `billions_of_numbers` by .18 (18%).  Arrays are not limited to numbers; we can also put all the words in a book into an array of strings.\n",
        "\n",
        "Concretely, an array is a **collection of values of the same type**, like a column in an Excel spreadsheet.\n",
        "\n",
        "<img src=\"https://github.com/albertostefanelli/data_science_campaigns/blob/master/Colab/Lab2/excel_array.jpg?raw=1\">"
      ]
    },
    {
      "cell_type": "markdown",
      "metadata": {
        "id": "KDywEuFlivsc"
      },
      "source": [
        "## 4.1. Making arrays\n",
        "You can type in the data that goes in an array yourself, but that's not typically how programs work. Normally, we create arrays by loading them from an external source, like a data file.\n",
        "\n",
        "Arrays are provided by a package called [NumPy](http://www.numpy.org/) (pronounced \"NUM-pie\" or, if you prefer to pronounce things incorrectly, \"NUM-pee\").  The package is called `numpy`, but it's standard to rename it `np` for brevity.  You can do that with:\n",
        "\n",
        "    import numpy as np\n",
        "\n",
        "Execute the following cell so that all the names from the `numpy` module are available to you when you type `np`."
      ]
    },
    {
      "cell_type": "code",
      "execution_count": null,
      "metadata": {
        "id": "hyIy-Wboivsc"
      },
      "outputs": [],
      "source": [
        "import numpy as np"
      ]
    },
    {
      "cell_type": "markdown",
      "metadata": {
        "id": "oLTbaBC5ivsc"
      },
      "source": [
        "Now, to create an array, call the function `array`.  Each argument you pass to `array` will be in the array it returns.  Run this cell to see an example:"
      ]
    },
    {
      "cell_type": "code",
      "execution_count": null,
      "metadata": {
        "scrolled": true,
        "id": "9xoDANVEivsc"
      },
      "outputs": [],
      "source": [
        "sample_array = np.array([0.125, 4.75, -1.3])\n",
        "sample_array"
      ]
    },
    {
      "cell_type": "markdown",
      "metadata": {
        "id": "Augpm9Q2ivsc"
      },
      "source": [
        "Each value in an array (in the above case, the numbers 0.125, 4.75, and -1.3) is called an *element* of that array. Pay attention to how `array` requires you to first use parantheses to call the function, then brackets to call the array.\n",
        "\n",
        "Arrays themselves are also values, just like numbers and strings.  That means you can assign them names or use them as arguments to functions.\n",
        "\n",
        "**Question 8** Make an array containing the numbers 1, 2, and 3, in that order.  Name it `small_numbers`."
      ]
    },
    {
      "cell_type": "code",
      "execution_count": null,
      "metadata": {
        "id": "3toESWxEivsc"
      },
      "outputs": [],
      "source": [
        "small_numbers = ...\n",
        "small_numbers"
      ]
    },
    {
      "cell_type": "markdown",
      "metadata": {
        "id": "DpGGWnCYivsc"
      },
      "source": [
        "**Question 9.** Make an array containing the numbers 0, 1, -1, $\\pi$, and $e$, in that order.  Name it `interesting_numbers`.  *Hint:* How did you get the values $\\pi$ and $e$ earlier?  You can refer to them in exactly the same way here."
      ]
    },
    {
      "cell_type": "code",
      "execution_count": null,
      "metadata": {
        "id": "a8Ovx80Aivsc"
      },
      "outputs": [],
      "source": [
        "interesting_numbers = ...\n",
        "interesting_numbers"
      ]
    },
    {
      "cell_type": "markdown",
      "metadata": {
        "id": "efleC_2hivsc"
      },
      "source": [
        "**Question 10.** Make an array containing the five strings `\"Hello\"`, `\",\"`, `\" \"`, `\"world\"`, and `\"!\"`.  (The third one is a single space inside quotes.)  Name it `hello_world_components`.\n",
        "\n",
        "*Note:* If you print `hello_world_components`, you'll notice some extra information in addition to its contents: `dtype='<U5'`.  That's just NumPy's extremely cryptic way of saying that the things in the array are strings."
      ]
    },
    {
      "cell_type": "code",
      "execution_count": null,
      "metadata": {
        "id": "GC9vrovIivsc"
      },
      "outputs": [],
      "source": [
        "hello_world_components = ...\n",
        "hello_world_components"
      ]
    },
    {
      "cell_type": "markdown",
      "metadata": {
        "id": "SK3Ycx2Yivsc"
      },
      "source": [
        "### 4.1.1.  `np.arange`\n",
        "\n",
        "Very often in data science, we want to work with many numbers that are evenly spaced within some range.  NumPy provides a special function for this called `arange`.  `np.arange(start, stop, space)` produces an array with all the numbers starting at `start` and counting up by `space`, stopping before `stop` is reached.\n",
        "\n",
        "For example, the value of `np.arange(1, 6, 2)` is an array with elements 1, 3, and 5 -- it starts at 1 and counts up by 2, then stops before 6.  In other words, it's equivalent to `array([1, 3, 5])`.\n",
        "\n",
        "`np.arange(4, 9, 1)` is an array with elements 4, 5, 6, 7, and 8.  (It doesn't contain 9 because `np.arange` stops *before* the stop value is reached.)\n",
        "\n",
        "**Question 11.** Use `np.arange` to create an array with the multiples of 99 from 0 up to (**and including**) 9999.  (So its elements are 0, 99, 198, 297, etc.)"
      ]
    },
    {
      "cell_type": "code",
      "execution_count": null,
      "metadata": {
        "id": "DG7K09bGivsc"
      },
      "outputs": [],
      "source": [
        "multiples_of_99 = ...\n",
        "multiples_of_99"
      ]
    },
    {
      "cell_type": "markdown",
      "metadata": {
        "id": "wagd0Z2Divsc"
      },
      "source": [
        "## 4.2. Working with single elements of arrays (\"indexing\")\n",
        "Let's work with a more interesting dataset.  The next cell creates an array called `population` that includes estimated world populations in every year from **1950** to roughly the present.  (The estimates come from the [US Census Bureau website](http://www.census.gov/population/international/data/worldpop/table_population.php).)\n",
        "\n",
        "Rather than type in the data manually, we've loaded them from a file on your computer called `world_population.csv`.  You'll learn how to do that next week."
      ]
    },
    {
      "cell_type": "code",
      "execution_count": null,
      "metadata": {
        "scrolled": true,
        "id": "kjSJzwGOivsc"
      },
      "outputs": [],
      "source": [
        "# Don't worry too much about what goes on in this cell.\n",
        "from pandas import *\n",
        "population = read_csv(\"https://raw.githubusercontent.com/joshuakalla/data_science_campaigns/master/Colab/Lab2/world_population.csv\", usecols = [\"Population\"])\n",
        "population"
      ]
    },
    {
      "cell_type": "markdown",
      "metadata": {
        "id": "C1ku2ZPdivsc"
      },
      "source": [
        "Here's how we get the first element of `population`, which is the world population in the first year in the dataset, 1950."
      ]
    },
    {
      "cell_type": "code",
      "execution_count": null,
      "metadata": {
        "id": "4GB4emMGivsc"
      },
      "outputs": [],
      "source": [
        "population.iloc[0]"
      ]
    },
    {
      "cell_type": "markdown",
      "metadata": {
        "id": "8-wEzaQ2ivsc"
      },
      "source": [
        "The value of that expression is the number 2557628654 (around 2.5 billion), because that's the first thing in the data frame `population`.\n",
        "\n",
        "Notice that we wrote `.iloc[0]`, not `.iloc[1]`, to get the first element.  This is a weird convention in computer science.  0 is called the *index* of the first item.  It's the number of elements that appear *before* that item.  So 3 is the index of the 4th item.\n",
        "\n",
        "Here are some more examples.  In the examples, we've given names to the things we get out of `population`.  Read and run each cell."
      ]
    },
    {
      "cell_type": "code",
      "execution_count": null,
      "metadata": {
        "id": "Adkkv7GVivsc"
      },
      "outputs": [],
      "source": [
        "# The third element in the array is the population\n",
        "# in 1952.\n",
        "population_1952 = population.iloc[2]\n",
        "population_1952"
      ]
    },
    {
      "cell_type": "code",
      "execution_count": null,
      "metadata": {
        "id": "TsYStSCQivsd"
      },
      "outputs": [],
      "source": [
        "# The thirteenth element in the array is the population\n",
        "# in 1962 (which is 1950 + 12).\n",
        "population_1962 = population.iloc[12]\n",
        "population_1962"
      ]
    },
    {
      "cell_type": "code",
      "execution_count": null,
      "metadata": {
        "id": "MG_ap-dNivsd"
      },
      "outputs": [],
      "source": [
        "# The array has only 66 elements, so this doesn't work.\n",
        "# (There's no element with 66 other elements before it.)\n",
        "population_2016 = population.iloc[66]\n",
        "population_2016"
      ]
    },
    {
      "cell_type": "markdown",
      "metadata": {
        "id": "kIhb-RQdivsd"
      },
      "source": [
        "**Question 12.** Set `population_1973` to the world population in 1973, by getting the appropriate element from `population` using `iloc`."
      ]
    },
    {
      "cell_type": "code",
      "execution_count": null,
      "metadata": {
        "id": "OpRYv0p5ivsd"
      },
      "outputs": [],
      "source": [
        "population_1973 = ...\n",
        "population_1973"
      ]
    },
    {
      "cell_type": "markdown",
      "metadata": {
        "id": "-N3ZeCBTivsd"
      },
      "source": [
        "## 4.3. Doing something to every element of an array\n",
        "Arrays are primarily useful for doing the same operation many times, so we don't often have to use `.iloc` and work with single elements.\n",
        "\n",
        "##### Logarithms\n",
        "Here is one simple question we might ask about world population:\n",
        "\n",
        "> How big was the population in *orders of magnitude* in each year?\n",
        "\n",
        "The logarithm function is one way of measuring how big a number is. The logarithm (base 10) of a number increases by 1 every time we multiply the number by 10. It's like a measure of how many decimal digits the number has, or how big it is in orders of magnitude.\n",
        "\n",
        "We could try to answer our question like this, using the `log10` function from the `math` module and the `item` method you just saw:"
      ]
    },
    {
      "cell_type": "code",
      "execution_count": null,
      "metadata": {
        "id": "RzolSpdWivsd"
      },
      "outputs": [],
      "source": [
        "import math\n",
        "\n",
        "population_1950_magnitude = math.log10(population.iloc[0].item())\n",
        "population_1951_magnitude = math.log10(population.iloc[1].item())\n",
        "population_1952_magnitude = math.log10(population.iloc[2].item())\n",
        "population_1953_magnitude = math.log10(population.iloc[3].item())\n",
        "..."
      ]
    },
    {
      "cell_type": "markdown",
      "metadata": {
        "id": "KXRAU0YRivsd"
      },
      "source": [
        "But this is tedious and doesn't really take advantage of the fact that we are using a computer.\n",
        "\n",
        "Instead, NumPy provides its own version of `log10` that takes the logarithm of each element of an array.  It takes a single array of numbers as its argument.  It returns an array of the same length, where the first element of the result is the logarithm of the first element of the argument, and so on.\n",
        "\n",
        "In the code below, we use the `apply` method to apply the `np.log10` function to every element in the `population` dataframe. The `apply` method, provided by the Pandas library, allows us to apply a function to each element of a dataframe.\n",
        "\n",
        "We achieve this by calling the `population` dataframe and using dot notation to access its methods, in this case, applying `np.log10` to transform the data."
      ]
    },
    {
      "cell_type": "code",
      "execution_count": null,
      "metadata": {
        "id": "LblPdwngivsd"
      },
      "outputs": [],
      "source": [
        "population_magnitudes = population.apply(np.log10)\n",
        "population_magnitudes"
      ]
    },
    {
      "cell_type": "markdown",
      "metadata": {
        "id": "12iNgO4fivsd"
      },
      "source": [
        "##### Arithmetic\n",
        "\n",
        "You can also do arithmetic on a data frame. For example, you can divide all the population numbers by 1 billion to get numbers in billions.\n",
        "\n",
        "In this case, we don't need to use the `apply` function because we're performing division with a built-in Python arithmetic operator rather than applying a separate function.\n"
      ]
    },
    {
      "cell_type": "code",
      "execution_count": null,
      "metadata": {
        "id": "qipszIKrivsd"
      },
      "outputs": [],
      "source": [
        "population_in_billions = population / 1000000000\n",
        "population_in_billions"
      ]
    },
    {
      "cell_type": "markdown",
      "metadata": {
        "id": "7RMBGNMzivsd"
      },
      "source": [
        "You can do the same with addition, subtraction, multiplication, and exponentiation (`**`). For example, you can calculate a tip on several restaurant bills at once (in this case just 3):"
      ]
    },
    {
      "cell_type": "code",
      "execution_count": null,
      "metadata": {
        "id": "ne2E_vMCivsd"
      },
      "outputs": [],
      "source": [
        "restaurant_bills = np.array([20.12, 39.90, 31.01])\n",
        "print(\"Restaurant bills:\\t\", restaurant_bills)\n",
        "tips = .2 * restaurant_bills\n",
        "print(\"Tips:\\t\\t\\t\", tips)"
      ]
    },
    {
      "cell_type": "markdown",
      "metadata": {
        "id": "pz8f6xe7ivsd"
      },
      "source": [
        "<img src=\"https://github.com/albertostefanelli/data_science_campaigns/blob/master/Colab/Lab2/array_multiplication.jpg?raw=1\">\n",
        "\n",
        "**Question 13.** Suppose the total charge at a restaurant is the original bill plus the tip.  That means we can multiply the original bill by 1.2 to get the total charge.  Compute the total charge for each bill in `restaurant_bills`."
      ]
    },
    {
      "cell_type": "code",
      "execution_count": null,
      "metadata": {
        "id": "BBUrRhbiivsd"
      },
      "outputs": [],
      "source": [
        "total_charges = ...\n",
        "total_charges"
      ]
    },
    {
      "cell_type": "markdown",
      "metadata": {
        "id": "-LBmKGJvivsd"
      },
      "source": [
        "**Question 14.** more_restaurant_bills.csv contains 100,000 bills! Compute the total charge for each one. How is your code different?"
      ]
    },
    {
      "cell_type": "code",
      "execution_count": null,
      "metadata": {
        "id": "iJXubpzKivsd"
      },
      "outputs": [],
      "source": [
        "more_restaurant_bills = read_csv(\"https://raw.githubusercontent.com/joshuakalla/data_science_campaigns/master/Colab/Lab2/more_restaurant_bills.csv\")\n",
        "more_total_charges = ...\n",
        "more_total_charges\n",
        "more_total_charges.head()"
      ]
    },
    {
      "cell_type": "markdown",
      "metadata": {
        "id": "E-hxahJWivsd"
      },
      "source": [
        "**Question 15.** What is the sum of all the bills in `more_restaurant_bills`, *including tips*?\n",
        "\n",
        "We have not yet covered this function. Learning how to get comfortable Googling for help is an important step in learning how to program. See if you can figure this out on your own.\n",
        "\n",
        "*Hint 1*: Remember `NumPy`.\n",
        "\n",
        "*Hint 2*: You can also use the `help()` function in Python to view documentation for various functions. For example, executing `help(more_restaurant_bills.head)` will display the documentation for the `head` method of the `more_restaurant_bills` object.\n"
      ]
    },
    {
      "cell_type": "code",
      "execution_count": null,
      "metadata": {
        "id": "tfbpV1Abivsd"
      },
      "outputs": [],
      "source": [
        "sum_of_bills = ...\n",
        "sum_of_bills"
      ]
    },
    {
      "cell_type": "markdown",
      "metadata": {
        "id": "d_VOhUsdivsd"
      },
      "source": [
        "# 5. Merging Voting Data\n",
        "\n",
        "I created fake data reflecting how Obama/Romney and Trump/Clinton performed in 10 Connecticut precincts. See below."
      ]
    },
    {
      "cell_type": "code",
      "execution_count": null,
      "metadata": {
        "id": "dQMxpspzivsd"
      },
      "outputs": [],
      "source": [
        "ct12 = read_csv(\"https://raw.githubusercontent.com/joshuakalla/data_science_campaigns/master/Colab/Lab2/election12.csv\")\n",
        "ct16 = read_csv(\"https://raw.githubusercontent.com/joshuakalla/data_science_campaigns/master/Colab/Lab2/election16.csv\")"
      ]
    },
    {
      "cell_type": "code",
      "execution_count": null,
      "metadata": {
        "id": "pj0zVohLivse"
      },
      "outputs": [],
      "source": [
        "# Here is the 2012 data\n",
        "ct12"
      ]
    },
    {
      "cell_type": "code",
      "execution_count": null,
      "metadata": {
        "id": "erLg-rTPivse"
      },
      "outputs": [],
      "source": [
        "# Here is the 2016 data\n",
        "ct16"
      ]
    },
    {
      "cell_type": "markdown",
      "metadata": {
        "id": "hQ681IeEivse"
      },
      "source": [
        "### Question 16.\n",
        "What percent of the vote did Romney receive in each precinct? To do this, create a new column called romney_vote_share which is defined as Romney / (Romney + Obama). Do the same with Trump.\n",
        "\n",
        "Below is some code to help you get started."
      ]
    },
    {
      "cell_type": "code",
      "execution_count": null,
      "metadata": {
        "id": "tUxVZzSJivse"
      },
      "outputs": [],
      "source": [
        "ct12['romney_vote_share'] = ct12['Romney'] # You are going to need to change this\n",
        "ct12 # Check your work"
      ]
    },
    {
      "cell_type": "code",
      "execution_count": null,
      "metadata": {
        "id": "yRK89oAMivse"
      },
      "outputs": [],
      "source": [
        "ct16['trump_vote_share'] = ct16['Trump'] # You are going to need to change this\n",
        "ct16 # Check your work"
      ]
    },
    {
      "cell_type": "markdown",
      "metadata": {
        "id": "hrx4YVnWivse"
      },
      "source": [
        "### Question 17 (challenging).\n",
        "\n",
        "\n",
        "Join together the two election years so that you have one table that has precinct, trump_vote_share, and romney_vote_share. Use this to calculate a column called change_in_vote_share.\n",
        "\n",
        "To do this, you will first need to clean the ct12 data. Notice a few things:\n",
        "- In `CT12`, the column is called `precinct`. In `CT16`, it is called `Precinct`.\n",
        "- In `CT12`, see `ct3` and `CT-6`. You will want these to match the same names as `CT16`."
      ]
    },
    {
      "cell_type": "code",
      "execution_count": null,
      "metadata": {
        "id": "XOC8YttDivse"
      },
      "outputs": [],
      "source": [
        "# Make your changes to ct12 here.\n",
        "\n",
        "# First, rename your column.\n",
        "# For a hint, see https://stackoverflow.com/questions/11346283/renaming-column-names-in-pandas\n",
        "\n",
        "# Second, fix ct3 and CT-6.\n",
        "# You will need something like: data[\"name\"]= data[\"name\"].replace(\"Josh\", \"Joshua\")\n",
        "# You can read more at https://www.geeksforgeeks.org/python-pandas-series-str-replace-to-replace-text-in-a-series/\n",
        "\n",
        "# Check your work\n",
        "ct12"
      ]
    },
    {
      "cell_type": "code",
      "execution_count": null,
      "metadata": {
        "id": "BKU6_kLBivse"
      },
      "outputs": [],
      "source": [
        "# Once CT12 Precinct matches CT16 Precinct, you can create a merged table.\n",
        "# Note that the merge function comes form Pandas.\n",
        "# Use this code.\n",
        "merged_elections = merge(ct12, ct16, on='Precinct')\n",
        "\n",
        "# Look at the ouput.\n",
        "merged_elections"
      ]
    },
    {
      "cell_type": "code",
      "execution_count": null,
      "metadata": {
        "id": "vLLE658Eivse"
      },
      "outputs": [],
      "source": [
        "# Create change_in_vote_share\n",
        "merged_elections[\"change_in_vote_share\"] = merged_elections[\"trump_vote_share\"] - merged_elections[\"romney_vote_share\"]\n",
        "\n",
        "# Calculate the average (mean) of change in vote share\n",
        "print(merged_elections.loc[:,\"change_in_vote_share\"].mean())\n",
        "\n",
        "# Check your output\n",
        "merged_elections"
      ]
    },
    {
      "cell_type": "markdown",
      "metadata": {
        "id": "OM0pcyB1ivse"
      },
      "source": [
        "# Congratulations!\n",
        "\n",
        "You are done with the lab. Before you finish and submit, please fill out this brief evaluation:\n",
        "\n",
        "- I spent around XXXX hours on this lab,.\n",
        "- This lab was (too easy, too hard, just about the right difficulty).\n",
        "\n",
        "All assignments in the course will be distributed as notebooks like this one, and you will submit your work as a PDF.  \n",
        "\n",
        "# How to Convert your Colab notebook to a PDF and download it\n",
        "\n",
        "Follow these instructions exactly to make sure your notebook is correctly converted to a PDF and saved to your computer.\n",
        "\n",
        "---\n",
        "\n",
        "## 1. Check everything is in order and all the code runs\n",
        "\n",
        "Before starting the conversion process, make sure your notebook is complete and error-free.\n",
        "\n",
        "1. **Open your notebook** in Google Colab.\n",
        "2. **Save your work**:\n",
        "   - Go to **File → Save** or press `Ctrl + S` (Windows) / `Cmd + S` (Mac).\n",
        "   - This ensures that all your recent changes are stored.\n",
        "3. **Run all the cells** to confirm there are no errors:\n",
        "   - In the top menu, select **Cell → Run All**.\n",
        "   - Colab will execute every cell in order.\n",
        "4. **Watch for errors**:\n",
        "   - If you see any red error messages, fix them before proceeding.\n",
        "   - A notebook with errors will **not** convert to PDF correctly.\n",
        "5. Once all cells run without errors, you can proceed to the next step.\n",
        "\n",
        "---\n",
        "\n",
        "## 2. Make sure your notebook is saved in Google Drive and named correctly\n",
        "Before converting, confirm that your notebook is stored in your Google Drive inside the `Colab Notebooks` folder.\n",
        "\n",
        "1. Look at the top-left corner of the Colab page — you’ll see the notebook’s current name next to two yellow circle icons.\n",
        "2. Rename the file by directly clicking on the name, type the new name, and press **Enter**.  \n",
        "  - Please rename the notebook to LASTNAME_FIRSTNAME_LAB#.pdf. So for this lab, I would call it Alberto_Stefanelli_Lab2.ipynb.\n",
        "  - The name must end with `.ipynb`\n",
        "3. Ensure the notebook is in your Google Drive (not in Colab’s temporary session storage):  \n",
        "   - In the menu, click **File → Locate in Drive**.  \n",
        "   - This will open the folder in Drive where the notebook is stored.  \n",
        "   - If it’s not in `My Drive/Colab Notebooks`, move it there for easier access.\n",
        "\n",
        "---\n",
        "\n",
        "## 3. Install the required tools\n",
        "\n",
        "We wrote some code (see below) to automatically convert your Notebook to PDF. When you run the provided code cell, the first step will install some essential pieces of software (i.e., Pandoc and Latex) inside your Colab environment. There is no need to exactly understand what is happening\n",
        "\n",
        "**Important:**\n",
        "- This installation will take between 2 to 5 minutes.\n",
        "- Do **not** close or refresh the Colab page while it runs.\n",
        "\n",
        "---\n",
        "\n",
        "## 4. Mount your Google Drive in Colab\n",
        "\n",
        "After installing the requirements, the code will ask Colab to **mount** your Google Drive. You can use both your personal or Yale account. This is needed because the notebook you are converting must be saved in Drive before it can be converted to PDF.\n",
        "\n",
        "You will see a pop-up with a **link**:\n",
        "1. Click the link.\n",
        "2. Sign in to your Google account (use the same account where your Colab notebook is saved).\n",
        "3. If prompted, copy the long **authorization code** provided.\n",
        "  - Paste that code into the input box in Colab and press **Enter**.\n",
        "5. This will connect your Google Drive to Colab\n",
        "6. If the link does not appear, make sure your browser is not blocking pop-ups.\n",
        "\n",
        "---\n",
        "\n",
        "## 5. Enter your notebook’s file name\n",
        "\n",
        "The code will now ask to enter your notebook’s exact file name\n",
        "\n",
        "1. Type the **full name** of your notebook, including the `.ipynb` ending.  \n",
        "  - Example: `Alberto_Stefanelli_Lab2.ipynb.`\n",
        "2. Make sure the name matches exactly, including capitalization and underscores.\n",
        "3. Press **Enter**.\n",
        "\n",
        "---\n",
        "\n",
        "## 7. Convert the notebook to PDF and download it\n",
        "\n",
        "The code will convert the notebook file to a pdf. After the PDF is created, your browser will show a download pop-up or automatically save the file to your Downloads folder. You can now open the PDF with any PDF reader. Once you have your PDF and made sure eveything is in order, you can then upload it to Canvas.\n",
        "\n",
        "---\n",
        "\n",
        "## 8. If you see an error:\n",
        "\n",
        "Double-check that:\n",
        "\n",
        "- All cells run without errors\n",
        "- Mounted Google Drive without errors\n",
        "- Saved notebook to Google Drive and not locally or on Github\n",
        "- Entered correct notebook file name with `.ipynb`.\n",
        "- Conversion completed without any errors.\n",
        "- PDF downloaded to your computer (download and pop-ups are not blocked by your browser)\n",
        "\n",
        "\n",
        "**Fallback:** If the PDF export method below fails (for example, due to LaTeX or pandoc errors), you can use https://convert.ploomber.io/ as a fallback option. However, I strongly suggest trying the methods below first and using this fallback only as a last resort.\n",
        "\n",
        " **If you run into any issues, please reach out for help**\n"
      ]
    },
    {
      "cell_type": "code",
      "source": [
        "# Install requirements\n",
        "!apt-get -qq update\n",
        "!apt-get install -y pandoc texlive-xetex texlive-fonts-recommended texlive-plain-generic\n",
        "\n",
        "from google.colab import drive, files\n",
        "\n",
        "# Mount Google Drive\n",
        "drive.mount('/content/drive')\n",
        "\n",
        "# Ask for the notebook name\n",
        "notebook_name = input(\n",
        "    \"Enter your notebook’s exact file name,\\n\"\n",
        "    \"exactly as shown in the top-left corner of the Colab page (next to the two yellow circle icons): \"\n",
        ")\n",
        "\n",
        "# Build paths\n",
        "input_path = f\"/content/drive/MyDrive/Colab Notebooks/{notebook_name}\"\n",
        "output_path = input_path.replace(\".ipynb\", \".pdf\")\n",
        "\n",
        "# Convert to PDF\n",
        "!jupyter nbconvert --to pdf \"{input_path}\"\n",
        "\n",
        "# Download the PDF\n",
        "files.download(output_path)\n"
      ],
      "metadata": {
        "id": "XUdIArHRi5Xf"
      },
      "execution_count": null,
      "outputs": []
    }
  ],
  "metadata": {
    "anaconda-cloud": {},
    "kernelspec": {
      "display_name": "Python 3 (ipykernel)",
      "language": "python",
      "name": "python3"
    },
    "language_info": {
      "codemirror_mode": {
        "name": "ipython",
        "version": 3
      },
      "file_extension": ".py",
      "mimetype": "text/x-python",
      "name": "python",
      "nbconvert_exporter": "python",
      "pygments_lexer": "ipython3",
      "version": "3.11.4"
    },
    "colab": {
      "provenance": []
    }
  },
  "nbformat": 4,
  "nbformat_minor": 0
}