{
  "cells": [
    {
      "cell_type": "markdown",
      "metadata": {
        "id": "0znh3JVlyBKD"
      },
      "source": [
        "# Lab 5: Potential Outcomes and Simulations\n",
        "\n",
        "Welcome to lab 5! This week, we will go over potential outcomes and simulations, and introduce the concept of randomness. All of this material is covered in [Chapter 9](https://inferentialthinking.com/chapters/09/Randomness.html) and [Chapter 10](https://inferentialthinking.com/chapters/10/Sampling_and_Empirical_Distributions.html) of the textbook as well as Chapter 2 of Gerber and Green (available on http://canvas.yale.edu)."
      ]
    },
    {
      "cell_type": "code",
      "execution_count": null,
      "metadata": {
        "id": "Xc_hznp6yBKE"
      },
      "outputs": [],
      "source": [
        "import numpy as np\n",
        "import pandas as pd\n",
        "\n",
        "# These lines set up graphing capabilities.\n",
        "import matplotlib.pyplot as plt"
      ]
    },
    {
      "cell_type": "markdown",
      "metadata": {
        "id": "6l2kYP1gyBKF"
      },
      "source": [
        "## 1. Potential Outcomes\n",
        "\n",
        "We are going to use Python to re-create the analyses done in Chapter 2 of Gerber and Green.\n",
        "\n",
        "First, let's re-create Table 2.1. Do not manually enter the average of the treatment effect. For now, we only want Y0 and Y1."
      ]
    },
    {
      "cell_type": "code",
      "execution_count": null,
      "metadata": {
        "id": "LzOZCfwkyBKF"
      },
      "outputs": [],
      "source": [
        "table2_1 = np.array([[10, 15],\n",
        "                   [15, 15],\n",
        "                    [20, 30],\n",
        "                    [20, 15],\n",
        "                    [10, 20],\n",
        "                    [15, 15],\n",
        "                    [15, 30]])\n",
        "# run this code as is to create a pandas data frame\n",
        "table2_1 = pd.DataFrame(data=table2_1, columns = ['Y0', 'Y1'])\n",
        "table2_1"
      ]
    },
    {
      "cell_type": "markdown",
      "metadata": {
        "id": "e0ELmztLyBKG"
      },
      "source": [
        "**Question 1.** What is the average potential outcome under control? What is the average potential outcome under treatment?"
      ]
    },
    {
      "cell_type": "code",
      "execution_count": null,
      "metadata": {
        "id": "gYu-YvaOyBKG"
      },
      "outputs": [],
      "source": [
        "y0_average = ...\n",
        "y1_average = ...\n",
        "\n",
        "# keep this to display your answer.\n",
        "print(\"The potential outcome under control is \", y0_average)\n",
        "print(\"The potential outcome under treatment is \", y1_average)"
      ]
    },
    {
      "cell_type": "markdown",
      "metadata": {
        "id": "_syDATpKyBKG"
      },
      "source": [
        "**Question 2.** For each village, now calculate the individual treatment effect. Add this as a column to the data frame `table2_1`. Make sure it matches table2_1 from the book."
      ]
    },
    {
      "cell_type": "code",
      "execution_count": null,
      "metadata": {
        "id": "PH9ZRYFPyBKG"
      },
      "outputs": [],
      "source": [
        "table2_1['treatment_effect'] = ...\n",
        "\n",
        "# keep this to display your answer\n",
        "table2_1"
      ]
    },
    {
      "cell_type": "markdown",
      "metadata": {
        "id": "kwugUdmYyBKH"
      },
      "source": [
        "**Question 3.** What is the average treatment effect?"
      ]
    },
    {
      "cell_type": "code",
      "execution_count": null,
      "metadata": {
        "id": "7cDwtW72yBKH"
      },
      "outputs": [],
      "source": [
        "treatment_average = ...\n",
        "\n",
        "# keep this to display your answer.\n",
        "print(\"The average treatment effect is \", treatment_average)"
      ]
    },
    {
      "cell_type": "markdown",
      "metadata": {
        "id": "9tS4z9sQyBKH"
      },
      "source": [
        "## 2. Conditionals"
      ]
    },
    {
      "cell_type": "markdown",
      "metadata": {
        "id": "04siR_-fyBKH"
      },
      "source": [
        "Before we continue in our analysis of experiments, it is helpful to learn a bit more Python.\n",
        "\n",
        "In Python, Boolean values can either be `True` or `False`. We get Boolean values when using comparison operators, among which are `<` (less than), `>` (greater than), and `==` (equal to). For a complete list, refer to [Booleans and Comparison](https://www.inferentialthinking.com/chapters/09/Randomness.html) at the start of Chapter 9.\n",
        "\n",
        "Run the cell below to see an example of a comparison operator in action."
      ]
    },
    {
      "cell_type": "code",
      "execution_count": null,
      "metadata": {
        "id": "jGJ0nfGzyBKI"
      },
      "outputs": [],
      "source": [
        "3 > 1 + 1"
      ]
    },
    {
      "cell_type": "markdown",
      "metadata": {
        "id": "1opAWrAtyBKI"
      },
      "source": [
        "We can even assign the result of a comparison operation to a variable."
      ]
    },
    {
      "cell_type": "code",
      "execution_count": null,
      "metadata": {
        "id": "NA7p7lTLyBKI"
      },
      "outputs": [],
      "source": [
        "result = 10 / 2 == 5\n",
        "result"
      ]
    },
    {
      "cell_type": "markdown",
      "metadata": {
        "id": "wtLwvnL_yBKJ"
      },
      "source": [
        "Arrays are compatible with comparison operators. The output is an array of boolean values."
      ]
    },
    {
      "cell_type": "code",
      "execution_count": null,
      "metadata": {
        "id": "-syDKtaFyBKJ"
      },
      "outputs": [],
      "source": [
        "np.array([[1, 5, 7, 8, 3, -1]]) > 3"
      ]
    },
    {
      "cell_type": "markdown",
      "metadata": {
        "id": "qINGX7cJyBKJ"
      },
      "source": [
        "Waiting on the dining table just for you is a hot bowl of nachos! Let's say that whenever you take a nacho, it will have cheese, salsa, both, or neither (just a plain tortilla chip).\n",
        "\n",
        "Using the function call `np.random.choice(array_name)`, let's simulate taking nachos from the bowl at random. Start by running the cell below several times, and observe how the results change."
      ]
    },
    {
      "cell_type": "code",
      "execution_count": null,
      "metadata": {
        "id": "eX2vx9RQyBKJ"
      },
      "outputs": [],
      "source": [
        "nachos = np.array(['cheese', 'salsa', 'both', 'neither'])\n",
        "np.random.choice(nachos)"
      ]
    },
    {
      "cell_type": "markdown",
      "metadata": {
        "id": "UUFZgAMkyBKJ"
      },
      "source": [
        "**Question 4.** Assume we took ten nachos at random, and stored the results in an array called `ten_nachos` as done below. Find the number of nachos with **only** cheese using code (do not hardcode the answer).  \n",
        "\n",
        "*Hint:* Our solution involves a comparison operator and the `np.count_nonzero` method. You might want to read online about the relationship between non-zero and something being true."
      ]
    },
    {
      "cell_type": "code",
      "execution_count": null,
      "metadata": {
        "id": "h1R2qTYEyBKK"
      },
      "outputs": [],
      "source": [
        "ten_nachos = np.array([['neither', 'cheese', 'both', 'both', 'cheese', 'salsa', 'both', 'neither', 'cheese', 'both']])\n",
        "number_cheese = ...\n",
        "\n",
        "# keep this to display your answer.\n",
        "print(\"The number of nachos with only cheese is \", number_cheese)"
      ]
    },
    {
      "cell_type": "markdown",
      "metadata": {
        "id": "Gss9XSkMyBKK"
      },
      "source": [
        "**Conditional Statements**\n",
        "\n",
        "A conditional statement is made up of many lines that allow Python to choose from different alternatives based on whether some condition is true.\n",
        "\n",
        "Here is a basic example.\n",
        "\n",
        "```\n",
        "def sign(x):\n",
        "    if x > 0:\n",
        "        return 'Positive'\n",
        "```\n",
        "\n",
        "How the function works is if the input `x` is greater than `0`, we get the string `'Positive'` back.\n",
        "\n",
        "If we want to test multiple conditions at once, we use the following general format.\n",
        "\n",
        "```\n",
        "if <if expression>:\n",
        "    <if body>\n",
        "elif <elif expression 0>:\n",
        "    <elif body 0>\n",
        "elif <elif expression 1>:\n",
        "    <elif body 1>\n",
        "...\n",
        "else:\n",
        "    <else body>\n",
        "```\n",
        "\n",
        "Only one of the bodies will ever be executed. Each `if` and `elif` expression is evaluated and considered in order, starting at the top. As soon as a true value is found, the corresponding body is executed, and the rest of the expression is skipped. If none of the `if` or `elif` expressions are true, then the `else body` is executed. For more examples and explanation, refer to [Section 9.1](https://www.inferentialthinking.com/chapters/09/1/conditional-statements.html)."
      ]
    },
    {
      "cell_type": "markdown",
      "metadata": {
        "id": "0EfgRWY-yBKK"
      },
      "source": [
        "**Question 5.** Complete the following conditional statement so that the string `'More please'` is assigned to `say_please` if the number of nachos with cheese (only with cheese, not 'both') in `ten_nachos` is less than `5`.\n",
        "\n",
        "*Hint*: You should not have to directly reference the variable `ten_nachos`."
      ]
    },
    {
      "cell_type": "code",
      "execution_count": null,
      "metadata": {
        "for_assignment_type": "student",
        "id": "Z_rC_QIByBKL"
      },
      "outputs": [],
      "source": [
        "say_please = '?'\n",
        "\n",
        "if ...:\n",
        "    say_please = 'More please'\n",
        "\n",
        "say_please"
      ]
    },
    {
      "cell_type": "markdown",
      "metadata": {
        "id": "D4d29OQxyBKL"
      },
      "source": [
        "**Question 6.** Write a function called `nacho_reaction` that returns a string based on the type of nacho passed in as an argument. From top to bottom, the conditions should correspond to: `'cheese'`, `'salsa'`, `'both'`, `'neither'`.  "
      ]
    },
    {
      "cell_type": "code",
      "execution_count": null,
      "metadata": {
        "for_assignment_type": "student",
        "id": "-d0GhmkfyBKL"
      },
      "outputs": [],
      "source": [
        "def nacho_reaction(nacho):\n",
        "    if ...:\n",
        "        # return 'Cheesy!' when you get cheese\n",
        "        return 'Cheesy!'\n",
        "    # next condition should return 'Spicy!' when you get salsa\n",
        "    ...\n",
        "    # next condition should return 'Wow!' when you get both\n",
        "    ...\n",
        "    # next condition should return 'Meh.' when you get neither\n",
        "    ...\n",
        "\n",
        "# keep to display your answers.\n",
        "print(nacho_reaction('cheese'))\n",
        "print(nacho_reaction('salsa'))\n",
        "print(nacho_reaction('both'))\n",
        "print(nacho_reaction('neither'))"
      ]
    },
    {
      "cell_type": "markdown",
      "metadata": {
        "id": "QlwKWPTsyBKM"
      },
      "source": [
        "**Question 7.** Add a column `'Reactions'` to the dataframe `ten_nachos` that consists of reactions for each of the nachos in `ten_nachos`.\n",
        "\n",
        "*Hint:* Use the `apply` method."
      ]
    },
    {
      "cell_type": "code",
      "execution_count": null,
      "metadata": {
        "for_assignment_type": "student",
        "id": "iGZH621FyBKM"
      },
      "outputs": [],
      "source": [
        "# Do not change this code.\n",
        "# We are converting the array to a data frame\n",
        "# And transposing that data frame\n",
        "# See http://pandas.pydata.org/pandas-docs/version/0.23.4/generated/pandas.DataFrame.T.html#pandas.DataFrame.T\n",
        "ten_nachos = pd.DataFrame(ten_nachos)\n",
        "ten_nachos = ten_nachos.T\n",
        "# here's what this looks like:\n",
        "ten_nachos"
      ]
    },
    {
      "cell_type": "code",
      "execution_count": null,
      "metadata": {
        "for_assignment_type": "student",
        "id": "NHT1X8-oyBKM"
      },
      "outputs": [],
      "source": [
        "# now implement your code to answer the question.\n",
        "ten_nachos['Reactions'] = ...\n",
        "ten_nachos"
      ]
    },
    {
      "cell_type": "markdown",
      "metadata": {
        "id": "q8At-F0byBKM"
      },
      "source": [
        "**Question 8.** Using code, find the number of `'Wow!'` reactions for the nachos in `ten_nachos`."
      ]
    },
    {
      "cell_type": "code",
      "execution_count": null,
      "metadata": {
        "id": "r5NwnqLpyBKM"
      },
      "outputs": [],
      "source": [
        "number_wow_reactions = ...\n",
        "\n",
        "# keep to display your answer.\n",
        "print(\"Number of wow reactions is \", number_wow_reactions)"
      ]
    },
    {
      "cell_type": "markdown",
      "metadata": {
        "id": "thsmvdTNyBKM"
      },
      "source": [
        "## 3. Observed Outcomes\n",
        "\n",
        "Now that we understand conditionals in Python, we can return to potential outcomes. Using conditionals, we will start to analyze an experiment.\n",
        "\n",
        "Table 2.1 in the Gerber and Green book contains a schedule of potential outcomes. But in the real world, we will never observe all of Table 2.1. For each village (or voter, or person, etc.) we will only ever observe either their potential outcome under control *or* their potential outcome under treatment, but never both (fundamental problem of causal inference).\n",
        "\n",
        "**Question 9A.** Using what you just learned from the nacho example, create a table with **observed** outcomes. This table should have a column called `observed_outcome` based on whether the village was in treatment (1) or not (0), information provided in the `observed_treat` column.\n",
        "\n",
        "The code below creates a table for you to get started. The table has both the outcome under treatement (Y1) and under control (Y0). You should use a conditional or an if statement in your solution (not Eq. 2.2 from Gerber and Green).\n",
        "\n",
        "**Hint:** The table includes both the outcome under treatment (Y1) and the outcome under control (Y0). The `observed_outcome` column should display only one outcome, depending on the value in the `observed_treat` column.\n",
        "\n",
        "**Can you add comments to this below code on what is happening at each line?**"
      ]
    },
    {
      "cell_type": "code",
      "execution_count": null,
      "metadata": {
        "id": "F3tEXbQwyBKM"
      },
      "outputs": [],
      "source": [
        "# this is the assignment given in table 2.2.\n",
        "# run this code and see if you can understand what is happening.\n",
        "# to answer this question, add comments to each line of code.\n",
        "\n",
        "observed = pd.DataFrame(np.array([1, 0, 0, 0, 0, 0, 1]), columns = ['observed_treat'])\n",
        "table2_2 = pd.concat([table2_1, observed], axis = 1)\n",
        "table2_2"
      ]
    },
    {
      "cell_type": "code",
      "execution_count": null,
      "metadata": {
        "id": "fdAtrqN5yBKM"
      },
      "outputs": [],
      "source": [
        "# Enter your solution here.\n",
        "# Call the new column 'observed_outcome'\n",
        "...\n",
        "\n",
        "# Leave this to display the table.\n",
        "table2_2"
      ]
    },
    {
      "cell_type": "markdown",
      "metadata": {
        "id": "tzsrZD2JyBKN"
      },
      "source": [
        "**Question 9B.** Now let's try a different way to create this column using Equation 2.2 from Gerber and Green (p. 25, equation at the top) instead. See the PDF of the book on Canvas."
      ]
    },
    {
      "cell_type": "code",
      "execution_count": null,
      "metadata": {
        "id": "pleJNfkiyBKN"
      },
      "outputs": [],
      "source": [
        "table2_2['observed_outcome_v2'] = ...\n",
        "table2_2"
      ]
    },
    {
      "cell_type": "markdown",
      "metadata": {
        "id": "f26KD3usyBKN"
      },
      "source": [
        "**Question 10.** Given these observed outcomes, what is your estimate of the average treatment effect? Do not use the columns `Y0` or `Y1`. You can only use the columns `observed_treat` or `observed_outcome_v2`. See Equation 2.13 if you need help."
      ]
    },
    {
      "cell_type": "code",
      "execution_count": null,
      "metadata": {
        "id": "GbWOml58yBKN"
      },
      "outputs": [],
      "source": [
        "ate = ...\n",
        "\n",
        "# leave this.\n",
        "print(\"The ATE is \", ate)"
      ]
    },
    {
      "cell_type": "markdown",
      "metadata": {
        "id": "vhB3VHKIyBKN"
      },
      "source": [
        "## 4. Simulations\n",
        "Using a `for` statement, we can perform a task multiple times. This is known as iteration. Here, we'll simulate drawing different suits from a deck of cards."
      ]
    },
    {
      "cell_type": "code",
      "execution_count": null,
      "metadata": {
        "id": "KCOI6EElyBKN"
      },
      "outputs": [],
      "source": [
        "suits = np.array([\"♤\", \"♡\", \"♢\", \"♧\"])\n",
        "\n",
        "draws = np.array([])\n",
        "\n",
        "repetitions = 6\n",
        "\n",
        "for i in np.arange(repetitions):\n",
        "    draws = np.append(draws, np.random.choice(suits))\n",
        "\n",
        "draws"
      ]
    },
    {
      "cell_type": "markdown",
      "metadata": {
        "id": "qpztV0uPyBKN"
      },
      "source": [
        "In the example above, the `for` loop appends a random draw to the `draws` array for every number in `np.arange(repetitions)`.\n",
        "\n",
        "\"Here's a nice way to think of what we did above. We had a deck of 4 cards of different suits, we randomly drew one card, saw the suit, kept track of it in `draws`, and put the card back into the deck. We repeated this for a total of 6 times without having to repeat code, thanks to the for loop. We simulated this experiment using a `for` loop.\n",
        "\n",
        "Another use of iteration is to loop through a set of values. For instance, we can print out all of the colors of the rainbow.\n"
      ]
    },
    {
      "cell_type": "code",
      "execution_count": null,
      "metadata": {
        "id": "i6eUN5kFyBKO"
      },
      "outputs": [],
      "source": [
        "rainbow = np.array([\"red\", \"orange\", \"yellow\", \"green\", \"blue\", \"indigo\", \"violet\"])\n",
        "\n",
        "for color in rainbow:\n",
        "    print(color)"
      ]
    },
    {
      "cell_type": "markdown",
      "metadata": {
        "id": "yu6vu23dyBKO"
      },
      "source": [
        "We can see that the indented part of the `for` loop, known as the body, is executed once for each item in `rainbow`. Note that the name `color` is arbitrary; we could easily have named it something else. The important thing is we stay consistent throughout the for loop."
      ]
    },
    {
      "cell_type": "code",
      "execution_count": null,
      "metadata": {
        "id": "Yn3jX4UjyBKO"
      },
      "outputs": [],
      "source": [
        "for another_name in rainbow:\n",
        "    print(another_name)"
      ]
    },
    {
      "cell_type": "markdown",
      "metadata": {
        "id": "r5UF9gAzyBKO"
      },
      "source": [
        "In general, however, we would like the variable name to be somewhat informative."
      ]
    },
    {
      "cell_type": "markdown",
      "metadata": {
        "id": "EQPuRwXvyBKO"
      },
      "source": [
        "**Question 11.** Clay is playing darts. His dartboard contains ten equal-sized zones with point values from 1 to 10. Write code that simulates his total score after 1000 dart tosses. Make sure to use a `for` loop.\n",
        "\n",
        "*Hint:* There are a few steps to this problem (and most simulations):\n",
        "1. Figuring out the big picture of what we want to simulate (the total score after 1000 dart tosses)\n",
        "2. Deciding the possible values you can take in the experiment (point values in this case) and simulating one example (throwing one dart)\n",
        "3. Deciding how many times to run through the experiment (1000 tosses in our case) and keeping track of the total information of each time you ran through the experiment (the total score in this case)\n",
        "4. Coding up the whole simulation!"
      ]
    },
    {
      "cell_type": "code",
      "execution_count": null,
      "metadata": {
        "for_assignment_type": "student",
        "id": "Y8VV-xnNyBKO"
      },
      "outputs": [],
      "source": [
        "possible_point_values = ...\n",
        "tosses = 1000\n",
        "total_score = ...\n",
        "\n",
        "# a for loop would be useful here\n",
        "\n",
        "\n",
        "total_score"
      ]
    },
    {
      "cell_type": "markdown",
      "metadata": {
        "id": "O7BOeK_ayBKO"
      },
      "source": [
        "*Brief aside.* Run the above code a few times. You should get a different answer each time, but always close to 5,500. The reason you're getting a different answer every time you run the code is because your computer is re-doing the random sampling every time. If you wanted to always get the same answer (which is often a good practice), you would want to use the `numpy.random.seed()` command."
      ]
    },
    {
      "cell_type": "markdown",
      "metadata": {
        "id": "UVfNQCcNyBKO"
      },
      "source": [
        "**CHALLENGE Question 12.** In Table 2.2, we had one random assignment in which 2 villages were assigned to treatment and 5 villages were assigned to control. I just gave that to you. But there are many possible ways to randomly assign these 7 villages to either treatment or control. Write a `for` loop to assign a village to either treatment or control in the expanded case of 20 villages. Run the for loop 100 times. For each time, calculate the ATE and store this. Plot a histogram of the ATEs.\n",
        "\n",
        "*Hint* This should look similar to the suits example."
      ]
    },
    {
      "cell_type": "code",
      "execution_count": null,
      "metadata": {
        "id": "4MGwRZaAyBKP"
      },
      "outputs": [],
      "source": [
        "# This cell block is set-up. You should not need to change it.\n",
        "# Start with a dataframe of the potential outcomes:\n",
        "df = np.array([[20, 35],\n",
        "                    [25, 10],\n",
        "                    [15, 25],\n",
        "                    [10, 15],\n",
        "                    [15, 35],\n",
        "                    [25, 30],\n",
        "                    [25, 20],\n",
        "                    [15, 15],\n",
        "                    [10, 10],\n",
        "                    [10, 20],\n",
        "                    [25, 30],\n",
        "                    [30, 15],\n",
        "                    [10, 20],\n",
        "                    [20, 10],\n",
        "                    [15, 35],\n",
        "                    [25, 30],\n",
        "                    [15, 20],\n",
        "                    [15, 25],\n",
        "                    [15, 15],\n",
        "                    [20, 10],\n",
        "                    ])\n",
        "df = pd.DataFrame(data=df, columns = ['Y0', 'Y1'])\n",
        "\n",
        "# create an empty array called `ates`. You will want to fill this up with the ate after each randomization.\n",
        "ates = []\n",
        "# you will run the loop 100 times.\n",
        "draws = 100"
      ]
    },
    {
      "cell_type": "code",
      "execution_count": null,
      "metadata": {
        "id": "qgtqIx6lyBKP"
      },
      "outputs": [],
      "source": [
        "for i in np.arange(draws):\n",
        "    # First, write a function to randomly assign villages to treatment or control\n",
        "    # You can assume that each village has a 50% probability of being assigned to treatment\n",
        "    # I'm giving this line to you\n",
        "    df['treat'] = np.random.choice([0, 1], size=(20))\n",
        "\n",
        "    # Determine the observed outcome using code from earlier in the lab\n",
        "    df['observed_outcome'] = ...\n",
        "\n",
        "    # Calculate the ATE using code from earlier in the lab\n",
        "    mean_treat = ...\n",
        "    mean_control = ...\n",
        "    ate = ...\n",
        "\n",
        "    # store the ATE\n",
        "    # I'm giving this line to you\n",
        "    ates = np.append(ates, ate)\n",
        "\n",
        "# Print this to check your work\n",
        "print(\"How many ATEs did you store?\", len(ates))\n",
        "print(\"The average ATE is\", np.mean(ates))\n",
        "# Here is the plot of ATEs\n",
        "plt.hist(ates)"
      ]
    },
    {
      "cell_type": "markdown",
      "metadata": {
        "id": "rlg5RweeyBKP"
      },
      "source": [
        "**Bonus Question** How does this compare to the *true* ATE? Try your best to answer this question."
      ]
    },
    {
      "cell_type": "code",
      "execution_count": null,
      "metadata": {
        "id": "7Aq_WBFHyBKP"
      },
      "outputs": [],
      "source": [
        "treat_effect = ...\n",
        "print(\"The true ATE is \", treat_effect.mean())"
      ]
    },
    {
      "cell_type": "markdown",
      "metadata": {
        "id": "WW-v6JymyBKP"
      },
      "source": [
        "# Congratulations!\n",
        "\n",
        "You are done with the lab. Before you finish and submit, please fill out this brief evaluation:\n",
        "\n",
        "- I spent around XXXX hours on this lab,.\n",
        "- This lab was (too easy, too hard, just about the right difficulty).\n",
        "\n",
        "**To turn in your lab, you will need to submit a PDF through Canvas.**"
      ]
    }
  ],
  "metadata": {
    "anaconda-cloud": {},
    "kernelspec": {
      "display_name": "Python 3 (ipykernel)",
      "language": "python",
      "name": "python3"
    },
    "language_info": {
      "codemirror_mode": {
        "name": "ipython",
        "version": 3
      },
      "file_extension": ".py",
      "mimetype": "text/x-python",
      "name": "python",
      "nbconvert_exporter": "python",
      "pygments_lexer": "ipython3",
      "version": "3.11.4"
    },
    "colab": {
      "provenance": []
    }
  },
  "nbformat": 4,
  "nbformat_minor": 0
}