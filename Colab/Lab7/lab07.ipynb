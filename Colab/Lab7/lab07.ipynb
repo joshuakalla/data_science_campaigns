{
  "cells": [
    {
      "cell_type": "markdown",
      "metadata": {
        "id": "AMUt9krcf7tD"
      },
      "source": [
        "# Lab 7: Predicting Voter Turnout\n",
        "\n",
        "---\n",
        "\n",
        "Welcome to Lab 7! This week, we will be constructing models to predict voter turnout. We will be using the same dataset as last week's lab (note that I removed `treat`)."
      ]
    },
    {
      "cell_type": "markdown",
      "source": [
        "# Before You Begin: Disable AI Assistance\n",
        "\n",
        "To ensure you learn the concepts and complete this assignment based on your own understanding, you are *strongly* encouraged to turn off Google Colab's built-in generative AI features before you begin. This will also help you prepare for the midterms and final project.\n",
        "\n",
        "**Follow these steps:**\n",
        "1.  Go to the **Edit** menu at the top of the page.\n",
        "2.  Click on **Notebook settings**.\n",
        "3.  Check the box next to **\"Hide generative AI features\"**.\n",
        "5.  Click **Save**.\n",
        "\n",
        "This will prevent Google Gemini from suggesting or writing code for you, allowing you to focus on solving the problems yourself.\n",
        "\n",
        "\n"
      ],
      "metadata": {
        "id": "qwZzD-xggYRw"
      }
    },
    {
      "cell_type": "markdown",
      "source": [
        "# Set-up"
      ],
      "metadata": {
        "id": "SDy5-JKOf8qt"
      }
    },
    {
      "cell_type": "code",
      "execution_count": null,
      "metadata": {
        "id": "6nQyGyZBf7tH"
      },
      "outputs": [],
      "source": [
        "import numpy as np\n",
        "import pandas as pd\n",
        "import matplotlib.pyplot as plt\n",
        "data = pd.read_csv(\"https://raw.githubusercontent.com/joshuakalla/data_science_campaigns/master/Colab/Lab7/gerber_huber_2014_data.csv\")\n",
        "data.head()"
      ]
    },
    {
      "cell_type": "markdown",
      "source": [
        "# 1. Model-based predictions\n",
        "\n",
        "\n",
        "\n"
      ],
      "metadata": {
        "id": "n3Z1vp_xgBhn"
      }
    },
    {
      "cell_type": "markdown",
      "metadata": {
        "id": "iXvob5m3f7tI"
      },
      "source": [
        "Logistic Regression is a classification algorithm that is used to predict the probability of a categorical dependent variable. In logistic regression, the dependent variable is a binary variable that contains data coded as 1 (voted, yes, success, etc.) or 0 (did not vote, no, failure, etc.). In other words, the logistic regression model predicts P(Y=1) (probability that a person voted) as a function of X (many different covariates).\n",
        "\n",
        "\n",
        "(You could use other algorithms to build a model. We are using logistic regression because it is fast and easy.)\n",
        "\n",
        "Our goal is to predict whether an individual voter *i* voted in the 2014 election as a function of other features we know about them (age, past vote history, race, and gender). With a model of voting in the 2014 election, a campaign in the future (such as in 2018) could better target voters.\n",
        "\n",
        "To get started, let's see if there are any big differences in who votes in 2014. Run the below code."
      ]
    },
    {
      "cell_type": "code",
      "execution_count": null,
      "metadata": {
        "id": "-8DeMEabf7tI"
      },
      "outputs": [],
      "source": [
        "data.groupby('voted14').mean()"
      ]
    },
    {
      "cell_type": "markdown",
      "metadata": {
        "id": "9WKAX_w8f7tI"
      },
      "source": [
        "**Question 1.** What do you find? Do any individual variables seem to be more or less predictive of voting in 2014? Interpret the above table."
      ]
    },
    {
      "cell_type": "markdown",
      "metadata": {
        "id": "LlLtGsN-f7tJ"
      },
      "source": [
        "**Answer the question here.**"
      ]
    },
    {
      "cell_type": "markdown",
      "metadata": {
        "id": "aLROtGIAf7tJ"
      },
      "source": [
        "We are now going to build a simple model. We first need to define our outcome variable (did someone vote in 2014 or not, call this *Y*) and our set of predictor variables (call this a matrix *X*). In this first simple case, we will only include `voted12` and `age` in X."
      ]
    },
    {
      "cell_type": "code",
      "execution_count": null,
      "metadata": {
        "id": "mCqIiJ1hf7tJ"
      },
      "outputs": [],
      "source": [
        "cols = ['voted12', 'age', 'intercept']\n",
        "data['intercept'] = 1 # add a column of 1's for the intercept term\n",
        "X = data[cols]\n",
        "X.head()"
      ]
    },
    {
      "cell_type": "code",
      "execution_count": null,
      "metadata": {
        "id": "Ngc_3JySf7tJ"
      },
      "outputs": [],
      "source": [
        "y = data['voted14']\n",
        "y.head()"
      ]
    },
    {
      "cell_type": "markdown",
      "metadata": {
        "id": "xc9texnDf7tJ"
      },
      "source": [
        "We will now build our model. Note that we are now using a new module in Python called `statsmodels`. You can learn more about this module [here](https://www.statsmodels.org/stable/index.html)."
      ]
    },
    {
      "cell_type": "code",
      "execution_count": null,
      "metadata": {
        "id": "NypL-bNxf7tJ"
      },
      "outputs": [],
      "source": [
        "import statsmodels.api as sm\n",
        "## ignore the warning; nothing to worry about\n",
        "logit_model=sm.Logit(y,X)\n",
        "result=logit_model.fit()\n",
        "print(result.summary2())"
      ]
    },
    {
      "cell_type": "markdown",
      "metadata": {
        "id": "lgPfOVUTf7tJ"
      },
      "source": [
        "**Question 2.** Can you interpret this output? What do you think this means? (You might want to give [this](https://www.juanshishido.com/logisticcoefficients.html) a read.)"
      ]
    },
    {
      "cell_type": "markdown",
      "metadata": {
        "id": "qFypuxvaf7tK"
      },
      "source": [
        "**Answer the question here.**"
      ]
    },
    {
      "cell_type": "markdown",
      "metadata": {
        "id": "NjQXdCSxf7tK"
      },
      "source": [
        "With the below code, we can construct model scores. Remember that the output of this can be understood as the probability that someone votes in 2014 as a function of their age and whether they voted in 2012."
      ]
    },
    {
      "cell_type": "code",
      "execution_count": null,
      "metadata": {
        "id": "thK3Vmo2f7tK"
      },
      "outputs": [],
      "source": [
        "y_pred = result.predict(X)\n",
        "y_pred.head()"
      ]
    },
    {
      "cell_type": "markdown",
      "metadata": {
        "id": "6MbldDbHf7tK"
      },
      "source": [
        "**Question 3.** Make a plot showing the relationship between your predicted model (`y_pred`) and whether someone actually voted in 2014. In text, make sure you interpret this plot.\n",
        "\n",
        "*Hint.* You will probably want to use the [Pandas.cut() method](https://www.geeksforgeeks.org/pandas-cut-method-in-python/). This will allow you to create bins of `y_pred`. Remember the figures we discussed in the Likely Voter slides. You probably want to make a similar plot to this, like the below figure. (You don't need to exactly copy this, just an example of what you could do.) **This is a challenging question.**"
      ]
    },
    {
      "cell_type": "markdown",
      "metadata": {
        "id": "7WEWvWY3f7tK"
      },
      "source": [
        "**This example shows more or less how the final plots should look.**\n",
        "\n",
        "![](https://raw.githubusercontent.com/joshuakalla/data_science_campaigns/master/Colab/Lab7/sample_plot.png)\n"
      ]
    },
    {
      "cell_type": "code",
      "execution_count": null,
      "metadata": {
        "id": "V0KCC7ORf7tK"
      },
      "outputs": [],
      "source": [
        "# insert plot and interpretation"
      ]
    },
    {
      "cell_type": "markdown",
      "source": [
        "# 2. Confusion matrix and model metrics"
      ],
      "metadata": {
        "id": "EXrMzuHHgh55"
      }
    },
    {
      "cell_type": "markdown",
      "metadata": {
        "id": "ZO4Cr5dJf7tK"
      },
      "source": [
        "To more formally assess this model, let's make a 2x2 confusion matrix, like we did in class. The confusion matrix needs to have 4 cells: number of true positives, number of true negatives, number of false positives, number of false negatives. (If you want a reminder on a confusion matrix, see the slides from lecture or read [this](https://www.python-course.eu/confusion_matrix.php).)\n",
        "\n",
        "For this exercise, we are going to define our threshold as 0.5. That means that if someone's predicted turnout (`y_pred`) is greater than 0.5, we are going to say that we predicted they vote. If their score is less than or equal to 0.5, we are going to say we predicted they did not vote. (Note that this threshold is somewhat arbitrary. We could define different cut-offs.)"
      ]
    },
    {
      "cell_type": "markdown",
      "metadata": {
        "id": "G9Sm_DZ_f7tK"
      },
      "source": [
        "**Question 4.** Make the confusion matrix. Calculate the number of true positives, number of true negatives, number of false positives, number of false negatives. Fill in the table."
      ]
    },
    {
      "cell_type": "code",
      "execution_count": null,
      "metadata": {
        "id": "2ZgnGu2sf7tL"
      },
      "outputs": [],
      "source": [
        "# insert your code here"
      ]
    },
    {
      "cell_type": "markdown",
      "metadata": {
        "id": "xB8gGDcqf7tL"
      },
      "source": [
        "Fill in the below table with the correct numbers.\n",
        "\n",
        "- Actual Negative and Predicted Negative (what do we call this?):\n",
        "- Actual Negative and Predicted Positive (what do we call this?):\n",
        "- Actual Positive and Predicted Negative (what do we call this?):\n",
        "- Actual Positive and Predicted Positive (what do we call this?):"
      ]
    },
    {
      "cell_type": "markdown",
      "metadata": {
        "id": "eZ4JVOdQf7tL"
      },
      "source": [
        "**Question 5.** Based on this table, calculate the model's accuracy, precision, and recall. Interpret this."
      ]
    },
    {
      "cell_type": "code",
      "execution_count": null,
      "metadata": {
        "id": "dvJfyNYZf7tL"
      },
      "outputs": [],
      "source": [
        "# insert your code here"
      ]
    },
    {
      "cell_type": "markdown",
      "metadata": {
        "id": "gRaeriMZf7tL"
      },
      "source": [
        "**Put your interpretation here.**"
      ]
    },
    {
      "cell_type": "markdown",
      "metadata": {
        "id": "TLpexhuBf7tL"
      },
      "source": [
        "**Question 6.** Can a different model do better? It is now your turn to build a model from scratch. Follow the same steps as above. Select your predictor variables. Build your model. Construct a confusion matrix. Calculate accuracy, precision, and recall. How does this model do? Does it do better or worse than the original model? Would you use it?"
      ]
    },
    {
      "cell_type": "code",
      "execution_count": null,
      "metadata": {
        "id": "609J18ePf7tL"
      },
      "outputs": [],
      "source": [
        "# insert your code here"
      ]
    },
    {
      "cell_type": "markdown",
      "metadata": {
        "id": "yE0b8Wrhf7tL"
      },
      "source": [
        "**Put your interpretation here.**"
      ]
    },
    {
      "cell_type": "markdown",
      "metadata": {
        "id": "i9Zvm86yf7tL"
      },
      "source": [
        "**Question 7.** Find a way to plot the differences between the two models we built."
      ]
    },
    {
      "cell_type": "code",
      "execution_count": null,
      "metadata": {
        "id": "UOCOlr1Lf7tL"
      },
      "outputs": [],
      "source": [
        "# insert your code here"
      ]
    },
    {
      "cell_type": "markdown",
      "metadata": {
        "id": "5VxhBvAFf7tM"
      },
      "source": [
        "# 3. Are we overfitting?\n",
        "\n",
        "If you don't remember what overfitting means, review your notes from class or give this a read: https://www.ibm.com/topics/overfitting\n",
        "\n",
        "Let's see how these models do out-of-sample. Are we overfitting?\n",
        "\n",
        "To test this, you will need to run your model on a new data set (test set). You can then assess the confusion matrix and accuracy/precision/recall of your model on that test set.\n",
        "\n",
        "Note that a logistic regression is written as:\n",
        "\n",
        "$p(x) = \\frac{1}{1+e^{-(\\beta_0 + \\beta_1 x)}}$, where $e$ is Euler's number, approximately 2.71828. You can get Euler's number in Python using `np.exp()`.\n",
        "\n",
        "We will need to manually re-create this logistic regression. From my model, the coefficients are:\n",
        "\n",
        "- voted12: 2.1814\n",
        "- age: 0.0145\n",
        "- intercept: -2.7879\n",
        "\n",
        "We could therefore recreate our logistic regression by calculating:\n",
        "\n",
        "$p(voted14) = \\frac{1}{1+e^{-(-2.7879 + 0.0145*age + 2.1814*voted12)}}$\n",
        "\n",
        "Let's see this in action."
      ]
    },
    {
      "cell_type": "code",
      "execution_count": null,
      "metadata": {
        "id": "iPO6tqdBf7tM"
      },
      "outputs": [],
      "source": [
        "# Calculate y_pred by hand; call it y_pred2\n",
        "y_pred2 = 1/(1+np.exp(-(-2.787942 + 2.181396 *X[\"voted12\"] + .0145461 * X[\"age\"])))\n",
        "\n",
        "# Confirm that y_pred is the same as y_pred2\n",
        "y_preds = pd.concat([pd.DataFrame(y_pred), pd.DataFrame(y_pred2)], axis = 1)\n",
        "y_preds.columns = ['y_pred', 'y_pred2']\n",
        "y_preds['diff'] = abs(y_preds['y_pred']) - y_preds['y_pred2']\n",
        "\n",
        "# Print out this data frame\n",
        "print(y_preds.head())\n",
        "print(y_preds[\"diff\"].mean()) # Small differences due to rounding, but this is essentially a 0\n",
        "# These columns are the same"
      ]
    },
    {
      "cell_type": "markdown",
      "metadata": {
        "id": "TEBNP0Z4f7tM"
      },
      "source": [
        "I now want you to test if your model is over-fit. Don't cheat by recreating your model. Just use what you have above. I care about the process, not the actual performance.\n",
        "\n",
        "The data you used above came from South Dakota. I want you to see how the model performs in Wisconsin."
      ]
    },
    {
      "cell_type": "code",
      "execution_count": null,
      "metadata": {
        "id": "CtdoHgRFf7tM"
      },
      "outputs": [],
      "source": [
        "test = pd.read_csv(\"https://raw.githubusercontent.com/joshuakalla/data_science_campaigns/master/Colab/Lab7/test_data.csv\")\n",
        "test.head()"
      ]
    },
    {
      "cell_type": "markdown",
      "metadata": {
        "id": "rtuK4NLwf7tM"
      },
      "source": [
        "**Question 8.** Evaluate how your model performs out-of-sample using `test_data.csv` and the coefficients from your model. Create a confusion matrix and calculate the accuracy/precision/recall. How does your model perform out-of-sample?"
      ]
    },
    {
      "cell_type": "markdown",
      "metadata": {
        "id": "biE6hIXrf7tN"
      },
      "source": [
        "# Congratulations!\n",
        "\n",
        "You are done with the lab. Before you finish and submit, please fill out this brief evaluation:\n",
        "\n",
        "- I spent around XXXX hours on this lab,.\n",
        "- This lab was (too easy, too hard, just about the right difficulty).\n",
        "\n",
        "All assignments in the course will be distributed as notebooks like this one, and you will submit your work as a PDF.  \n",
        "\n",
        "# How to Convert your Colab notebook to a PDF and download it\n",
        "\n",
        "Follow these instructions exactly to make sure your notebook is correctly converted to a PDF and saved to your computer.\n",
        "\n",
        "---\n",
        "\n",
        "## 1. Check everything is in order and all the code runs\n",
        "\n",
        "Before starting the conversion process, make sure your notebook is complete and error-free.\n",
        "\n",
        "1. **Open your notebook** in Google Colab.\n",
        "2. **Save your work**:\n",
        "   - Go to **File → Save** or press `Ctrl + S` (Windows) / `Cmd + S` (Mac).\n",
        "   - This ensures that all your recent changes are stored.\n",
        "3. **Run all the cells** to confirm there are no errors:\n",
        "   - In the top menu, select **Cell → Run All**.\n",
        "   - Colab will execute every cell in order.\n",
        "4. **Watch for errors**:\n",
        "   - If you see any red error messages, fix them before proceeding.\n",
        "   - A notebook with errors will **not** convert to PDF correctly.\n",
        "5. Once all cells run without errors, you can proceed to the next step.\n",
        "\n",
        "---\n",
        "\n",
        "## 2. Make sure your notebook is saved in Google Drive and named correctly\n",
        "Before converting, confirm that your notebook is stored in your Google Drive inside the `Colab Notebooks` folder.\n",
        "\n",
        "1. Look at the top-left corner of the Colab page — you’ll see the notebook’s current name next to two yellow circle icons.\n",
        "2. Rename the file by directly clicking on the name, type the new name, and press **Enter**.  \n",
        "  - Please rename the notebook to LASTNAME_FIRSTNAME_LAB#.pdf. So for this lab, I would call it Alberto_Stefanelli_Lab7.ipynb.\n",
        "  - The name must end with `.ipynb`\n",
        "3. Ensure the notebook is in your Google Drive (not in Colab’s temporary session storage):  \n",
        "   - In the menu, click **File → Locate in Drive**.  \n",
        "   - This will open the folder in Drive where the notebook is stored.  \n",
        "   - If it’s not in `My Drive/Colab Notebooks`, move it there for easier access.\n",
        "\n",
        "---\n",
        "\n",
        "## 3. Install the required tools\n",
        "\n",
        "We wrote some code (see below) to automatically convert your Notebook to PDF. When you run the provided code cell, the first step will install some essential pieces of software (i.e., Pandoc and Latex) inside your Colab environment. There is no need to exactly understand what is happening\n",
        "\n",
        "**Important:**\n",
        "- This installation will take between 2 to 5 minutes.\n",
        "- Do **not** close or refresh the Colab page while it runs.\n",
        "\n",
        "---\n",
        "\n",
        "## 4. Mount your Google Drive in Colab\n",
        "\n",
        "After installing the requirements, the code will ask Colab to **mount** your Google Drive. You can use both your personal or Yale account. This is needed because the notebook you are converting must be saved in Drive before it can be converted to PDF.\n",
        "\n",
        "You will see a pop-up with a **link**:\n",
        "1. Click the link.\n",
        "2. Sign in to your Google account (use the same account where your Colab notebook is saved).\n",
        "3. If prompted, copy the long **authorization code** provided.\n",
        "  - Paste that code into the input box in Colab and press **Enter**.\n",
        "5. This will connect your Google Drive to Colab\n",
        "6. If the link does not appear, make sure your browser is not blocking pop-ups.\n",
        "\n",
        "---\n",
        "\n",
        "## 5. Enter your notebook’s file name\n",
        "\n",
        "The code will now ask to enter your notebook’s exact file name\n",
        "\n",
        "1. Type the **full name** of your notebook, including the `.ipynb` ending.  \n",
        "  - Example: `Alberto_Stefanelli_Lab7.ipynb.`\n",
        "2. Make sure the name matches exactly, including capitalization and underscores.\n",
        "3. Press **Enter**.\n",
        "\n",
        "---\n",
        "\n",
        "## 7. Convert the notebook to PDF and download it\n",
        "\n",
        "The code will convert the notebook file to a pdf. After the PDF is created, your browser will show a download pop-up or automatically save the file to your Downloads folder. You can now open the PDF with any PDF reader. Once you have your PDF and made sure eveything is in order, you can then upload it to Canvas.\n",
        "\n",
        "---\n",
        "\n",
        "## 8. If you see an error:\n",
        "\n",
        "Double-check that:\n",
        "\n",
        "- All cells run without errors\n",
        "- Mounted Google Drive without errors\n",
        "- Saved notebook to Google Drive and not locally or on Github\n",
        "- Entered correct notebook file name with `.ipynb`.\n",
        "- Conversion completed without any errors.\n",
        "- PDF downloaded to your computer (download and pop-ups are not blocked by your browser)\n",
        "\n",
        "\n",
        "**Fallback:** If the PDF export method below fails (for example, due to LaTeX or pandoc errors), you can use https://convert.ploomber.io/ as a fallback option. However, I strongly suggest trying the methods below first and using this fallback only as a last resort.\n",
        "\n",
        "**If you run into any issues, please reach out for help**"
      ]
    },
    {
      "cell_type": "code",
      "source": [
        "# Install requirements\n",
        "!apt-get -qq update\n",
        "!apt-get install -y pandoc texlive-xetex texlive-fonts-recommended texlive-plain-generic\n",
        "\n",
        "from google.colab import drive, files\n",
        "\n",
        "# Mount Google Drive\n",
        "drive.mount('/content/drive')\n",
        "\n",
        "# Ask for the notebook name\n",
        "notebook_name = input(\n",
        "    \"Enter your notebook’s exact file name,\\n\"\n",
        "    \"exactly as shown in the top-left corner of the Colab page (next to the two yellow circle icons): \"\n",
        ")\n",
        "\n",
        "# Build paths\n",
        "input_path = f\"/content/drive/MyDrive/Colab Notebooks/{notebook_name}\"\n",
        "output_path = input_path.replace(\".ipynb\", \".pdf\")\n",
        "\n",
        "# Convert to PDF\n",
        "!jupyter nbconvert --to pdf \"{input_path}\"\n",
        "\n",
        "# Download the PDF\n",
        "files.download(output_path)\n"
      ],
      "metadata": {
        "id": "fUI_kM9Zg9FX"
      },
      "execution_count": null,
      "outputs": []
    }
  ],
  "metadata": {
    "anaconda-cloud": {},
    "kernelspec": {
      "display_name": "Python 3 (ipykernel)",
      "language": "python",
      "name": "python3"
    },
    "language_info": {
      "codemirror_mode": {
        "name": "ipython",
        "version": 3
      },
      "file_extension": ".py",
      "mimetype": "text/x-python",
      "name": "python",
      "nbconvert_exporter": "python",
      "pygments_lexer": "ipython3",
      "version": "3.11.4"
    },
    "colab": {
      "provenance": []
    }
  },
  "nbformat": 4,
  "nbformat_minor": 0
}