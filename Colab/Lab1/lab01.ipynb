{
  "cells": [
    {
      "cell_type": "markdown",
      "metadata": {
        "id": "kZz76O93GrEk"
      },
      "source": [
        "# Lab 1: Expressions\n",
        "\n",
        "---\n",
        "\n",
        "Welcome to Data Science for Political Campaigns!  Each week you will complete a lab assignment like this one.  You can't learn technical subjects without hands-on practice, so labs are an important part of the course.\n",
        "\n",
        "Before we get started, there are some administrative details.\n",
        "\n",
        "Labs are required.\n",
        "\n",
        "Collaborating on labs is more than okay -- it's encouraged! You should rarely be stuck for more than a few minutes on questions in labs, so ask me or a classmate for help. (Explaining things is beneficial, too -- the best way to solidify your knowledge of a subject is to explain it.) Please don't just share answers, though.\n",
        "\n",
        "**To turn in your lab, you will need to submit a PDF through Canvas. At the bottom, I provide some instructions on how to save your lab as a PDF.**\n",
        "\n",
        "#### Today's lab\n",
        "\n",
        "In today's lab, you'll learn how to:\n",
        "\n",
        "1. navigate Jupyter notebooks (like this one);\n",
        "2. write and evaluate some basic *expressions* in Python, the computer language of the course;\n",
        "3. call *functions* to use code other people have written; and\n",
        "4. break down Python code into smaller parts to understand it.\n",
        "\n",
        "This lab covers parts of [Chapter 3](http://www.inferentialthinking.com/chapters/03/programming-in-python.html) of the online textbook.\n",
        "\n",
        "As you work on your labs, **don't forget to save!** Usually your lab will autosave, but sometimes this feature breaks. Just to be safe, be sure to click the save button at the top every so often."
      ]
    },
    {
      "cell_type": "markdown",
      "source": [
        "# Before You Begin: Disable AI Assistance\n",
        "\n",
        "To ensure you learn the concepts and complete this assignment based on your own understanding, you are *strongly* encouraged to turn off Google Colab's built-in generative AI features before you begin. This will also help you prepare for the midterms and final project.\n",
        "\n",
        "**Follow these steps:**\n",
        "1.  Go to the **Edit** menu at the top of the page.\n",
        "2.  Click on **Notebook settings**.\n",
        "3.  Check the box next to **\"Hide generative AI features\"**.\n",
        "5.  Click **Save**.\n",
        "\n",
        "This will prevent Google Gemini from suggesting or writing code for you, allowing you to focus on solving the problems yourself.\n",
        "\n"
      ],
      "metadata": {
        "id": "ClA36zgQG1AH"
      }
    },
    {
      "cell_type": "markdown",
      "metadata": {
        "id": "nJ7GL4YOGrEm"
      },
      "source": [
        "# 1. Jupyter notebooks\n",
        "This webpage is called a Jupyter notebook. A notebook is a place to write programs and view their results.\n",
        "\n",
        "## 1.1. Text cells\n",
        "In a notebook, each rectangle containing text or code is called a *cell*.\n",
        "\n",
        "Text cells (like this one) can be edited by double-clicking on them. They're written in a simple format called [Markdown](http://daringfireball.net/projects/markdown/syntax) to add formatting and section headings.  You don't need to learn Markdown, but you might want to.\n",
        "\n",
        "Each text cell in Google Colab supports various formatting options using Markdown. After editing a text cell, you can format the text, create lists, and more."
      ]
    },
    {
      "cell_type": "markdown",
      "metadata": {
        "id": "6naxyUrBGrEm"
      },
      "source": [
        "**Question 1.** This paragraph is in its own text cell. Try editing it by adding your name at the end of the last sentence. Does your name appear correctly? If not, try formatting it using Markdown syntax or the Google Colab formatting options."
      ]
    },
    {
      "cell_type": "markdown",
      "metadata": {
        "id": "zLo9xyDqGrEm"
      },
      "source": [
        "## 1.2. Code cells\n",
        "Other cells contain code in the Python 3 language. Running a code cell will execute all of the code it contains.\n",
        "\n",
        "To run the code in a code cell, first click on that cell to activate it.  It'll be highlighted and ▶| will appear on the left side of the cell. Next, either press ▶| or hold down the `shift` key and press `return` or `enter`.\n",
        "\n",
        "Try running this cell:"
      ]
    },
    {
      "cell_type": "code",
      "execution_count": 1,
      "metadata": {
        "id": "JseZugl7GrEm",
        "outputId": "7ae97485-d96a-467a-d73c-59a2cad02b3d",
        "colab": {
          "base_uri": "https://localhost:8080/"
        }
      },
      "outputs": [
        {
          "output_type": "stream",
          "name": "stdout",
          "text": [
            "Hello, World!\n"
          ]
        }
      ],
      "source": [
        "print(\"Hello, World!\")"
      ]
    },
    {
      "cell_type": "markdown",
      "metadata": {
        "id": "clzRgJLKGrEn"
      },
      "source": [
        "And this one:"
      ]
    },
    {
      "cell_type": "code",
      "execution_count": 2,
      "metadata": {
        "id": "wJvNtU12GrEn",
        "outputId": "1d7ad682-fdec-4c2d-ebcf-2e5817971f19",
        "colab": {
          "base_uri": "https://localhost:8080/"
        }
      },
      "outputs": [
        {
          "output_type": "stream",
          "name": "stdout",
          "text": [
            "For God, for country, and for Yale!\n"
          ]
        }
      ],
      "source": [
        "print(\"For God, for country, and for Yale!\")"
      ]
    },
    {
      "cell_type": "markdown",
      "metadata": {
        "id": "I_cexp7NGrEn"
      },
      "source": [
        "The fundamental building block of Python code is an expression. Cells can contain multiple lines with multiple expressions. When you run a cell, the lines of code are executed in the order in which they appear. Every `print` expression prints a line. Run the next cell and notice the order of the output."
      ]
    },
    {
      "cell_type": "code",
      "execution_count": 3,
      "metadata": {
        "id": "cmzclMvOGrEn",
        "outputId": "21a8eb2f-a37e-44c1-fb65-3eccb8830874",
        "colab": {
          "base_uri": "https://localhost:8080/"
        }
      },
      "outputs": [
        {
          "output_type": "stream",
          "name": "stdout",
          "text": [
            "First this line is printed,\n",
            "and then this one.\n"
          ]
        }
      ],
      "source": [
        "print(\"First this line is printed,\")\n",
        "print(\"and then this one.\")"
      ]
    },
    {
      "cell_type": "markdown",
      "metadata": {
        "id": "lYaqwhwHGrEn"
      },
      "source": [
        "**Question 2.** Change the cell above so that it prints out:\n",
        "\n",
        "    First this line,\n",
        "    then the whole world,\n",
        "    and then this one."
      ]
    },
    {
      "cell_type": "markdown",
      "metadata": {
        "id": "WbltZKJGGrEo"
      },
      "source": [
        "Make sure you remember the quotation marks. Test out what happens if you try a `print` command without a quotation mark."
      ]
    },
    {
      "cell_type": "markdown",
      "metadata": {
        "id": "jE1Q9EYwGrEo"
      },
      "source": [
        "## 1.3. Writing Jupyter notebooks\n",
        "You can use Jupyter notebooks for your own projects or documents.  When you make your own notebook, you'll need to create your own cells for text and code.\n",
        "\n",
        "To add a cell, go to top menu and click on Insert -> Code Cell or Insert -> Text cell. Alternatively, if a cell is already present click the + button in the menu bar and select + Code or + Text.\n",
        "\n",
        "**Question 3.** Add a code cell below this one.  Write code in it that prints out:\n",
        "   \n",
        "    A whole new cell!\n",
        "\n",
        "Run your cell to verify that it works."
      ]
    },
    {
      "cell_type": "markdown",
      "metadata": {
        "id": "JElsmxDeGrEo"
      },
      "source": [
        "## 1.4. Errors\n",
        "Python is a language, and like natural human languages, it has rules.  It differs from natural language in two important ways:\n",
        "1. The rules are *simple*.  You can learn most of them in a few weeks and gain reasonable proficiency with the language in a semester.\n",
        "2. The rules are *rigid*.  If you're proficient in a natural language, you can understand a non-proficient speaker, glossing over small mistakes.  A computer running Python code is not smart enough to do that.\n",
        "\n",
        "Whenever you write code, you'll make mistakes.  When you run a code cell that has errors, Python will sometimes produce error messages to tell you what you did wrong.\n",
        "\n",
        "Errors are okay; even experienced programmers make many errors.  When you make an error, you just have to find the source of the problem, fix it, and move on.\n",
        "\n",
        "We have made an error in the next cell.  Run it and see what happens."
      ]
    },
    {
      "cell_type": "code",
      "execution_count": 4,
      "metadata": {
        "id": "yB245C2aGrEo",
        "outputId": "6938c61b-7b7c-4af0-8d94-702602f6ab01",
        "colab": {
          "base_uri": "https://localhost:8080/",
          "height": 102
        }
      },
      "outputs": [
        {
          "output_type": "error",
          "ename": "SyntaxError",
          "evalue": "incomplete input (ipython-input-1867411798.py, line 1)",
          "traceback": [
            "\u001b[0;36m  File \u001b[0;32m\"/tmp/ipython-input-1867411798.py\"\u001b[0;36m, line \u001b[0;32m1\u001b[0m\n\u001b[0;31m    print(\"This line is missing something.\"\u001b[0m\n\u001b[0m                                           ^\u001b[0m\n\u001b[0;31mSyntaxError\u001b[0m\u001b[0;31m:\u001b[0m incomplete input\n"
          ]
        }
      ],
      "source": [
        "print(\"This line is missing something.\""
      ]
    },
    {
      "cell_type": "markdown",
      "metadata": {
        "id": "UabM8w__GrEo"
      },
      "source": [
        "You should see something like this (minus our annotations):\n",
        "\n",
        "<img src=\"https://github.com/albertostefanelli/data_science_campaigns/blob/master/Colab/Lab1/error.jpg?raw=1\"/>\n",
        "\n",
        "The last line of the error output attempts to tell you what went wrong.  The *syntax* of a language is its structure, and this `SyntaxError` tells you that you have created an illegal structure.  \"`EOF`\" means \"end of file,\" so the message is saying Python expected you to write something more (in this case, a right parenthesis) before finishing the cell.\n",
        "\n",
        "There's a lot of terminology in programming languages, but you don't need to know it all in order to program effectively. If you see a cryptic message like this, you can often get by without deciphering it.\n",
        "\n",
        "And remember, *Google is your friend!* If you are stuck, always try copying the error into Google. Odds are by searching Google, you'll be able to come up with a solution. An important skill is to learn how to use Google effectively.\n",
        "\n",
        "**Question 4.** Try to fix the code above so that you can run the cell and see the intended message instead of an error."
      ]
    },
    {
      "cell_type": "markdown",
      "metadata": {
        "id": "KA_gSJsAGrEo"
      },
      "source": [
        "## 1.5. The Kernel\n",
        "\n",
        "The kernel is the program that runs the code in your notebook and displays the results. After executing a code cell, you’ll see indicators showing the amount of RAM and disk space used by the kernel.\n",
        "\n",
        "If you encounter issues such as the kernel being stuck for too long, your notebook becoming slow and unresponsive, or losing connection to the kernel, try the following steps:\n",
        "\n",
        "1. At the top of your screen, click **Runtime**, then select **Interrupt execution**.\n",
        "2. If that doesn’t resolve the issue, click **Runtime**, then choose **Restart runtime**. Keep in mind that you’ll need to rerun all code cells from the beginning of the notebook up to the point where you paused. You can do this by selecting **Cell** in the top menu, then choosing **Run All Above**.\n",
        "3. If the problem persists, restart your server. First, save your work by clicking **File** in the top left, then **Save**. Next, go to **Runtime** and select **Disconnect and delete runtime** to shut it down. Afterward, click **Reconnect** in the top right to restart the server.\n"
      ]
    },
    {
      "cell_type": "markdown",
      "metadata": {
        "id": "C1WSG8UcGrEp"
      },
      "source": [
        "##\n",
        "1.6. Submitting your work\n",
        "All assignments in the course will be distributed as notebooks like this one, and you will submit your work as a PDF. After you open your notebook, first **Save** your work. Then, in the top menu select **Cell** then **Run All**. Then, go to the **File** menu at the top and select **Print**. In the print preview that appears, choose **Save as PDF** from the dropdown menu of available printers. This should download a PDF of your notebook. Before you submit it, inspect the PDF to make sure everything printed and downloaded correctly. Sometimes you need to repeat this procedure 2-3 times. After you have your PDF, please rename it to LASTNAME_FIRSTNAME_LAB#.pdf. So for this lab, I would call it Kalla_Josh_Lab1.pdf. Once you have your PDF, you can then upload it to Canvas."
      ]
    },
    {
      "cell_type": "markdown",
      "metadata": {
        "id": "7IWgqzKlGrEp"
      },
      "source": [
        "# 2. Numbers\n",
        "\n",
        "Quantitative information arises everywhere in data science. In addition to representing commands to print out lines, expressions can represent numbers and methods of combining numbers. The expression `3.2500` evaluates to the number 3.25. (Run the cell and see.)"
      ]
    },
    {
      "cell_type": "code",
      "execution_count": null,
      "metadata": {
        "id": "VE854TjqGrEp"
      },
      "outputs": [],
      "source": [
        "3.2500"
      ]
    },
    {
      "cell_type": "markdown",
      "metadata": {
        "id": "dfE-Y9gSGrEp"
      },
      "source": [
        "Notice that we didn't have to `print`. When you run a notebook cell, if the last line has a value, then Jupyter helpfully prints out that value for you. However, it won't print out prior lines automatically."
      ]
    },
    {
      "cell_type": "code",
      "execution_count": null,
      "metadata": {
        "scrolled": true,
        "id": "CLBRKLkxGrEq"
      },
      "outputs": [],
      "source": [
        "print(2)\n",
        "3\n",
        "4"
      ]
    },
    {
      "cell_type": "markdown",
      "metadata": {
        "id": "opabPraeGrEq"
      },
      "source": [
        "Above, you should see that 4 is the value of the last expression, 2 is printed, but 3 is not displayed because it was neither printed nor last.\n",
        "\n",
        "You don't want to print everything all the time anyway.  But if you feel sorry for 3, change the cell above to print it."
      ]
    },
    {
      "cell_type": "markdown",
      "metadata": {
        "id": "9AIP5JwAGrEq"
      },
      "source": [
        "## 2.1. Arithmetic\n",
        "The line in the next cell subtracts.  Its value is what you'd expect.  Run it."
      ]
    },
    {
      "cell_type": "code",
      "execution_count": null,
      "metadata": {
        "id": "xZaUoTtUGrEq"
      },
      "outputs": [],
      "source": [
        "3.25 - 1.5"
      ]
    },
    {
      "cell_type": "markdown",
      "metadata": {
        "id": "CBsVvJdKGrEq"
      },
      "source": [
        "Many basic arithmetic operations are built in to Python.  The textbook section on [Expressions](https://inferentialthinking.com/chapters/03/1/Expressions.html) describes all the arithmetic operators used in the course.  The common operator that differs from typical math notation is `**`, which raises one number to the power of the other. So, `2**3` stands for $2^3$ and evaluates to 8.\n",
        "\n",
        "The order of operations is what you learned in elementary school, and Python also has parentheses."
      ]
    },
    {
      "cell_type": "code",
      "execution_count": null,
      "metadata": {
        "id": "fMgwg3GsGrEq"
      },
      "outputs": [],
      "source": [
        "1+6*5-6*3**2*2**3/4*7"
      ]
    },
    {
      "cell_type": "code",
      "execution_count": null,
      "metadata": {
        "id": "-BsaNFxLGrEq"
      },
      "outputs": [],
      "source": [
        "1+(6*5-(6*3))**2*((2**3)/4*7)"
      ]
    },
    {
      "cell_type": "markdown",
      "metadata": {
        "id": "F5RHxbieGrEr"
      },
      "source": [
        "In standard math notation, the first expression is\n",
        "\n",
        "$$1 + 6 \\times 5 - 6 \\times 3^2 \\times \\frac{2^3}{4} \\times 7,$$\n",
        "\n",
        "while the second expression is\n",
        "\n",
        "$$1 + (6 \\times 5 - (6 \\times 3))^2 \\times (\\frac{(2^3)}{4} \\times 7).$$\n",
        "\n",
        "**Question 5.** Write a Python expression in this next cell that's equal to $5 \\times (\\frac{3}{11}) - 50 + 2^{.5 \\times 22} - \\frac{7}{33}$.\n",
        "\n",
        "Replace the ellipses (`...`) with your expression."
      ]
    },
    {
      "cell_type": "code",
      "execution_count": null,
      "metadata": {
        "id": "itSycQNlGrEr"
      },
      "outputs": [],
      "source": [
        "..."
      ]
    },
    {
      "cell_type": "markdown",
      "metadata": {
        "id": "0YuIujksGrEr"
      },
      "source": [
        "# 3. Names\n",
        "In natural language, we have terminology that lets us quickly reference very complicated concepts.  We don't say, \"That's a large mammal with brown fur and sharp teeth!\"  Instead, we just say, \"Bear!\"\n",
        "\n",
        "Similarly, an effective strategy for writing code is to define names for data as we compute it, like a lawyer would define terms for complex ideas at the start of a legal document to simplify the rest of the writing.\n",
        "\n",
        "In Python, we do this with *assignment statements*. An assignment statement has a name on the left side of an `=` sign and an expression to be evaluated on the right."
      ]
    },
    {
      "cell_type": "code",
      "execution_count": null,
      "metadata": {
        "id": "H-_GCWt9GrEr"
      },
      "outputs": [],
      "source": [
        "ten = (3 * 2) + 4"
      ]
    },
    {
      "cell_type": "markdown",
      "metadata": {
        "id": "waZmoRANGrEr"
      },
      "source": [
        "When you run that cell, Python first evaluates the first line.  It computes the value of the expression `(3 * 2) + 4`, which is the number 10.  Then it gives that value the name `ten`.  At that point, the code in the cell is done running.\n",
        "\n",
        "After you run that cell, the value 10 is bound to the name `ten`:"
      ]
    },
    {
      "cell_type": "code",
      "execution_count": null,
      "metadata": {
        "id": "SpsTHG48GrEr"
      },
      "outputs": [],
      "source": [
        "ten"
      ]
    },
    {
      "cell_type": "markdown",
      "metadata": {
        "id": "6ugYpuUeGrEr"
      },
      "source": [
        "The statement `ten = (3 * 2) + 4` is not asserting that `ten` is already equal to `(3 * 2) + 4`, as we might expect by analogy with math notation.  Rather, that line of code changes what `ten` means; it now refers to the value 10, whereas before it meant nothing at all.\n",
        "\n",
        "If the designers of Python had been ruthlessly pedantic, they might have made us write\n",
        "\n",
        "    define the name ten to hereafter have the value of (3 * 2) + 4\n",
        "\n",
        "instead.  You will probably appreciate the brevity of \"`=`\"!  But keep in mind that this is the real meaning.\n",
        "\n",
        "**Question 6.** Try writing code that uses a name (like `eleven`) that hasn't been assigned to anything.  You'll see an error!\n",
        "\n",
        "Before you submit this code, you'll need to fix this error. Assign `eleven` the number 11. If you don't fix the error, your lab might not export properly when you go to submit."
      ]
    },
    {
      "cell_type": "code",
      "execution_count": 4,
      "metadata": {
        "collapsed": true,
        "jupyter": {
          "outputs_hidden": true
        },
        "id": "S1YDjnSKGrEr"
      },
      "outputs": [],
      "source": []
    },
    {
      "cell_type": "markdown",
      "metadata": {
        "id": "7M4s-09AGrEr"
      },
      "source": [
        "A common pattern in Jupyter notebooks is to assign a value to a name and then immediately evaluate the name in the last line in the cell so that the value is displayed as output."
      ]
    },
    {
      "cell_type": "code",
      "execution_count": 5,
      "metadata": {
        "id": "VC_lpa-uGrEr",
        "outputId": "b05a4995-ae2a-46ea-ec99-fcb3b626260e",
        "colab": {
          "base_uri": "https://localhost:8080/"
        }
      },
      "outputs": [
        {
          "output_type": "execute_result",
          "data": {
            "text/plain": [
              "3.1415929203539825"
            ]
          },
          "metadata": {},
          "execution_count": 5
        }
      ],
      "source": [
        "close_to_pi = 355/113\n",
        "close_to_pi"
      ]
    },
    {
      "cell_type": "markdown",
      "metadata": {
        "id": "zfOXP_tnGrEr"
      },
      "source": [
        "Another common pattern is that a series of lines in a single cell will build up a complex computation in stages, naming the intermediate results. Writing code likes this can make it easier for your future self to understand what you were doing at the time. It also helps if any of your inputs change, such as getting a raise."
      ]
    },
    {
      "cell_type": "code",
      "execution_count": 6,
      "metadata": {
        "id": "uJLyukWgGrEr",
        "outputId": "88f03e9f-fd83-4cb0-d9ab-ec8e63932633",
        "colab": {
          "base_uri": "https://localhost:8080/"
        }
      },
      "outputs": [
        {
          "output_type": "execute_result",
          "data": {
            "text/plain": [
              "20160"
            ]
          },
          "metadata": {},
          "execution_count": 6
        }
      ],
      "source": [
        "bimonthly_salary = 840\n",
        "monthly_salary = 2 * bimonthly_salary\n",
        "number_of_months_in_a_year = 12\n",
        "yearly_salary = number_of_months_in_a_year * monthly_salary\n",
        "yearly_salary"
      ]
    },
    {
      "cell_type": "markdown",
      "metadata": {
        "id": "YYy0MCBbGrEs"
      },
      "source": [
        "Names in Python can have letters (upper- and lower-case letters are both okay and count as different letters), underscores, and numbers.  The first character can't be a number (otherwise a name might look like a number).  And names can't contain spaces, since spaces are used to separate pieces of code from each other.\n",
        "\n",
        "Other than those rules, what you name something doesn't matter *to Python*.  For example, this cell does the same thing as the above cell, except everything has a different name:"
      ]
    },
    {
      "cell_type": "code",
      "execution_count": 7,
      "metadata": {
        "id": "MRAZCVzvGrEs",
        "outputId": "71a5d638-aabb-4dd8-b5f2-d51d07336380",
        "colab": {
          "base_uri": "https://localhost:8080/"
        }
      },
      "outputs": [
        {
          "output_type": "execute_result",
          "data": {
            "text/plain": [
              "20160"
            ]
          },
          "metadata": {},
          "execution_count": 7
        }
      ],
      "source": [
        "a = 840\n",
        "b = 2 * a\n",
        "c = 12\n",
        "d = c * b\n",
        "d"
      ]
    },
    {
      "cell_type": "markdown",
      "metadata": {
        "id": "voqfwkmNGrEs"
      },
      "source": [
        "**However**, names are very important for making your code *readable* to yourself and others.  The cell above is shorter, but it's totally useless without an explanation of what it does. Please always make sure you use useful, interpretable names. Please do not call things `var1`, `var2`, etc. You will lose points for that. Your names should be clear, obvious, and intuitive. Remember, you are not just writing code for yourself. You are often writing code for colleagues who do not have the same understanding of the code as you. Make your code easy to understand. Your code shouldn't be adversarial. Good code is like good writing!"
      ]
    },
    {
      "cell_type": "markdown",
      "metadata": {
        "id": "rtXtTHrTGrEs"
      },
      "source": [
        "**Question 7.** Assign the name `seconds_in_a_decade` to the number of seconds between midnight January 1, 2010 and midnight January 1, 2020. Don't forget about leap years! And remember, Google is your friend."
      ]
    },
    {
      "cell_type": "code",
      "execution_count": 8,
      "metadata": {
        "id": "pCiQLYykGrEs",
        "outputId": "788ed25d-2cad-4ccf-ed39-f8ff6d082cb6",
        "colab": {
          "base_uri": "https://localhost:8080/"
        }
      },
      "outputs": [
        {
          "output_type": "execute_result",
          "data": {
            "text/plain": [
              "Ellipsis"
            ]
          },
          "metadata": {},
          "execution_count": 8
        }
      ],
      "source": [
        "# Change the next line so that it computes the number of\n",
        "# seconds in a decade and assigns that number the name\n",
        "# seconds_in_a_decade.\n",
        "seconds_in_a_decade = ...\n",
        "\n",
        "# We've put this line in this cell so that it will print\n",
        "# the value you've given to seconds_in_a_decade when you\n",
        "# run it.  You don't need to change this.\n",
        "seconds_in_a_decade"
      ]
    },
    {
      "cell_type": "markdown",
      "metadata": {
        "id": "g19jEUjgGrEt"
      },
      "source": [
        "## 3.1. Comments\n",
        "You may have noticed this line in the cell above:\n",
        "\n",
        "    # We've put this line in this cell so that it will print\n",
        "\n",
        "That is called a *comment*.  It doesn't make anything happen in Python; Python ignores anything on a line after a #.  Instead, it's there to communicate something about the code to you, the human reader.  Comments are extremely useful.\n",
        "\n",
        "<img src=\"http://imgs.xkcd.com/comics/future_self.png\">"
      ]
    },
    {
      "cell_type": "markdown",
      "metadata": {
        "id": "-48C6EnrGrEt"
      },
      "source": [
        "## 3.2. Application: Number of voters needed to win\n",
        "\n",
        "Everything you do during the campaign, from knocking on a door, to sending out a tweet, should be in service of reaching your win number on Election Day. Time, people, and money are every campaign’s most important resources. In order to make sure those resources are used in the most efficient and effective way possible, we use targeting. Targeting starts with knowing how many votes you’ll need to win. So let’s get to work!"
      ]
    },
    {
      "cell_type": "markdown",
      "metadata": {
        "id": "SDl_pijNGrEt"
      },
      "source": [
        "**Question 8.** Assume that the percentage of voter turnout from the last three similar elections has been 40%, 45%, and 52%. What has the **average** voter turnout been?"
      ]
    },
    {
      "cell_type": "code",
      "execution_count": 9,
      "metadata": {
        "id": "bajisa6-GrEt",
        "outputId": "30917a4c-a0c7-49de-8ef5-17bc71304f23",
        "colab": {
          "base_uri": "https://localhost:8080/"
        }
      },
      "outputs": [
        {
          "output_type": "execute_result",
          "data": {
            "text/plain": [
              "Ellipsis"
            ]
          },
          "metadata": {},
          "execution_count": 9
        }
      ],
      "source": [
        "average_turnout = ...\n",
        "average_turnout"
      ]
    },
    {
      "cell_type": "markdown",
      "metadata": {
        "id": "aaV1J6V4GrEt"
      },
      "source": [
        "**Question 9.** Assume there are 14,527 people registered to vote. How many people do you expect to vote in this election?"
      ]
    },
    {
      "cell_type": "code",
      "execution_count": 10,
      "metadata": {
        "id": "KVtVpdHuGrEt",
        "outputId": "741fd741-43e3-43ad-9402-9f697381ae8e",
        "colab": {
          "base_uri": "https://localhost:8080/"
        }
      },
      "outputs": [
        {
          "output_type": "execute_result",
          "data": {
            "text/plain": [
              "Ellipsis"
            ]
          },
          "metadata": {},
          "execution_count": 10
        }
      ],
      "source": [
        "expected_turnout = ...\n",
        "expected_turnout"
      ]
    },
    {
      "cell_type": "markdown",
      "metadata": {
        "id": "TYx4ZtU6GrEt"
      },
      "source": [
        "**Question 10.** How many votes do you need to get in order to win? Please explain."
      ]
    },
    {
      "cell_type": "markdown",
      "metadata": {
        "id": "HjMQbPxhGrEt"
      },
      "source": [
        "**Enter your answer by double-clicking on this block. Delete this text and replace it with your answer.**"
      ]
    },
    {
      "cell_type": "markdown",
      "metadata": {
        "id": "2XU5n4MnGrEt"
      },
      "source": [
        "## 4. Calling functions\n",
        "\n",
        "The most common way to combine or manipulate values in Python is by calling functions. Python comes with many built-in functions that perform common operations.\n",
        "\n",
        "For example, the `abs` function takes a single number as its argument and returns the absolute value of that number.  The absolute value of a number is its distance from 0 on the number line, so `abs(5)` is 5 and `abs(-5)` is also 5."
      ]
    },
    {
      "cell_type": "code",
      "execution_count": 11,
      "metadata": {
        "id": "669F_5VBGrEt",
        "outputId": "f8749eec-0f07-441c-940d-a2e25b001178",
        "colab": {
          "base_uri": "https://localhost:8080/"
        }
      },
      "outputs": [
        {
          "output_type": "execute_result",
          "data": {
            "text/plain": [
              "5"
            ]
          },
          "metadata": {},
          "execution_count": 11
        }
      ],
      "source": [
        "abs(5)"
      ]
    },
    {
      "cell_type": "code",
      "execution_count": 12,
      "metadata": {
        "id": "J-W1gyq_GrEt",
        "outputId": "f956fc4a-f3f7-4eb1-fbb6-762be3e0f892",
        "colab": {
          "base_uri": "https://localhost:8080/"
        }
      },
      "outputs": [
        {
          "output_type": "execute_result",
          "data": {
            "text/plain": [
              "5"
            ]
          },
          "metadata": {},
          "execution_count": 12
        }
      ],
      "source": [
        "abs(-5)"
      ]
    },
    {
      "cell_type": "markdown",
      "metadata": {
        "id": "sd-NsJOYGrEt"
      },
      "source": [
        "## 4.1. Application: Computing walking distances\n",
        "Chunhua is on the corner of 7th Avenue and 42nd Street in Midtown Manhattan, and she wants to know how far she'd have to walk to get to Gramercy School on the corner of 10th Avenue and 34th Street.\n",
        "\n",
        "She can't cut across blocks diagonally, since there are buildings in the way.  She has to walk along the sidewalks.  Using the map below, she sees she'd have to walk 3 avenues (long blocks) and 8 streets (short blocks).  In terms of the given numbers, she computed 3 as the difference between 7 and 10, *in absolute value*, and 8 similarly.  \n",
        "\n",
        "Chunhua also knows that blocks in Manhattan are all about 80m by 274m (avenues are farther apart than streets).  So in total, she'd have to walk $(80 \\times |42 - 34| + 274 \\times |7 - 10|)$ meters to get to the park.\n",
        "\n",
        "<img src=\"https://github.com/albertostefanelli/data_science_campaigns/blob/master/Colab/Lab1/map.jpg?raw=1\"/>\n",
        "\n",
        "**Question 11.** Finish the line `num_avenues_away = ...` in the next cell so that the cell calculates the distance Chunhua must walk and gives it the name `manhattan_distance`.  Everything else has been filled in for you.  **Use the `abs` function.**"
      ]
    },
    {
      "cell_type": "code",
      "execution_count": 13,
      "metadata": {
        "collapsed": true,
        "jupyter": {
          "outputs_hidden": true
        },
        "id": "H3TMkAocGrEt",
        "outputId": "e1b9879b-49d0-4cd3-acdd-7f41cf3f7f01",
        "colab": {
          "base_uri": "https://localhost:8080/",
          "height": 201
        }
      },
      "outputs": [
        {
          "output_type": "error",
          "ename": "TypeError",
          "evalue": "unsupported operand type(s) for *: 'int' and 'ellipsis'",
          "traceback": [
            "\u001b[0;31m---------------------------------------------------------------------------\u001b[0m",
            "\u001b[0;31mTypeError\u001b[0m                                 Traceback (most recent call last)",
            "\u001b[0;32m/tmp/ipython-input-3107696895.py\u001b[0m in \u001b[0;36m<cell line: 0>\u001b[0;34m()\u001b[0m\n\u001b[1;32m      9\u001b[0m \u001b[0;34m\u001b[0m\u001b[0m\n\u001b[1;32m     10\u001b[0m \u001b[0;31m# Now we compute the total distance Chunhua must walk.\u001b[0m\u001b[0;34m\u001b[0m\u001b[0;34m\u001b[0m\u001b[0m\n\u001b[0;32m---> 11\u001b[0;31m \u001b[0mmanhattan_distance\u001b[0m \u001b[0;34m=\u001b[0m \u001b[0mstreet_length_m\u001b[0m\u001b[0;34m*\u001b[0m\u001b[0mnum_streets_away\u001b[0m \u001b[0;34m+\u001b[0m \u001b[0mavenue_length_m\u001b[0m\u001b[0;34m*\u001b[0m\u001b[0mnum_avenues_away\u001b[0m\u001b[0;34m\u001b[0m\u001b[0;34m\u001b[0m\u001b[0m\n\u001b[0m\u001b[1;32m     12\u001b[0m \u001b[0;34m\u001b[0m\u001b[0m\n\u001b[1;32m     13\u001b[0m \u001b[0;31m# We've included this line so that you see the distance\u001b[0m\u001b[0;34m\u001b[0m\u001b[0;34m\u001b[0m\u001b[0m\n",
            "\u001b[0;31mTypeError\u001b[0m: unsupported operand type(s) for *: 'int' and 'ellipsis'"
          ]
        }
      ],
      "source": [
        "# Here's the number of streets away:\n",
        "num_streets_away = abs(42-34)\n",
        "\n",
        "# Compute the number of avenues away in a similar way:\n",
        "num_avenues_away = ...\n",
        "\n",
        "street_length_m = 80\n",
        "avenue_length_m = 274\n",
        "\n",
        "# Now we compute the total distance Chunhua must walk.\n",
        "manhattan_distance = street_length_m*num_streets_away + avenue_length_m*num_avenues_away\n",
        "\n",
        "# We've included this line so that you see the distance\n",
        "# you've computed when you run this cell.  You don't need\n",
        "# to change it, but you can if you want.\n",
        "manhattan_distance"
      ]
    },
    {
      "cell_type": "markdown",
      "metadata": {
        "id": "69LE75gQGrEu"
      },
      "source": [
        "##### Multiple arguments\n",
        "Some functions take multiple arguments, separated by commas. For example, the built-in `max` function returns the maximum argument passed to it."
      ]
    },
    {
      "cell_type": "code",
      "execution_count": null,
      "metadata": {
        "id": "eYKGQOxMGrEu"
      },
      "outputs": [],
      "source": [
        "max(2, -3, 4, -5)"
      ]
    },
    {
      "cell_type": "markdown",
      "metadata": {
        "id": "-zP4GUJ1GrEu"
      },
      "source": [
        "# 5. Understanding nested expressions\n",
        "Function calls and arithmetic expressions can themselves contain expressions.  You saw an example in the last question:\n",
        "\n",
        "    abs(42-34)\n",
        "\n",
        "has 2 number expressions in a subtraction expression in a function call expression.  And you probably wrote something like `abs(7-10)` to compute `num_avenues_away`.\n",
        "\n",
        "Nested expressions can turn into complicated-looking code. However, the way in which complicated expressions break down is very regular.\n",
        "\n",
        "Suppose we are interested in heights that are very unusual.  We'll say that a height is unusual to the extent that it's far away on the number line from the average human height.  [An estimate](http://press.endocrine.org/doi/full/10.1210/jcem.86.9.7875?ck=nck&) of the average adult human height (averaging, we hope, over all humans on Earth today) is 1.688 meters.\n",
        "\n",
        "So if Aditya is 1.21 meters tall, then his height is $|1.21 - 1.688|$, or $.478$, meters away from the average.  Here's a picture of that:\n",
        "\n",
        "<img src=\"https://github.com/albertostefanelli/data_science_campaigns/blob/master/Colab/Lab1/numberline_0.png?raw=1\">\n",
        "\n",
        "And here's how we'd write that in one line of Python code:"
      ]
    },
    {
      "cell_type": "code",
      "execution_count": null,
      "metadata": {
        "collapsed": true,
        "jupyter": {
          "outputs_hidden": true
        },
        "id": "B5bUXjUtGrEu"
      },
      "outputs": [],
      "source": [
        "abs(1.21 - 1.688)"
      ]
    },
    {
      "cell_type": "markdown",
      "metadata": {
        "id": "_F2pPjZAGrEu"
      },
      "source": [
        "What's going on here?  `abs` takes just one argument, so the stuff inside the parentheses is all part of that *single argument*.  Specifically, the argument is the value of the expression `1.21 - 1.688`.  The value of that expression is `-.478`.  That value is the argument to `abs`.  The absolute value of that is `.478`, so `.478` is the value of the full expression `abs(1.21 - 1.688)`.\n",
        "\n",
        "Picture simplifying the expression in several steps:\n",
        "\n",
        "1. `abs(1.21 - 1.688)`\n",
        "2. `abs(-.478)`\n",
        "3. `.478`\n",
        "\n",
        "In fact, that's basically what Python does to compute the value of the expression."
      ]
    },
    {
      "cell_type": "markdown",
      "metadata": {
        "id": "aXpjvhSdGrEu"
      },
      "source": [
        "**Question 12.** Say that Botan's height is 1.85 meters.  In the next cell, use `abs` to compute the absolute value of the difference between Botan's height and the average human height.  Give that value the name `botan_distance_from_average_m`.\n",
        "\n",
        "<img src=\"https://github.com/albertostefanelli/data_science_campaigns/blob/master/Colab/Lab1/numberline_1.png?raw=1\">"
      ]
    },
    {
      "cell_type": "code",
      "execution_count": null,
      "metadata": {
        "collapsed": true,
        "jupyter": {
          "outputs_hidden": true
        },
        "id": "LL4I_2_2GrEu"
      },
      "outputs": [],
      "source": [
        "# Replace the ... with an expression to compute the absolute\n",
        "# value of the difference between Botan's height (1.85m) and\n",
        "# the average human height.\n",
        "botan_distance_from_average_m = ...\n",
        "\n",
        "# Again, we've written this here so that the distance you\n",
        "# compute will get printed when you run this cell.\n",
        "botan_distance_from_average_m"
      ]
    },
    {
      "cell_type": "markdown",
      "metadata": {
        "id": "_QSKULedGrEu"
      },
      "source": [
        "## 5.1. More nesting\n",
        "Now say that we want to compute the most unusual height among Aditya's and Botan's heights.  We'll use the function `max`, which (again) takes two (or more) numbers as arguments and returns the larger of the two arguments.  Combining that with the `abs` function, we can compute the biggest distance from the average among the two heights:"
      ]
    },
    {
      "cell_type": "code",
      "execution_count": null,
      "metadata": {
        "id": "Lfmav9FRGrEu"
      },
      "outputs": [],
      "source": [
        "# Just read and run this cell.\n",
        "\n",
        "aditya_height_m = 1.21\n",
        "botan_height_m = 1.85\n",
        "average_adult_human_height_m = 1.688\n",
        "\n",
        "# The biggest distance from the average human height, among the two heights:\n",
        "biggest_distance_m = max(abs(aditya_height_m - average_adult_human_height_m), abs(botan_height_m - average_adult_human_height_m))\n",
        "\n",
        "# Print out our results in a nice readable format:\n",
        "print(\"The biggest distance from the average height among these two people is\", biggest_distance_m, \"meters.\")"
      ]
    },
    {
      "cell_type": "markdown",
      "metadata": {
        "id": "ErHdJLvCGrEu"
      },
      "source": [
        "The line where `biggest_distance_m` is computed looks complicated, but we can break it down into simpler components just like we did before.\n",
        "\n",
        "The basic recipe is repeated simplification of small parts of the expression:\n",
        "* We start with the simplest components whose values we know, like plain names or numbers.  (Examples: `aditya_height_m` or `5`.)\n",
        "* **Find a simple-enough group of expressions:** We look for a group of simple expressions that are directly connected to each other in the code, for example by arithmetic or as arguments to a function call.\n",
        "* **Evaluate that group:** We evaluate the arithmetic expressions or function calls they're part of, and replace the whole group with whatever we compute.  (Example: `aditya_height_m - average_adult_human_height_m` becomes `-.478`.)\n",
        "* **Repeat:** We continue this process, using the values of the glommed-together stuff as our new basic components.  (Example: `abs(-.478)` becomes `.478`, and `max(.478, .162)` later becomes `.478`.)\n",
        "* We keep doing that until we've evaluated the whole expression."
      ]
    },
    {
      "cell_type": "markdown",
      "metadata": {
        "id": "gBqGoPXUGrEv"
      },
      "source": [
        "Ok, your turn.\n",
        "\n",
        "**Question 13.** Given the heights of three basketball players, write an expression that computes the smallest difference between any of the three heights. Your expression shouldn't have any numbers in it, only function calls and the names `klay`, `steph`, and `kevin`. Give the value of your expression the name `min_height_difference`. Since you're trying to find the smallest difference, you'll want to use a function that returns the smallest value. (*Hint*: the function name is intuitive, but don't hesitate to use Google for help!)"
      ]
    },
    {
      "cell_type": "code",
      "execution_count": null,
      "metadata": {
        "id": "6eWztRYOGrEv"
      },
      "outputs": [],
      "source": [
        "# The three players' heights, in meters:\n",
        "klay =  2.01 # Klay Thompson is 6'7\"\n",
        "steph = 1.91 # Steph Curry is 6'3\"\n",
        "kevin = 2.06 # Kevin Durant is officially 6'9\", but many suspect that he is taller.\n",
        "\n",
        "# We'd like to look at all 3 pairs of heights, compute the absolute\n",
        "# difference between each pair, and then find the smallest of those\n",
        "# 3 absolute differences.  This is left to you!  If you're stuck,\n",
        "# try computing the value for each step of the process (like the\n",
        "# difference between Klay's heigh and Steph's height) on a separate\n",
        "# line and giving it a name (like klay_steph_height_diff).\n",
        "min_height_difference = ..."
      ]
    },
    {
      "cell_type": "markdown",
      "metadata": {
        "id": "sQTEK3AfGrEv"
      },
      "source": [
        "# Congratulations!\n",
        "\n",
        "You are done with the lab. Before you finish and submit, please fill out this brief evaluation:\n",
        "\n",
        "- I spent around XXXX hours on this lab,.\n",
        "- This lab was (too easy, too hard, just about the right difficulty).\n",
        "\n",
        "All assignments in the course will be distributed as notebooks like this one, and you will submit your work as a PDF.  \n",
        "\n",
        "# How to Convert your Colab notebook to a PDF and download it\n",
        "\n",
        "Follow these instructions exactly to make sure your notebook is correctly converted to a PDF and saved to your computer.\n",
        "\n",
        "---\n",
        "\n",
        "## 1. Check everything is in order and all the code runs\n",
        "\n",
        "Before starting the conversion process, make sure your notebook is complete and error-free.\n",
        "\n",
        "1. **Open your notebook** in Google Colab.\n",
        "2. **Save your work**:\n",
        "   - Go to **File → Save** or press `Ctrl + S` (Windows) / `Cmd + S` (Mac).\n",
        "   - This ensures that all your recent changes are stored.\n",
        "3. **Run all the cells** to confirm there are no errors:\n",
        "   - In the top menu, select **Cell → Run All**.\n",
        "   - Colab will execute every cell in order.\n",
        "4. **Watch for errors**:\n",
        "   - If you see any red error messages, fix them before proceeding.\n",
        "   - A notebook with errors will **not** convert to PDF correctly.\n",
        "5. Once all cells run without errors, you can proceed to the next step.\n",
        "\n",
        "---\n",
        "\n",
        "## 2. Make sure your notebook is saved in Google Drive and named correctly\n",
        "Before converting, confirm that your notebook is stored in your Google Drive inside the `Colab Notebooks` folder.\n",
        "\n",
        "1. Look at the top-left corner of the Colab page — you’ll see the notebook’s current name next to two yellow circle icons.\n",
        "2. Rename the file by directly clicking on the name, type the new name, and press **Enter**.  \n",
        "  - Please rename the notebook to LASTNAME_FIRSTNAME_LAB#.pdf. So for this lab, I would call it Alberto_Stefanelli_Lab1.ipynb.\n",
        "  - The name must end with `.ipynb`\n",
        "3. Ensure the notebook is in your Google Drive (not in Colab’s temporary session storage):  \n",
        "   - In the menu, click **File → Locate in Drive**.  \n",
        "   - This will open the folder in Drive where the notebook is stored.  \n",
        "   - If it’s not in `My Drive/Colab Notebooks`, move it there for easier access.\n",
        "\n",
        "---\n",
        "\n",
        "## 3. Install the required tools\n",
        "\n",
        "We wrote some code (see below) to automatically convert your Notebook to PDF. When you run the provided code cell, the first step will install some essential pieces of software (i.e., Pandoc and Latex) inside your Colab environment. There is no need to exactly understand what is happening\n",
        "\n",
        "**Important:**\n",
        "- This installation will take between 2 to 5 minutes.\n",
        "- Do **not** close or refresh the Colab page while it runs.\n",
        "\n",
        "---\n",
        "\n",
        "## 4. Mount your Google Drive in Colab\n",
        "\n",
        "After installing the requirements, the code will ask Colab to **mount** your Google Drive. You can use both your personal or Yale account. This is needed because the notebook you are converting must be saved in Drive before it can be converted to PDF.\n",
        "\n",
        "You will see a pop-up with a **link**:\n",
        "1. Click the link.\n",
        "2. Sign in to your Google account (use the same account where your Colab notebook is saved).\n",
        "3. If prompted, copy the long **authorization code** provided.\n",
        "  - Paste that code into the input box in Colab and press **Enter**.\n",
        "5. This will connect your Google Drive to Colab\n",
        "6. If the link does not appear, make sure your browser is not blocking pop-ups.\n",
        "\n",
        "---\n",
        "\n",
        "## 5. Enter your notebook’s file name\n",
        "\n",
        "The code will now ask to enter your notebook’s exact file name\n",
        "\n",
        "1. Type the **full name** of your notebook, including the `.ipynb` ending.  \n",
        "  - Example: `Alberto_Stefanelli_Lab1.ipynb.`\n",
        "2. Make sure the name matches exactly, including capitalization and underscores.\n",
        "3. Press **Enter**.\n",
        "\n",
        "---\n",
        "\n",
        "## 7. Convert the notebook to PDF and download it\n",
        "\n",
        "The code will convert the notebook file to a pdf. After the PDF is created, your browser will show a download pop-up or automatically save the file to your Downloads folder. You can now open the PDF with any PDF reader. Once you have your PDF and made sure eveything is in order, you can then upload it to Canvas.\n",
        "\n",
        "---\n",
        "\n",
        "## 8. If you see an error:\n",
        "\n",
        "Double-check that:\n",
        "\n",
        "- All cells run without errors\n",
        "- Mounted Google Drive without errors\n",
        "- Saved notebook to Google Drive and not locally or on Github\n",
        "- Entered correct notebook file name with `.ipynb`.\n",
        "- Conversion completed without any errors.\n",
        "- PDF downloaded to your computer (download and pop-ups are not blocked by your browser)\n",
        "\n",
        "\n",
        "**Fallback:** If the PDF export method below fails (for example, due to LaTeX or pandoc errors), you can use https://convert.ploomber.io/ as a fallback option. However, I strongly suggest trying the methods below first and using this fallback only as a last resort.\n",
        "\n",
        " **If you run into any issues, please reach out for help**\n"
      ]
    },
    {
      "cell_type": "code",
      "source": [
        "# Install requirements\n",
        "!apt-get -qq update\n",
        "!apt-get install -y pandoc texlive-xetex texlive-fonts-recommended texlive-plain-generic\n",
        "\n",
        "from google.colab import drive, files\n",
        "\n",
        "# Mount Google Drive\n",
        "drive.mount('/content/drive')\n",
        "\n",
        "# Ask for the notebook name\n",
        "notebook_name = input(\n",
        "    \"Enter your notebook’s exact file name,\\n\"\n",
        "    \"exactly as shown in the top-left corner of the Colab page (next to the two yellow circle icons): \"\n",
        ")\n",
        "\n",
        "# Build paths\n",
        "input_path = f\"/content/drive/MyDrive/Colab Notebooks/{notebook_name}\"\n",
        "output_path = input_path.replace(\".ipynb\", \".pdf\")\n",
        "\n",
        "# Convert to PDF\n",
        "!jupyter nbconvert --to pdf \"{input_path}\"\n",
        "\n",
        "# Download the PDF\n",
        "files.download(output_path)\n"
      ],
      "metadata": {
        "id": "xze1uhAuIesF",
        "outputId": "3644e062-f94f-4f36-a84e-d90fb15e2ea1",
        "colab": {
          "base_uri": "https://localhost:8080/",
          "height": 365
        }
      },
      "execution_count": 19,
      "outputs": [
        {
          "output_type": "stream",
          "name": "stdout",
          "text": [
            "W: Skipping acquire of configured file 'main/source/Sources' as repository 'https://r2u.stat.illinois.edu/ubuntu jammy InRelease' does not seem to provide it (sources.list entry misspelt?)\n",
            "Reading package lists... Done\n",
            "Building dependency tree... Done\n",
            "Reading state information... Done\n",
            "pandoc is already the newest version (2.9.2.1-3ubuntu2).\n",
            "texlive-fonts-recommended is already the newest version (2021.20220204-1).\n",
            "texlive-plain-generic is already the newest version (2021.20220204-1).\n",
            "texlive-xetex is already the newest version (2021.20220204-1).\n",
            "0 upgraded, 0 newly installed, 0 to remove and 37 not upgraded.\n",
            "Drive already mounted at /content/drive; to attempt to forcibly remount, call drive.mount(\"/content/drive\", force_remount=True).\n",
            "Enter your notebook’s exact file name,\n",
            "exactly as shown in the top-left corner of the Colab page (next to the two yellow circle icons): lab01.ipynb\n",
            "[NbConvertApp] Converting notebook /content/drive/MyDrive/Colab Notebooks/lab01.ipynb to pdf\n",
            "[NbConvertApp] Writing 60794 bytes to notebook.tex\n",
            "[NbConvertApp] Building PDF\n",
            "[NbConvertApp] Running xelatex 3 times: ['xelatex', 'notebook.tex', '-quiet']\n",
            "[NbConvertApp] Running bibtex 1 time: ['bibtex', 'notebook']\n",
            "[NbConvertApp] WARNING | bibtex had problems, most likely because there were no citations\n",
            "[NbConvertApp] PDF successfully created\n",
            "[NbConvertApp] Writing 90168 bytes to /content/drive/MyDrive/Colab Notebooks/lab01.pdf\n"
          ]
        },
        {
          "output_type": "display_data",
          "data": {
            "text/plain": [
              "<IPython.core.display.Javascript object>"
            ],
            "application/javascript": [
              "\n",
              "    async function download(id, filename, size) {\n",
              "      if (!google.colab.kernel.accessAllowed) {\n",
              "        return;\n",
              "      }\n",
              "      const div = document.createElement('div');\n",
              "      const label = document.createElement('label');\n",
              "      label.textContent = `Downloading \"${filename}\": `;\n",
              "      div.appendChild(label);\n",
              "      const progress = document.createElement('progress');\n",
              "      progress.max = size;\n",
              "      div.appendChild(progress);\n",
              "      document.body.appendChild(div);\n",
              "\n",
              "      const buffers = [];\n",
              "      let downloaded = 0;\n",
              "\n",
              "      const channel = await google.colab.kernel.comms.open(id);\n",
              "      // Send a message to notify the kernel that we're ready.\n",
              "      channel.send({})\n",
              "\n",
              "      for await (const message of channel.messages) {\n",
              "        // Send a message to notify the kernel that we're ready.\n",
              "        channel.send({})\n",
              "        if (message.buffers) {\n",
              "          for (const buffer of message.buffers) {\n",
              "            buffers.push(buffer);\n",
              "            downloaded += buffer.byteLength;\n",
              "            progress.value = downloaded;\n",
              "          }\n",
              "        }\n",
              "      }\n",
              "      const blob = new Blob(buffers, {type: 'application/binary'});\n",
              "      const a = document.createElement('a');\n",
              "      a.href = window.URL.createObjectURL(blob);\n",
              "      a.download = filename;\n",
              "      div.appendChild(a);\n",
              "      a.click();\n",
              "      div.remove();\n",
              "    }\n",
              "  "
            ]
          },
          "metadata": {}
        },
        {
          "output_type": "display_data",
          "data": {
            "text/plain": [
              "<IPython.core.display.Javascript object>"
            ],
            "application/javascript": [
              "download(\"download_94a14043-5cea-4060-a627-be4115f966b2\", \"lab01.pdf\", 90168)"
            ]
          },
          "metadata": {}
        }
      ]
    }
  ],
  "metadata": {
    "anaconda-cloud": {},
    "kernelspec": {
      "display_name": "Python 3 (ipykernel)",
      "language": "python",
      "name": "python3"
    },
    "language_info": {
      "codemirror_mode": {
        "name": "ipython",
        "version": 3
      },
      "file_extension": ".py",
      "mimetype": "text/x-python",
      "name": "python",
      "nbconvert_exporter": "python",
      "pygments_lexer": "ipython3",
      "version": "3.12.5"
    },
    "colab": {
      "provenance": []
    }
  },
  "nbformat": 4,
  "nbformat_minor": 0
}