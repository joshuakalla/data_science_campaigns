{
  "cells": [
    {
      "cell_type": "markdown",
      "metadata": {
        "id": "H2q-fBMsvFw6"
      },
      "source": [
        "# Lab 1: Expressions\n",
        "\n",
        "---\n",
        "\n",
        "Welcome to Data Science for Political Campaigns!  Each week you will complete a lab assignment like this one.  You can't learn technical subjects without hands-on practice, so labs are an important part of the course.\n",
        "\n",
        "Before we get started, there are some administrative details.\n",
        "\n",
        "Labs are required.\n",
        "\n",
        "Collaborating on labs is more than okay -- it's encouraged! You should rarely be stuck for more than a few minutes on questions in labs, so ask me or a classmate for help. (Explaining things is beneficial, too -- the best way to solidify your knowledge of a subject is to explain it.) Please don't just share answers, though.\n",
        "\n",
        "**To turn in your lab, you will need to submit a PDF through Canvas. At the bottom, I provide some instructions on how to save your lab as a PDF.**\n",
        "\n",
        "#### Today's lab\n",
        "\n",
        "In today's lab, you'll learn how to:\n",
        "\n",
        "1. navigate Jupyter notebooks (like this one);\n",
        "2. write and evaluate some basic *expressions* in Python, the computer language of the course;\n",
        "3. call *functions* to use code other people have written; and\n",
        "4. break down Python code into smaller parts to understand it.\n",
        "\n",
        "This lab covers parts of [Chapter 3](http://www.inferentialthinking.com/chapters/03/programming-in-python.html) of the online textbook.\n",
        "\n",
        "As you work on your labs, **don't forget to save!** Usually your lab will autosave, but sometimes this feature breaks. Just to be safe, be sure to click the save button at the top every so often."
      ]
    },
    {
      "cell_type": "markdown",
      "metadata": {
        "id": "InVtZMV3vFw9"
      },
      "source": [
        "# 1. Jupyter notebooks\n",
        "This webpage is called a Jupyter notebook. A notebook is a place to write programs and view their results.\n",
        "\n",
        "## 1.1. Text cells\n",
        "In a notebook, each rectangle containing text or code is called a *cell*.\n",
        "\n",
        "Text cells (like this one) can be edited by double-clicking on them. They're written in a simple format called [Markdown](http://daringfireball.net/projects/markdown/syntax) to add formatting and section headings.  You don't need to learn Markdown, but you might want to.\n",
        "\n",
        "Each text cell in Google Colab supports various formatting options using Markdown. After editing a text cell, you can format the text, create lists, and more."
      ]
    },
    {
      "cell_type": "markdown",
      "metadata": {
        "id": "_tTwX7JcvFw9"
      },
      "source": [
        "**Question 1.** This paragraph is in its own text cell. Try editing it by adding your name at the end of the last sentence. Does your name appear correctly? If not, try formatting it using Markdown syntax or the Google Colab formatting options."
      ]
    },
    {
      "cell_type": "markdown",
      "metadata": {
        "id": "J8VsqfXpvFw-"
      },
      "source": [
        "## 1.2. Code cells\n",
        "Other cells contain code in the Python 3 language. Running a code cell will execute all of the code it contains.\n",
        "\n",
        "To run the code in a code cell, first click on that cell to activate it.  It'll be highlighted and ▶| will appear on the left side of the cell. Next, either press ▶| or hold down the `shift` key and press `return` or `enter`.\n",
        "\n",
        "Try running this cell:"
      ]
    },
    {
      "cell_type": "code",
      "execution_count": null,
      "metadata": {
        "id": "asU5rRZgvFw-",
        "outputId": "b222085a-539e-4e96-bde4-1edc94818745"
      },
      "outputs": [
        {
          "name": "stdout",
          "output_type": "stream",
          "text": [
            "Hello, World!\n"
          ]
        }
      ],
      "source": [
        "print(\"Hello, World!\")"
      ]
    },
    {
      "cell_type": "markdown",
      "metadata": {
        "id": "2APZFt0SvFw_"
      },
      "source": [
        "And this one:"
      ]
    },
    {
      "cell_type": "code",
      "execution_count": null,
      "metadata": {
        "id": "niRVsxIZvFw_",
        "outputId": "775f7117-3390-4d43-8c90-8f73df3590a7"
      },
      "outputs": [
        {
          "name": "stdout",
          "output_type": "stream",
          "text": [
            "For God, for country, and for Yale!\n"
          ]
        }
      ],
      "source": [
        "print(\"For God, for country, and for Yale!\")"
      ]
    },
    {
      "cell_type": "markdown",
      "metadata": {
        "id": "AimWd5sRvFxA"
      },
      "source": [
        "The fundamental building block of Python code is an expression. Cells can contain multiple lines with multiple expressions. When you run a cell, the lines of code are executed in the order in which they appear. Every `print` expression prints a line. Run the next cell and notice the order of the output."
      ]
    },
    {
      "cell_type": "code",
      "execution_count": null,
      "metadata": {
        "id": "YqL_sm-SvFxA",
        "outputId": "6530c167-2525-448a-c0d3-1ca340032a83"
      },
      "outputs": [
        {
          "name": "stdout",
          "output_type": "stream",
          "text": [
            "First this line is printed,\n",
            "and then this one.\n"
          ]
        }
      ],
      "source": [
        "print(\"First this line is printed,\")\n",
        "print(\"and then this one.\")"
      ]
    },
    {
      "cell_type": "markdown",
      "metadata": {
        "id": "O9KLSJ15vFxA"
      },
      "source": [
        "**Question 2.** Change the cell above so that it prints out:\n",
        "\n",
        "    First this line,\n",
        "    then the whole world,\n",
        "    and then this one."
      ]
    },
    {
      "cell_type": "markdown",
      "metadata": {
        "id": "09akqijNvFxA"
      },
      "source": [
        "Make sure you remember the quotation marks. Test out what happens if you try a `print` command without a quotation mark."
      ]
    },
    {
      "cell_type": "markdown",
      "metadata": {
        "id": "DGE8uj2pvFxA"
      },
      "source": [
        "## 1.3. Writing Jupyter notebooks\n",
        "You can use Jupyter notebooks for your own projects or documents.  When you make your own notebook, you'll need to create your own cells for text and code.\n",
        "\n",
        "To add a cell, go to top menu and click on Insert -> Code Cell or Insert -> Text cell. Alternatively, if a cell is already present click the + button in the menu bar and select + Code or + Text.\n",
        "\n",
        "**Question 3.** Add a code cell below this one.  Write code in it that prints out:\n",
        "   \n",
        "    A whole new cell!\n",
        "\n",
        "Run your cell to verify that it works."
      ]
    },
    {
      "cell_type": "markdown",
      "metadata": {
        "id": "UmxyqZ1xvFxB"
      },
      "source": [
        "## 1.4. Errors\n",
        "Python is a language, and like natural human languages, it has rules.  It differs from natural language in two important ways:\n",
        "1. The rules are *simple*.  You can learn most of them in a few weeks and gain reasonable proficiency with the language in a semester.\n",
        "2. The rules are *rigid*.  If you're proficient in a natural language, you can understand a non-proficient speaker, glossing over small mistakes.  A computer running Python code is not smart enough to do that.\n",
        "\n",
        "Whenever you write code, you'll make mistakes.  When you run a code cell that has errors, Python will sometimes produce error messages to tell you what you did wrong.\n",
        "\n",
        "Errors are okay; even experienced programmers make many errors.  When you make an error, you just have to find the source of the problem, fix it, and move on.\n",
        "\n",
        "We have made an error in the next cell.  Run it and see what happens."
      ]
    },
    {
      "cell_type": "code",
      "execution_count": null,
      "metadata": {
        "id": "uAZZ9BHAvFxB",
        "outputId": "71bcd2ba-50a0-45bd-8ec0-da677a64fc8e"
      },
      "outputs": [
        {
          "ename": "SyntaxError",
          "evalue": "unexpected EOF while parsing (<ipython-input-6-c7b7223ecd08>, line 1)",
          "output_type": "error",
          "traceback": [
            "\u001b[0;36m  File \u001b[0;32m\"<ipython-input-6-c7b7223ecd08>\"\u001b[0;36m, line \u001b[0;32m1\u001b[0m\n\u001b[0;31m    print(\"This line is missing something.\"\u001b[0m\n\u001b[0m                                           ^\u001b[0m\n\u001b[0;31mSyntaxError\u001b[0m\u001b[0;31m:\u001b[0m unexpected EOF while parsing\n"
          ]
        }
      ],
      "source": [
        "print(\"This line is missing something.\""
      ]
    },
    {
      "cell_type": "markdown",
      "metadata": {
        "id": "NtcmE-_MvFxB"
      },
      "source": [
        "You should see something like this (minus our annotations):\n",
        "\n",
        "<img src=\"https://raw.githubusercontent.com/joshuakalla/data_science_campaigns/master/Colab/Lab1/error.jpg\"/>\n",
        "\n",
        "The last line of the error output attempts to tell you what went wrong.  The *syntax* of a language is its structure, and this `SyntaxError` tells you that you have created an illegal structure.  \"`EOF`\" means \"end of file,\" so the message is saying Python expected you to write something more (in this case, a right parenthesis) before finishing the cell.\n",
        "\n",
        "There's a lot of terminology in programming languages, but you don't need to know it all in order to program effectively. If you see a cryptic message like this, you can often get by without deciphering it.\n",
        "\n",
        "And remember, *Google is your friend!* If you are stuck, always try copying the error into Google. Odds are by searching Google, you'll be able to come up with a solution. An important skill is to learn how to use Google effectively.\n",
        "\n",
        "**Question 4.** Try to fix the code above so that you can run the cell and see the intended message instead of an error."
      ]
    },
    {
      "cell_type": "markdown",
      "metadata": {
        "id": "PxxRPXChvFxB"
      },
      "source": [
        "## 1.5. The Kernel\n",
        "\n",
        "The kernel is the program that runs the code in your notebook and displays the results. After executing a code cell, you’ll see indicators showing the amount of RAM and disk space used by the kernel.\n",
        "\n",
        "If you encounter issues such as the kernel being stuck for too long, your notebook becoming slow and unresponsive, or losing connection to the kernel, try the following steps:\n",
        "\n",
        "1. At the top of your screen, click **Runtime**, then select **Interrupt execution**.\n",
        "2. If that doesn’t resolve the issue, click **Runtime**, then choose **Restart runtime**. Keep in mind that you’ll need to rerun all code cells from the beginning of the notebook up to the point where you paused. You can do this by selecting **Cell** in the top menu, then choosing **Run All Above**.\n",
        "3. If the problem persists, restart your server. First, save your work by clicking **File** in the top left, then **Save**. Next, go to **Runtime** and select **Disconnect and delete runtime** to shut it down. Afterward, click **Reconnect** in the top right to restart the server.\n"
      ]
    },
    {
      "cell_type": "markdown",
      "metadata": {
        "id": "zu6ppWN9vFxC"
      },
      "source": [
        "# 2. Numbers\n",
        "\n",
        "Quantitative information arises everywhere in data science. In addition to representing commands to print out lines, expressions can represent numbers and methods of combining numbers. The expression `3.2500` evaluates to the number 3.25. (Run the cell and see.)"
      ]
    },
    {
      "cell_type": "code",
      "execution_count": null,
      "metadata": {
        "id": "FOLPJW_dvFxC",
        "outputId": "61d448f1-d305-4fe5-aa10-c50944fba94c"
      },
      "outputs": [
        {
          "data": {
            "text/plain": [
              "3.25"
            ]
          },
          "execution_count": 7,
          "metadata": {},
          "output_type": "execute_result"
        }
      ],
      "source": [
        "3.2500"
      ]
    },
    {
      "cell_type": "markdown",
      "metadata": {
        "id": "hp126fvevFxC"
      },
      "source": [
        "Notice that we didn't have to `print`. When you run a notebook cell, if the last line has a value, then Jupyter helpfully prints out that value for you. However, it won't print out prior lines automatically."
      ]
    },
    {
      "cell_type": "code",
      "execution_count": null,
      "metadata": {
        "scrolled": true,
        "id": "lQWh6bb-vFxC",
        "outputId": "14be12de-d215-4d57-97b1-fe988d248e9c"
      },
      "outputs": [
        {
          "name": "stdout",
          "output_type": "stream",
          "text": [
            "2\n"
          ]
        },
        {
          "data": {
            "text/plain": [
              "4"
            ]
          },
          "execution_count": 3,
          "metadata": {},
          "output_type": "execute_result"
        }
      ],
      "source": [
        "print(2)\n",
        "3\n",
        "4"
      ]
    },
    {
      "cell_type": "markdown",
      "metadata": {
        "id": "QQZUC-4_vFxC"
      },
      "source": [
        "Above, you should see that 4 is the value of the last expression, 2 is printed, but 3 is not displayed because it was neither printed nor last.\n",
        "\n",
        "You don't want to print everything all the time anyway.  But if you feel sorry for 3, change the cell above to print it."
      ]
    },
    {
      "cell_type": "markdown",
      "metadata": {
        "id": "SZVg-n8mvFxC"
      },
      "source": [
        "## 2.1. Arithmetic\n",
        "The line in the next cell subtracts.  Its value is what you'd expect.  Run it."
      ]
    },
    {
      "cell_type": "code",
      "execution_count": null,
      "metadata": {
        "id": "kPnVb7tkvFxC",
        "outputId": "005c12e5-4275-4f87-9700-09663a899b41"
      },
      "outputs": [
        {
          "data": {
            "text/plain": [
              "1.75"
            ]
          },
          "execution_count": 9,
          "metadata": {},
          "output_type": "execute_result"
        }
      ],
      "source": [
        "3.25 - 1.5"
      ]
    },
    {
      "cell_type": "markdown",
      "metadata": {
        "id": "lwXTSrITvFxD"
      },
      "source": [
        "Many basic arithmetic operations are built in to Python.  The textbook section on [Expressions](https://inferentialthinking.com/chapters/03/1/Expressions.html) describes all the arithmetic operators used in the course.  The common operator that differs from typical math notation is `**`, which raises one number to the power of the other. So, `2**3` stands for $2^3$ and evaluates to 8.\n",
        "\n",
        "The order of operations is what you learned in elementary school, and Python also has parentheses."
      ]
    },
    {
      "cell_type": "code",
      "execution_count": null,
      "metadata": {
        "id": "Vk5cYBBuvFxD",
        "outputId": "50467011-cfd8-4d82-c14f-a3f98422f748"
      },
      "outputs": [
        {
          "data": {
            "text/plain": [
              "-725.0"
            ]
          },
          "execution_count": 10,
          "metadata": {},
          "output_type": "execute_result"
        }
      ],
      "source": [
        "1+6*5-6*3**2*2**3/4*7"
      ]
    },
    {
      "cell_type": "code",
      "execution_count": null,
      "metadata": {
        "id": "gBzZE0GgvFxD",
        "outputId": "b215908e-ca02-422b-ca0e-05132f5e99bc"
      },
      "outputs": [
        {
          "data": {
            "text/plain": [
              "2017.0"
            ]
          },
          "execution_count": 11,
          "metadata": {},
          "output_type": "execute_result"
        }
      ],
      "source": [
        "1+(6*5-(6*3))**2*((2**3)/4*7)"
      ]
    },
    {
      "cell_type": "markdown",
      "metadata": {
        "id": "EE-myhGLvFxD"
      },
      "source": [
        "In standard math notation, the first expression is\n",
        "\n",
        "$$1 + 6 \\times 5 - 6 \\times 3^2 \\times \\frac{2^3}{4} \\times 7,$$\n",
        "\n",
        "while the second expression is\n",
        "\n",
        "$$1 + (6 \\times 5 - (6 \\times 3))^2 \\times (\\frac{(2^3)}{4} \\times 7).$$\n",
        "\n",
        "**Question 5.** Write a Python expression in this next cell that's equal to $5 \\times (\\frac{3}{11}) - 50 + 2^{.5 \\times 22} - \\frac{7}{33}$.\n",
        "\n",
        "Replace the ellipses (`...`) with your expression."
      ]
    },
    {
      "cell_type": "code",
      "execution_count": null,
      "metadata": {
        "id": "YzylhTmbvFxD",
        "outputId": "b164e068-7417-4485-8990-9e96667fbee4"
      },
      "outputs": [
        {
          "data": {
            "text/plain": [
              "Ellipsis"
            ]
          },
          "execution_count": 12,
          "metadata": {},
          "output_type": "execute_result"
        }
      ],
      "source": [
        "..."
      ]
    },
    {
      "cell_type": "markdown",
      "metadata": {
        "id": "R-kkoNtcvFxD"
      },
      "source": [
        "# 3. Names\n",
        "In natural language, we have terminology that lets us quickly reference very complicated concepts.  We don't say, \"That's a large mammal with brown fur and sharp teeth!\"  Instead, we just say, \"Bear!\"\n",
        "\n",
        "Similarly, an effective strategy for writing code is to define names for data as we compute it, like a lawyer would define terms for complex ideas at the start of a legal document to simplify the rest of the writing.\n",
        "\n",
        "In Python, we do this with *assignment statements*. An assignment statement has a name on the left side of an `=` sign and an expression to be evaluated on the right."
      ]
    },
    {
      "cell_type": "code",
      "execution_count": null,
      "metadata": {
        "id": "BakFI8z0vFxD"
      },
      "outputs": [],
      "source": [
        "ten = (3 * 2) + 4"
      ]
    },
    {
      "cell_type": "markdown",
      "metadata": {
        "id": "n9JyYGTQvFxD"
      },
      "source": [
        "When you run that cell, Python first evaluates the first line.  It computes the value of the expression `(3 * 2) + 4`, which is the number 10.  Then it gives that value the name `ten`.  At that point, the code in the cell is done running.\n",
        "\n",
        "After you run that cell, the value 10 is bound to the name `ten`:"
      ]
    },
    {
      "cell_type": "code",
      "execution_count": null,
      "metadata": {
        "id": "A9yBsba7vFxE",
        "outputId": "e38cd343-257d-4df5-941f-ae1816b4787f"
      },
      "outputs": [
        {
          "data": {
            "text/plain": [
              "10"
            ]
          },
          "execution_count": 7,
          "metadata": {},
          "output_type": "execute_result"
        }
      ],
      "source": [
        "ten"
      ]
    },
    {
      "cell_type": "markdown",
      "metadata": {
        "id": "AjCeJ9c3vFxE"
      },
      "source": [
        "The statement `ten = (3 * 2) + 4` is not asserting that `ten` is already equal to `(3 * 2) + 4`, as we might expect by analogy with math notation.  Rather, that line of code changes what `ten` means; it now refers to the value 10, whereas before it meant nothing at all.\n",
        "\n",
        "If the designers of Python had been ruthlessly pedantic, they might have made us write\n",
        "\n",
        "    define the name ten to hereafter have the value of (3 * 2) + 4\n",
        "\n",
        "instead.  You will probably appreciate the brevity of \"`=`\"!  But keep in mind that this is the real meaning.\n",
        "\n",
        "**Question 6.** Try writing code that uses a name (like `eleven`) that hasn't been assigned to anything.  You'll see an error!\n",
        "\n",
        "Before you submit this code, you'll need to fix this error. Assign `eleven` the number 11. If you don't fix the error, your lab might not export properly when you go to submit."
      ]
    },
    {
      "cell_type": "code",
      "execution_count": null,
      "metadata": {
        "collapsed": true,
        "jupyter": {
          "outputs_hidden": true
        },
        "id": "tPJY6cVVvFxE"
      },
      "outputs": [],
      "source": [
        "# your code here"
      ]
    },
    {
      "cell_type": "markdown",
      "metadata": {
        "id": "EUl3PigbvFxF"
      },
      "source": [
        "A common pattern in Jupyter notebooks is to assign a value to a name and then immediately evaluate the name in the last line in the cell so that the value is displayed as output."
      ]
    },
    {
      "cell_type": "code",
      "execution_count": null,
      "metadata": {
        "id": "LfW4EnLsvFxF",
        "outputId": "4378e7d2-a02c-46a4-8d00-64ff31dce2ae"
      },
      "outputs": [
        {
          "data": {
            "text/plain": [
              "3.1415929203539825"
            ]
          },
          "execution_count": 15,
          "metadata": {},
          "output_type": "execute_result"
        }
      ],
      "source": [
        "close_to_pi = 355/113\n",
        "close_to_pi"
      ]
    },
    {
      "cell_type": "markdown",
      "metadata": {
        "id": "pWTJqO7_vFxF"
      },
      "source": [
        "Another common pattern is that a series of lines in a single cell will build up a complex computation in stages, naming the intermediate results. Writing code likes this can make it easier for your future self to understand what you were doing at the time. It also helps if any of your inputs change, such as getting a raise."
      ]
    },
    {
      "cell_type": "code",
      "execution_count": null,
      "metadata": {
        "id": "SvvuqUERvFxF",
        "outputId": "3697e4dc-75e7-444e-b19e-834e14e2b12a"
      },
      "outputs": [
        {
          "data": {
            "text/plain": [
              "20160"
            ]
          },
          "execution_count": 9,
          "metadata": {},
          "output_type": "execute_result"
        }
      ],
      "source": [
        "bimonthly_salary = 840\n",
        "monthly_salary = 2 * bimonthly_salary\n",
        "number_of_months_in_a_year = 12\n",
        "yearly_salary = number_of_months_in_a_year * monthly_salary\n",
        "yearly_salary"
      ]
    },
    {
      "cell_type": "markdown",
      "metadata": {
        "id": "D_yldV14vFxG"
      },
      "source": [
        "Names in Python can have letters (upper- and lower-case letters are both okay and count as different letters), underscores, and numbers.  The first character can't be a number (otherwise a name might look like a number).  And names can't contain spaces, since spaces are used to separate pieces of code from each other.\n",
        "\n",
        "Other than those rules, what you name something doesn't matter *to Python*.  For example, this cell does the same thing as the above cell, except everything has a different name:"
      ]
    },
    {
      "cell_type": "code",
      "execution_count": null,
      "metadata": {
        "id": "Z2rP5Rd7vFxG",
        "outputId": "c3142f18-0e30-44a3-df2e-a56dd763e3bf"
      },
      "outputs": [
        {
          "data": {
            "text/plain": [
              "20160"
            ]
          },
          "execution_count": 8,
          "metadata": {},
          "output_type": "execute_result"
        }
      ],
      "source": [
        "a = 840\n",
        "b = 2 * a\n",
        "c = 12\n",
        "d = c * b\n",
        "d"
      ]
    },
    {
      "cell_type": "markdown",
      "metadata": {
        "id": "0Ve1xUu1vFxG"
      },
      "source": [
        "**However**, names are very important for making your code *readable* to yourself and others.  The cell above is shorter, but it's totally useless without an explanation of what it does. Please always make sure you use useful, interpretable names. Please do not call things `var1`, `var2`, etc. You will lose points for that. Your names should be clear, obvious, and intuitive. Remember, you are not just writing code for yourself. You are often writing code for colleagues who do not have the same understanding of the code as you. Make your code easy to understand. Your code shouldn't be adversarial. Good code is like good writing!"
      ]
    },
    {
      "cell_type": "markdown",
      "metadata": {
        "id": "2btMIq24vFxG"
      },
      "source": [
        "**Question 7.** Assign the name `seconds_in_a_decade` to the number of seconds between midnight January 1, 2010 and midnight January 1, 2020. Don't forget about leap years! And remember, Google is your friend."
      ]
    },
    {
      "cell_type": "code",
      "execution_count": null,
      "metadata": {
        "id": "TAi_1AqyvFxG",
        "outputId": "5087972b-f601-4fdf-f2a2-e6542e9668b0"
      },
      "outputs": [
        {
          "data": {
            "text/plain": [
              "Ellipsis"
            ]
          },
          "execution_count": 10,
          "metadata": {},
          "output_type": "execute_result"
        }
      ],
      "source": [
        "# Change the next line so that it computes the number of\n",
        "# seconds in a decade and assigns that number the name\n",
        "# seconds_in_a_decade.\n",
        "seconds_in_a_decade = ...\n",
        "\n",
        "# We've put this line in this cell so that it will print\n",
        "# the value you've given to seconds_in_a_decade when you\n",
        "# run it.  You don't need to change this.\n",
        "seconds_in_a_decade"
      ]
    },
    {
      "cell_type": "markdown",
      "metadata": {
        "id": "yal5D6oRvFxG"
      },
      "source": [
        "## 3.1. Comments\n",
        "You may have noticed this line in the cell above:\n",
        "\n",
        "    # We've put this line in this cell so that it will print\n",
        "\n",
        "That is called a *comment*.  It doesn't make anything happen in Python; Python ignores anything on a line after a #.  Instead, it's there to communicate something about the code to you, the human reader.  Comments are extremely useful.\n",
        "\n",
        "<img src=\"http://imgs.xkcd.com/comics/future_self.png\">"
      ]
    },
    {
      "cell_type": "markdown",
      "metadata": {
        "id": "pGd43ekovFxH"
      },
      "source": [
        "## 3.2. Application: Number of voters needed to win\n",
        "\n",
        "Everything you do during the campaign, from knocking on a door, to sending out a tweet, should be in service of reaching your win number on Election Day. Time, people, and money are every campaign’s most important resources. In order to make sure those resources are used in the most efficient and effective way possible, we use targeting. Targeting starts with knowing how many votes you’ll need to win. So let’s get to work!"
      ]
    },
    {
      "cell_type": "markdown",
      "metadata": {
        "id": "6HvVamF5vFxH"
      },
      "source": [
        "**Question 8.** Assume that the percentage of voter turnout from the last three similar elections has been 40%, 45%, and 52%. What has the **average** voter turnout been?"
      ]
    },
    {
      "cell_type": "code",
      "execution_count": null,
      "metadata": {
        "id": "huDATu5LvFxH",
        "outputId": "85140d40-7d9b-43f5-a322-ae105061a67b"
      },
      "outputs": [
        {
          "data": {
            "text/plain": [
              "Ellipsis"
            ]
          },
          "execution_count": 6,
          "metadata": {},
          "output_type": "execute_result"
        }
      ],
      "source": [
        "average_turnout = ...\n",
        "average_turnout"
      ]
    },
    {
      "cell_type": "markdown",
      "metadata": {
        "id": "ynDMI3cSvFxH"
      },
      "source": [
        "**Question 9.** Assume there are 14,527 people registered to vote. How many people do you expect to vote in this election?"
      ]
    },
    {
      "cell_type": "code",
      "execution_count": null,
      "metadata": {
        "id": "WRyLXRfFvFxH",
        "outputId": "f9ea92b5-3252-4400-c086-69f8b6e61a34"
      },
      "outputs": [
        {
          "data": {
            "text/plain": [
              "Ellipsis"
            ]
          },
          "execution_count": 1,
          "metadata": {},
          "output_type": "execute_result"
        }
      ],
      "source": [
        "expected_turnout = ...\n",
        "expected_turnout"
      ]
    },
    {
      "cell_type": "markdown",
      "metadata": {
        "id": "4R8wMLmsvFxH"
      },
      "source": [
        "**Question 10.** How many votes do you need to get in order to win? Please explain."
      ]
    },
    {
      "cell_type": "markdown",
      "metadata": {
        "id": "YSRITxpjvFxH"
      },
      "source": [
        "**Enter your answer by double-clicking on this block. Delete this text and replace it with your answer.**"
      ]
    },
    {
      "cell_type": "markdown",
      "metadata": {
        "id": "H3NUcxrzvFxH"
      },
      "source": [
        "## 4. Calling functions\n",
        "\n",
        "The most common way to combine or manipulate values in Python is by calling functions. Python comes with many built-in functions that perform common operations.\n",
        "\n",
        "For example, the `abs` function takes a single number as its argument and returns the absolute value of that number.  The absolute value of a number is its distance from 0 on the number line, so `abs(5)` is 5 and `abs(-5)` is also 5."
      ]
    },
    {
      "cell_type": "code",
      "execution_count": null,
      "metadata": {
        "id": "NANnzx_xvFxH",
        "outputId": "4b7c5036-b1a8-4409-8e6b-98461ab0f523"
      },
      "outputs": [
        {
          "data": {
            "text/plain": [
              "5"
            ]
          },
          "execution_count": 11,
          "metadata": {},
          "output_type": "execute_result"
        }
      ],
      "source": [
        "abs(5)"
      ]
    },
    {
      "cell_type": "code",
      "execution_count": null,
      "metadata": {
        "id": "HS4sQ6QRvFxH",
        "outputId": "4c600b41-55a8-4717-ae34-d814ebe92b03"
      },
      "outputs": [
        {
          "data": {
            "text/plain": [
              "5"
            ]
          },
          "execution_count": 12,
          "metadata": {},
          "output_type": "execute_result"
        }
      ],
      "source": [
        "abs(-5)"
      ]
    },
    {
      "cell_type": "markdown",
      "metadata": {
        "id": "hd26Py8bvFxH"
      },
      "source": [
        "## 4.1. Application: Computing walking distances\n",
        "Chunhua is on the corner of 7th Avenue and 42nd Street in Midtown Manhattan, and she wants to know how far she'd have to walk to get to Gramercy School on the corner of 10th Avenue and 34th Street.\n",
        "\n",
        "She can't cut across blocks diagonally, since there are buildings in the way.  She has to walk along the sidewalks.  Using the map below, she sees she'd have to walk 3 avenues (long blocks) and 8 streets (short blocks).  In terms of the given numbers, she computed 3 as the difference between 7 and 10, *in absolute value*, and 8 similarly.  \n",
        "\n",
        "Chunhua also knows that blocks in Manhattan are all about 80m by 274m (avenues are farther apart than streets).  So in total, she'd have to walk $(80 \\times |42 - 34| + 274 \\times |7 - 10|)$ meters to get to the park.\n",
        "\n",
        "<img src=\"https://raw.githubusercontent.com/joshuakalla/data_science_campaigns/master/Colab/Lab1/map.jpg\"/>\n",
        "\n",
        "**Question 11.** Finish the line `num_avenues_away = ...` in the next cell so that the cell calculates the distance Chunhua must walk and gives it the name `manhattan_distance`.  Everything else has been filled in for you.  **Use the `abs` function.**"
      ]
    },
    {
      "cell_type": "code",
      "execution_count": null,
      "metadata": {
        "collapsed": true,
        "jupyter": {
          "outputs_hidden": true
        },
        "id": "9QMqOOlyvFxH"
      },
      "outputs": [],
      "source": [
        "# Here's the number of streets away:\n",
        "num_streets_away = abs(42-34)\n",
        "\n",
        "# Compute the number of avenues away in a similar way:\n",
        "num_avenues_away = ...\n",
        "\n",
        "street_length_m = 80\n",
        "avenue_length_m = 274\n",
        "\n",
        "# Now we compute the total distance Chunhua must walk.\n",
        "manhattan_distance = street_length_m*num_streets_away + avenue_length_m*num_avenues_away\n",
        "\n",
        "# We've included this line so that you see the distance\n",
        "# you've computed when you run this cell.  You don't need\n",
        "# to change it, but you can if you want.\n",
        "manhattan_distance"
      ]
    },
    {
      "cell_type": "markdown",
      "metadata": {
        "id": "86BNMLafvFxI"
      },
      "source": [
        "##### Multiple arguments\n",
        "Some functions take multiple arguments, separated by commas. For example, the built-in `max` function returns the maximum argument passed to it."
      ]
    },
    {
      "cell_type": "code",
      "execution_count": null,
      "metadata": {
        "id": "zAFEmPqTvFxI",
        "outputId": "9548f773-3825-4a53-f5d5-a257c6106acc"
      },
      "outputs": [
        {
          "data": {
            "text/plain": [
              "4"
            ]
          },
          "execution_count": 13,
          "metadata": {},
          "output_type": "execute_result"
        }
      ],
      "source": [
        "max(2, -3, 4, -5)"
      ]
    },
    {
      "cell_type": "markdown",
      "metadata": {
        "id": "QNOCQQdlvFxI"
      },
      "source": [
        "# 5. Understanding nested expressions\n",
        "Function calls and arithmetic expressions can themselves contain expressions.  You saw an example in the last question:\n",
        "\n",
        "    abs(42-34)\n",
        "\n",
        "has 2 number expressions in a subtraction expression in a function call expression.  And you probably wrote something like `abs(7-10)` to compute `num_avenues_away`.\n",
        "\n",
        "Nested expressions can turn into complicated-looking code. However, the way in which complicated expressions break down is very regular.\n",
        "\n",
        "Suppose we are interested in heights that are very unusual.  We'll say that a height is unusual to the extent that it's far away on the number line from the average human height.  [An estimate](http://press.endocrine.org/doi/full/10.1210/jcem.86.9.7875?ck=nck&) of the average adult human height (averaging, we hope, over all humans on Earth today) is 1.688 meters.\n",
        "\n",
        "So if Aditya is 1.21 meters tall, then his height is $|1.21 - 1.688|$, or $.478$, meters away from the average.  Here's a picture of that:\n",
        "\n",
        "<img src=\"https://raw.githubusercontent.com/joshuakalla/data_science_campaigns/master/Colab/Lab1/numberline_0.png\">\n",
        "\n",
        "And here's how we'd write that in one line of Python code:"
      ]
    },
    {
      "cell_type": "code",
      "execution_count": null,
      "metadata": {
        "collapsed": true,
        "jupyter": {
          "outputs_hidden": true
        },
        "id": "p8vyjOPuvFxI"
      },
      "outputs": [],
      "source": [
        "abs(1.21 - 1.688)"
      ]
    },
    {
      "cell_type": "markdown",
      "metadata": {
        "id": "JbiI7T39vFxI"
      },
      "source": [
        "What's going on here?  `abs` takes just one argument, so the stuff inside the parentheses is all part of that *single argument*.  Specifically, the argument is the value of the expression `1.21 - 1.688`.  The value of that expression is `-.478`.  That value is the argument to `abs`.  The absolute value of that is `.478`, so `.478` is the value of the full expression `abs(1.21 - 1.688)`.\n",
        "\n",
        "Picture simplifying the expression in several steps:\n",
        "\n",
        "1. `abs(1.21 - 1.688)`\n",
        "2. `abs(-.478)`\n",
        "3. `.478`\n",
        "\n",
        "In fact, that's basically what Python does to compute the value of the expression."
      ]
    },
    {
      "cell_type": "markdown",
      "metadata": {
        "id": "EGuCVw3UvFxI"
      },
      "source": [
        "**Question 12.** Say that Botan's height is 1.85 meters.  In the next cell, use `abs` to compute the absolute value of the difference between Botan's height and the average human height.  Give that value the name `botan_distance_from_average_m`.\n",
        "\n",
        "<img src=\"https://raw.githubusercontent.com/joshuakalla/data_science_campaigns/master/Colab/Lab1/numberline_1.png\">"
      ]
    },
    {
      "cell_type": "code",
      "execution_count": null,
      "metadata": {
        "collapsed": true,
        "jupyter": {
          "outputs_hidden": true
        },
        "id": "0hzFh_RyvFxI"
      },
      "outputs": [],
      "source": [
        "# Replace the ... with an expression to compute the absolute\n",
        "# value of the difference between Botan's height (1.85m) and\n",
        "# the average human height.\n",
        "botan_distance_from_average_m = ...\n",
        "\n",
        "# Again, we've written this here so that the distance you\n",
        "# compute will get printed when you run this cell.\n",
        "botan_distance_from_average_m"
      ]
    },
    {
      "cell_type": "markdown",
      "metadata": {
        "id": "ZLquDq9AvFxI"
      },
      "source": [
        "## 5.1. More nesting\n",
        "Now say that we want to compute the most unusual height among Aditya's and Botan's heights.  We'll use the function `max`, which (again) takes two (or more) numbers as arguments and returns the larger of the two arguments.  Combining that with the `abs` function, we can compute the biggest distance from the average among the two heights:"
      ]
    },
    {
      "cell_type": "code",
      "execution_count": null,
      "metadata": {
        "id": "x16sqr03vFxI",
        "outputId": "7b757734-0a4a-456f-9203-ff2a2f7c0163"
      },
      "outputs": [
        {
          "name": "stdout",
          "output_type": "stream",
          "text": [
            "The biggest distance from the average height among these two people is 0.478 meters.\n"
          ]
        }
      ],
      "source": [
        "# Just read and run this cell.\n",
        "\n",
        "aditya_height_m = 1.21\n",
        "botan_height_m = 1.85\n",
        "average_adult_human_height_m = 1.688\n",
        "\n",
        "# The biggest distance from the average human height, among the two heights:\n",
        "biggest_distance_m = max(abs(aditya_height_m - average_adult_human_height_m), abs(botan_height_m - average_adult_human_height_m))\n",
        "\n",
        "# Print out our results in a nice readable format:\n",
        "print(\"The biggest distance from the average height among these two people is\", biggest_distance_m, \"meters.\")"
      ]
    },
    {
      "cell_type": "markdown",
      "metadata": {
        "id": "TnNiss2wvFxI"
      },
      "source": [
        "The line where `biggest_distance_m` is computed looks complicated, but we can break it down into simpler components just like we did before.\n",
        "\n",
        "The basic recipe is repeated simplification of small parts of the expression:\n",
        "* We start with the simplest components whose values we know, like plain names or numbers.  (Examples: `aditya_height_m` or `5`.)\n",
        "* **Find a simple-enough group of expressions:** We look for a group of simple expressions that are directly connected to each other in the code, for example by arithmetic or as arguments to a function call.\n",
        "* **Evaluate that group:** We evaluate the arithmetic expressions or function calls they're part of, and replace the whole group with whatever we compute.  (Example: `aditya_height_m - average_adult_human_height_m` becomes `-.478`.)\n",
        "* **Repeat:** We continue this process, using the values of the glommed-together stuff as our new basic components.  (Example: `abs(-.478)` becomes `.478`, and `max(.478, .162)` later becomes `.478`.)\n",
        "* We keep doing that until we've evaluated the whole expression."
      ]
    },
    {
      "cell_type": "markdown",
      "metadata": {
        "id": "EfzHgFy4vFxI"
      },
      "source": [
        "Ok, your turn.\n",
        "\n",
        "**Question 13.** Given the heights of three basketball players, write an expression that computes the smallest difference between any of the three heights. Your expression shouldn't have any numbers in it, only function calls and the names `klay`, `steph`, and `kevin`. Give the value of your expression the name `min_height_difference`. Since you're trying to find the smallest difference, you'll want to use a function that returns the smallest value. (*Hint*: the function name is intuitive, but don't hesitate to use Google for help!)"
      ]
    },
    {
      "cell_type": "code",
      "execution_count": null,
      "metadata": {
        "id": "CzEBUN_ZvFxJ"
      },
      "outputs": [],
      "source": [
        "# The three players' heights, in meters:\n",
        "klay =  2.01 # Klay Thompson is 6'7\"\n",
        "steph = 1.91 # Steph Curry is 6'3\"\n",
        "kevin = 2.06 # Kevin Durant is officially 6'9\", but many suspect that he is taller.\n",
        "\n",
        "# We'd like to look at all 3 pairs of heights, compute the absolute\n",
        "# difference between each pair, and then find the smallest of those\n",
        "# 3 absolute differences.  This is left to you!  If you're stuck,\n",
        "# try computing the value for each step of the process (like the\n",
        "# difference between Klay's heigh and Steph's height) on a separate\n",
        "# line and giving it a name (like klay_steph_height_diff).\n",
        "min_height_difference = ..."
      ]
    },
    {
      "cell_type": "markdown",
      "metadata": {
        "id": "hsENGzcovFxJ"
      },
      "source": [
        "# Congratulations!\n",
        "\n",
        "You are done with the lab. Before you finish and submit, please fill out this brief evaluation:\n",
        "\n",
        "- I spent around XXXX hours on this lab,.\n",
        "- This lab was (too easy, too hard, just about the right difficulty).\n",
        "\n",
        "All assignments in the course will be distributed as notebooks like this one, and you will submit your work as a PDF. After you open your notebook, first **Save** your work. Then, in the top menu select **Cell** then **Run All**. Then, in the top menu select **Print**. In the print preview that appears, choose **Save as PDF** from the dropdown menu of available printers. This should download a PDF of your notebook. Before you submit it, inspect the PDF to make sure everything printed and downloaded correctly. Sometimes you need to repeat this procedure 2-3 times. After you have your PDF, please rename it to LASTNAME_FIRSTNAME_LAB#.pdf. So for this lab, I would call it Kalla_Josh_Lab1.pdf. Once you have your PDF, you can then upload it to Canvas.\n",
        "\n",
        "If you run into any issues, please reach out for help"
      ]
    }
  ],
  "metadata": {
    "anaconda-cloud": {},
    "kernelspec": {
      "display_name": "Python 3 (ipykernel)",
      "language": "python",
      "name": "python3"
    },
    "language_info": {
      "codemirror_mode": {
        "name": "ipython",
        "version": 3
      },
      "file_extension": ".py",
      "mimetype": "text/x-python",
      "name": "python",
      "nbconvert_exporter": "python",
      "pygments_lexer": "ipython3",
      "version": "3.12.5"
    },
    "colab": {
      "provenance": []
    }
  },
  "nbformat": 4,
  "nbformat_minor": 0
}